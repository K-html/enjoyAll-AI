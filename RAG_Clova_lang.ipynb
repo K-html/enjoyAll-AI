{
 "cells": [
  {
   "cell_type": "markdown",
   "metadata": {},
   "source": [
    "## RAG_Clova"
   ]
  },
  {
   "cell_type": "markdown",
   "metadata": {},
   "source": [
    "#### Env"
   ]
  },
  {
   "cell_type": "markdown",
   "metadata": {},
   "source": [
    "Python Version : Python 3.12.2\n",
    "\n",
    "requirements : \n",
    "https://ssl.pstatic.net/static/clova/service/hyperclova/cookbook/rag/requirements.txt"
   ]
  },
  {
   "cell_type": "code",
   "execution_count": 1,
   "metadata": {},
   "outputs": [],
   "source": [
    "# Vector DB인 Milvus와 관련된 모듈들은 모듈의 용도를 명확히 구분하기 위해 Vector DB 구축 단계에서 불러왔으며 해당 부분에서 코드를 확인하실 수 있습니다.\n",
    "import json\n",
    "import os\n",
    "import subprocess\n",
    "from langchain_community.document_loaders import UnstructuredHTMLLoader\n",
    "from pathlib import Path\n",
    "import base64\n",
    "import http.client\n",
    "from tqdm import tqdm\n",
    "import requests\n",
    "import dotenv\n",
    "dotenv.load_dotenv()\n",
    "CLOVA_api_key=os.getenv(\"X-NCP-CLOVASTUDIO-API-KEY\")\n",
    "NCP_API_api_key=os.getenv(\"X-NCP-APIGW-API-KEY\")\n",
    "clova_REQUEST_ID=os.getenv(\"X-NCP-CLOVASTUDIO-REQUEST-ID\")"
   ]
  },
  {
   "cell_type": "markdown",
   "metadata": {},
   "source": [
    "#### 1. Raw Data → Connecting"
   ]
  },
  {
   "cell_type": "code",
   "execution_count": 2,
   "metadata": {},
   "outputs": [
    {
     "name": "stderr",
     "output_type": "stream",
     "text": [
      "--2024-08-22 19:59:05--  https://guide.ncloud-docs.com/docs/clovastudio-info\n",
      "Resolving guide.ncloud-docs.com (guide.ncloud-docs.com)... 104.18.6.159, 104.18.7.159\n",
      "Connecting to guide.ncloud-docs.com (guide.ncloud-docs.com)|104.18.6.159|:443... connected.\n",
      "HTTP request sent, awaiting response... 403 Forbidden\n",
      "2024-08-22 19:59:05 ERROR 403: Forbidden.\n",
      "\n"
     ]
    },
    {
     "ename": "CalledProcessError",
     "evalue": "Command '['/opt/homebrew/bin/wget', '-O', 'clovastudioguide/clovastudio-info.html', 'https://guide.ncloud-docs.com/docs/clovastudio-info']' returned non-zero exit status 8.",
     "output_type": "error",
     "traceback": [
      "\u001b[0;31m---------------------------------------------------------------------------\u001b[0m",
      "\u001b[0;31mCalledProcessError\u001b[0m                        Traceback (most recent call last)",
      "Cell \u001b[0;32mIn[2], line 14\u001b[0m\n\u001b[1;32m     12\u001b[0m     filename \u001b[38;5;241m=\u001b[39m url\u001b[38;5;241m.\u001b[39msplit(\u001b[38;5;124m\"\u001b[39m\u001b[38;5;124m/\u001b[39m\u001b[38;5;124m\"\u001b[39m)[\u001b[38;5;241m-\u001b[39m\u001b[38;5;241m1\u001b[39m] \u001b[38;5;241m+\u001b[39m \u001b[38;5;124m\"\u001b[39m\u001b[38;5;124m.html\u001b[39m\u001b[38;5;124m\"\u001b[39m\n\u001b[1;32m     13\u001b[0m     file_path \u001b[38;5;241m=\u001b[39m os\u001b[38;5;241m.\u001b[39mpath\u001b[38;5;241m.\u001b[39mjoin(folder_path, filename)\n\u001b[0;32m---> 14\u001b[0m     \u001b[43msubprocess\u001b[49m\u001b[38;5;241;43m.\u001b[39;49m\u001b[43mrun\u001b[49m\u001b[43m(\u001b[49m\u001b[43m[\u001b[49m\u001b[43mwget_path\u001b[49m\u001b[43m,\u001b[49m\u001b[43m \u001b[49m\u001b[38;5;124;43m\"\u001b[39;49m\u001b[38;5;124;43m-O\u001b[39;49m\u001b[38;5;124;43m\"\u001b[39;49m\u001b[43m,\u001b[49m\u001b[43m \u001b[49m\u001b[43mfile_path\u001b[49m\u001b[43m,\u001b[49m\u001b[43m \u001b[49m\u001b[43murl\u001b[49m\u001b[43m]\u001b[49m\u001b[43m,\u001b[49m\u001b[43m \u001b[49m\u001b[43mcheck\u001b[49m\u001b[38;5;241;43m=\u001b[39;49m\u001b[38;5;28;43;01mTrue\u001b[39;49;00m\u001b[43m)\u001b[49m\n\u001b[1;32m     15\u001b[0m     url_to_filename_map[url] \u001b[38;5;241m=\u001b[39m filename\n\u001b[1;32m     17\u001b[0m \u001b[38;5;28;01mwith\u001b[39;00m \u001b[38;5;28mopen\u001b[39m(\u001b[38;5;124m\"\u001b[39m\u001b[38;5;124murl_to_filename_map.json\u001b[39m\u001b[38;5;124m\"\u001b[39m, \u001b[38;5;124m\"\u001b[39m\u001b[38;5;124mw\u001b[39m\u001b[38;5;124m\"\u001b[39m) \u001b[38;5;28;01mas\u001b[39;00m map_file:\n",
      "File \u001b[0;32m/opt/anaconda3/envs/clova-env/lib/python3.12/subprocess.py:571\u001b[0m, in \u001b[0;36mrun\u001b[0;34m(input, capture_output, timeout, check, *popenargs, **kwargs)\u001b[0m\n\u001b[1;32m    569\u001b[0m     retcode \u001b[38;5;241m=\u001b[39m process\u001b[38;5;241m.\u001b[39mpoll()\n\u001b[1;32m    570\u001b[0m     \u001b[38;5;28;01mif\u001b[39;00m check \u001b[38;5;129;01mand\u001b[39;00m retcode:\n\u001b[0;32m--> 571\u001b[0m         \u001b[38;5;28;01mraise\u001b[39;00m CalledProcessError(retcode, process\u001b[38;5;241m.\u001b[39margs,\n\u001b[1;32m    572\u001b[0m                                  output\u001b[38;5;241m=\u001b[39mstdout, stderr\u001b[38;5;241m=\u001b[39mstderr)\n\u001b[1;32m    573\u001b[0m \u001b[38;5;28;01mreturn\u001b[39;00m CompletedProcess(process\u001b[38;5;241m.\u001b[39margs, retcode, stdout, stderr)\n",
      "\u001b[0;31mCalledProcessError\u001b[0m: Command '['/opt/homebrew/bin/wget', '-O', 'clovastudioguide/clovastudio-info.html', 'https://guide.ncloud-docs.com/docs/clovastudio-info']' returned non-zero exit status 8."
     ]
    }
   ],
   "source": [
    "url_to_filename_map = {}\n",
    "wget_path=\"/opt/homebrew/bin/wget\"\n",
    "with open(\"clovastudiourl.txt\", \"r\") as file:\n",
    "    urls = [url.strip() for url in file.readlines()]\n",
    " \n",
    "folder_path = \"clovastudioguide\"\n",
    " \n",
    "if not os.path.exists(folder_path):\n",
    "    os.makedirs(folder_path)\n",
    "\n",
    "for url in urls:\n",
    "    filename = url.split(\"/\")[-1] + \".html\"\n",
    "    file_path = os.path.join(folder_path, filename)\n",
    "    subprocess.run([wget_path, \"-O\", file_path, url], check=True)\n",
    "    url_to_filename_map[url] = filename\n",
    " \n",
    "with open(\"url_to_filename_map.json\", \"w\") as map_file:\n",
    "    json.dump(url_to_filename_map, map_file)"
   ]
  },
  {
   "cell_type": "code",
   "execution_count": 2,
   "metadata": {},
   "outputs": [
    {
     "name": "stderr",
     "output_type": "stream",
     "text": [
      "Downloading: 100%|██████████| 7/7 [00:04<00:00,  1.48it/s]"
     ]
    },
    {
     "name": "stdout",
     "output_type": "stream",
     "text": [
      "Download complete. Mapping saved to url_to_filename_map.json\n"
     ]
    },
    {
     "name": "stderr",
     "output_type": "stream",
     "text": [
      "\n"
     ]
    }
   ],
   "source": [
    "import os\n",
    "import json\n",
    "import requests\n",
    "from tqdm import tqdm\n",
    "\n",
    "url_to_filename_map = {}\n",
    "folder_path = \"clovastudioguide\"\n",
    "\n",
    "with open(\"clovastudiourl.txt\", \"r\") as file:\n",
    "    urls = [url.strip() for url in file.readlines()]\n",
    "\n",
    "if not os.path.exists(folder_path):\n",
    "    os.makedirs(folder_path)\n",
    "\n",
    "headers = {\n",
    "    \"User-Agent\": \"Mozilla/5.0 (Windows NT 10.0; Win64; x64) AppleWebKit/537.36 (KHTML, like Gecko) Chrome/91.0.4472.124 Safari/537.36\"\n",
    "}\n",
    "\n",
    "for url in tqdm(urls, desc=\"Downloading\"):\n",
    "    filename = url.split(\"/\")[-1] + \".html\"\n",
    "    file_path = os.path.join(folder_path, filename)\n",
    "    \n",
    "    try:\n",
    "        response = requests.get(url, headers=headers)\n",
    "        response.raise_for_status()\n",
    "        \n",
    "        with open(file_path, \"wb\") as file:\n",
    "            file.write(response.content)\n",
    "        \n",
    "        url_to_filename_map[url] = filename\n",
    "\n",
    "    except requests.RequestException as e:\n",
    "        print(f\"An error occurred while downloading {url}: {e}\")\n",
    "\n",
    "with open(\"url_to_filename_map.json\", \"w\") as map_file:\n",
    "    json.dump(url_to_filename_map, map_file, indent=4)\n",
    "\n",
    "print(\"Download complete. Mapping saved to url_to_filename_map.json\")\n"
   ]
  },
  {
   "cell_type": "markdown",
   "metadata": {},
   "source": [
    "##### Quote"
   ]
  },
  {
   "cell_type": "markdown",
   "metadata": {},
   "source": [
    "txt 파일을 작성할 때는 한 줄에 하나의 URL을 작성해야 합니다. 이때, 각 URL은 줄바꿈으로 구분되어야 합니다.\n",
    "\n",
    "그리고 html 데이터를 로딩하기 전, robots.txt를 통해 데이터로 활용할 사이트의 접근 허용 여부를 확인해야합니다. NCP의 클로바스튜디오 사용 가이드의 경우 User-agent: * Allow:/ 로 접근이 가능합니다.\n",
    "\n",
    "예제에서 활용한 HTML은, 네이버클라우드 플랫폼(NCP)의 클로바스튜디오 사용 가이드중 CLOVA Studio(\"AI Services\" → \"CLOVA Studio\")와 관련된 모든 안내 페이지를 데이터로 활용했습니다.\n",
    "\n",
    "LangChain을 활용해 로딩한 html은, 파일을 저장한 디렉토리의 주소를 metadata의 'source'로 가져오게 됩니다. 추후 답변 제공시, 디렉토리 주소가 아닌 실제 URL을 제공하기 위해, LangChain이 로딩한 데이터를 수정해야합니다.\n",
    "\n",
    "html을 로딩할 때 파일명을 URL로 할 경우, /와 : 기호로 인해 파일명이 깨지게 됩니다. 따라서 원본 URL과 로딩한 HTML 파일을 쌍으로 mapping하고, 이 정보를 json 형식으로 \"url_to_filename_map\"에 저장합니다.\n",
    "\n",
    "이후, html 파일의 저장 경로가 담긴 'source'를, 이 json 파일과 연결해 실제 URL로 변환해줍니다. 위 코드는, json 파일을 저장하는 단계까지입니다."
   ]
  },
  {
   "cell_type": "markdown",
   "metadata": {},
   "source": [
    "##### LangChain 활용 HTML 로딩\n",
    "\n"
   ]
  },
  {
   "cell_type": "code",
   "execution_count": 3,
   "metadata": {},
   "outputs": [
    {
     "name": "stdout",
     "output_type": "stream",
     "text": [
      "Processed /Users/minu/dev/Naver/enjoyAll-AI/clovastudioguide/clovastudio-info.html\n",
      "Processed /Users/minu/dev/Naver/enjoyAll-AI/clovastudioguide/clovastudio-glossary.html\n",
      "Processed /Users/minu/dev/Naver/enjoyAll-AI/clovastudioguide/clovastudio-screen.html\n",
      "Processed /Users/minu/dev/Naver/enjoyAll-AI/clovastudioguide/clovastudio-playground01.html\n",
      "Processed /Users/minu/dev/Naver/enjoyAll-AI/clovastudioguide/clovastudio-playground.html\n",
      "Processed /Users/minu/dev/Naver/enjoyAll-AI/clovastudioguide/clovastudio-start.html\n",
      "Processed /Users/minu/dev/Naver/enjoyAll-AI/clovastudioguide/clovastudio-procedure.html\n"
     ]
    }
   ],
   "source": [
    "# 폴더 이름에 맞게 수정\n",
    "html_files_dir = Path('/Users/minu/dev/Naver/enjoyAll-AI/clovastudioguide')\n",
    " \n",
    "html_files = list(html_files_dir.glob(\"*.html\"))\n",
    " \n",
    "clovastudiodatas = []\n",
    " \n",
    "for html_file in html_files:\n",
    "    loader = UnstructuredHTMLLoader(str(html_file))\n",
    "    document_data = loader.load()\n",
    "    clovastudiodatas.append(document_data)\n",
    "    print(f\"Processed {html_file}\")"
   ]
  },
  {
   "cell_type": "markdown",
   "metadata": {},
   "source": [
    "##### Quote"
   ]
  },
  {
   "cell_type": "markdown",
   "metadata": {},
   "source": [
    "각 HTML에는 page_content에 모든 텍스트가, metadata의 'source'에는 저장 경로가 기록되어 있습니다. 위는, 로딩된 데이터 중 하나인 clovastudio-info.html의 형태입니다. metadata의 'source'에 실제 URL이 아닌 html 파일이 저장된 디렉토리 경로가 담긴 것을 확인할 수 있습니다. Mapping을 통해 이 'source'를 실제 URL로 바꾸는 작업을 다음 단계에 진행하게 됩니다."
   ]
  },
  {
   "cell_type": "markdown",
   "metadata": {},
   "source": [
    "##### Mapping 정보를 활용해 'source'를 실제 URL로 대체"
   ]
  },
  {
   "cell_type": "markdown",
   "metadata": {},
   "source": []
  },
  {
   "cell_type": "code",
   "execution_count": 5,
   "metadata": {},
   "outputs": [
    {
     "name": "stdout",
     "output_type": "stream",
     "text": [
      "Warning: clovastudio-info에 해당하는 URL을 찾을 수 없습니다.\n",
      "Warning: clovastudio-glossary에 해당하는 URL을 찾을 수 없습니다.\n",
      "Warning: clovastudio-screen에 해당하는 URL을 찾을 수 없습니다.\n",
      "Warning: clovastudio-playground01에 해당하는 URL을 찾을 수 없습니다.\n",
      "Warning: clovastudio-playground에 해당하는 URL을 찾을 수 없습니다.\n",
      "Warning: clovastudio-start에 해당하는 URL을 찾을 수 없습니다.\n",
      "Warning: clovastudio-procedure에 해당하는 URL을 찾을 수 없습니다.\n"
     ]
    }
   ],
   "source": [
    "with open(\"url_to_filename_map.json\", \"r\") as map_file:\n",
    "    url_to_filename_map = json.load(map_file)\n",
    " \n",
    "filename_to_url_map = {v: k for k, v in url_to_filename_map.items()}\n",
    " \n",
    "# langchainwikidatas 리스트의 각 Document 객체의 'source' 수정\n",
    "for doc_list in clovastudiodatas:\n",
    "    for doc in doc_list:\n",
    "        extracted_filename = doc.metadata[\"source\"].split(\"/\")[-1]\n",
    "        if extracted_filename in filename_to_url_map:\n",
    "            doc.metadata[\"source\"] = filename_to_url_map[extracted_filename]\n",
    "        else:\n",
    "            print(f\"Warning: {extracted_filename}에 해당하는 URL을 찾을 수 없습니다.\")"
   ]
  },
  {
   "cell_type": "code",
   "execution_count": 6,
   "metadata": {},
   "outputs": [],
   "source": [
    "# 이중 리스트를 풀어서 하나의 리스트로 만드는 작업\n",
    "clovastudiodatas_flattened = [item for sublist in clovastudiodatas for item in sublist]"
   ]
  },
  {
   "cell_type": "code",
   "execution_count": 7,
   "metadata": {},
   "outputs": [
    {
     "data": {
      "text/plain": [
       "[Document(page_content=\"Login\\n\\nKorean\\n\\nEnglish\\n\\nJa - 日本語\\n\\nKorean\\n\\nAPI 가이드\\n\\nCLI 가이드\\n\\n내용 x\\n\\nHOME\\n\\n포털 및 콘솔\\n\\n네이버 클라우드 플랫폼 사용 환경\\n\\nCompute\\n\\nContainers\\n\\nStorage\\n\\nNetworking\\n\\nDatabase\\n\\nSecurity\\n\\nAI Services\\n\\nAI·NAVER API\\n\\nApplication Services\\n\\nBig Data & Analytics\\n\\nBlockchain\\n\\nBusiness Applications\\n\\nContent Delivery\\n\\nDeveloper Tools\\n\\nDigital Twin\\n\\nGaming\\n\\nHybrid & Private Cloud\\n\\nInternet of Things\\n\\nManagement & Governance\\n\\nMedia\\n\\nMigration\\n\\nCLOVA Studio 개념\\n\\n콘텐츠 공유\\n\\n인쇄\\n\\n공유\\n\\nPDF\\n\\n내용\\n\\nCLOVA Studio 개념\\n\\n인쇄\\n\\n공유\\n\\nPDF\\n\\n기사 요약\\n\\n이 요약이 도움이 되었나요?\\n\\n의견을 보내 주셔서 감사합니다.\\n\\nClassic/VPC 환경에서 이용 가능합니다.\\n\\nCLOVA Studio를 이용하는 전체 시나리오를 학습하기에 앞서 CLOVA Studio에 대한 몇 가지 개념을 설명합니다.\\n\\n프롬프트와 결괏값\\n\\n프롬프트는 CLOVA Studio에서 작업을 수행하기 위해 입력해야 할 내용을 의미합니다. CLOVA Studio에서 입력한 프롬프트를 기반으로 HyperCLOVA 언어 모델이 결괏값을 생성합니다. HyperCLOVA 언어 모델은 확률을 기반으로 작동하기 때문에 같은 프롬프트를 입력하더라도 다른 결괏값이 생성될 수 있습니다. <예시> 프롬프트에 '원숭이 엉덩이는 빨개'를 입력한 경우, 높은 확률로 '빨간 건 사과, 사과는 맛있어'라는 결괏값이 생성됩니다.\\n\\n토큰\\n\\n토큰은 자연어 처리를 위해 하나의 단어를 세분화한 단어 조각을 의미합니다. 대개 한국어 단어는 형태소 단위의 1~2 토큰으로 나뉩니다. HyperCLOVA 언어 모델이 학습한 내용에 맞춰 토큰을 나누기 때문에 동일한 표현이 항상 같은 토큰으로 이루어져 있지는 않습니다. <예시> '맛있어'라는 표현은 각각 '맛'과 있어'라는 두 개의 토큰으로 나뉠 수 있습니다.\\n\\n확률 기반 언어 모델\\n\\n확률 기반 언어 모델은 확률을 기반으로 다음에 나올 단어를 예측할 수 있는 언어 모델을 의미합니다. CLOVA Studio에서 사용하는 HyperCLOVA 언어 모델은 확률 기반 언어 모델로, 확률을 기반으로 결괏값을 생성합니다. <예시> 프롬프트에 자연을 묘사해달라고 입력한 경우, 결괏값의 첫 토큰이 '저'로 선택되었다면 뒤에 올 단어로 '나무', '꽃', '산'을 예측할 수 있습니다. 이때, 각 단어마다 확률이 존재하며 HyperCLOVA 언어 모델은 이 중에서 가장 확률이 높은 '나무'와 '에'를 선택하여 '저 나무에'라는 결과를 생성하는 원리로 작동합니다.\\n\\n파라미터\\n\\n파라미터는 문구를 생성하기 위해 플레이그라운드에서 설정하는 값으로, 플레이그라운드의 왼쪽 사이드바에서 설정할 수 있습니다. 파라미터 항목은 다음과 같습니다.\\n\\nEngine\\n\\nTop K\\n\\nTop P\\n\\nMaximum tokens\\n\\nTemperature\\n\\nRepetition penalty\\n\\nStop sequences\\n\\nSeed\\n\\nInject start text\\n\\nInject restart text\\n\\nShow probabilities\\n\\nEngine\\n\\nEngine(이하 엔진)은 CLOVA Studio에서 문구를 생성할 때 사용하는 언어 모델입니다. CLOVA Studio는 한국어 엔진인 LK-B, LK-D2, 그리고 HyperCLOVA X 엔진인 HCX-003, HCX-DASH-001을 제공합니다. 플레이그라운드의 챗 모드와 Chat Completions API를 통해 제공하는 HCX-003, HCX-DASH-001 엔진은 대화형 작업 수행 능력이 뛰어난 한층 업그레이드 된 엔진입니다.\\n\\nHCX-003: 다양한 지시문의 작업을 수행하는 능력이 뛰어납니다.\\n\\nHCX-DASH-001: 경량화된 엔진으로 빠른 속도와 처리 능력을 가지고 있으며 비교적 단순한 작업에 유용하게 쓰일 수 있습니다.\\n\\nTop K\\n\\nTop K는 자연어 처리 모델이 예측한 토큰의 선택 확률 분포에서 확률 값이 가장 높은 K개 중에서 하나를 선택할 때 사용하는 기준 값입니다. Top K는 특수한 경우가 아니라면 0으로 설정하는 것을 권장합니다. <예시> Top K=5인 경우, 가장 확률 값이 높은 5개의 토큰 중에서 하나의 토큰이 선택됩니다. 이때, 가장 확률 값이 높은 토큰이 선택될 가능성이 크지만 경우에 따라 확률 값이 더 낮은 토큰이 선택될 수도 있습니다.\\n\\nTop P\\n\\nTop P는 선택 확률 값이 높은 토큰을 순서대로 나열한 후 설정한 누적 확률 값에 포함되지 않는 토큰을 제거할 때 사용하는 기준값입니다. Top P는 특수한 경우가 아니라면 0.8~1로 설정하는 것을 권장합니다. <예시> Top P=0.8인 경우, 누적 확률 값이 상위 80%에 포함된 토큰만 후보로 선택합니다.\\n\\nMaximum tokens\\n\\nMaximum tokens는 결괏값을 생성할 때 사용할 최대 토큰 수입니다. 토큰 수를 높게 설정할 수록 긴 결괏값을 출력합니다. 프롬프트와 결괏값을 포함하여 일반 모드에서 제공하는 언어 모델인 경우에는 최대 2048 토큰까지, 챗 모드에서 제공하는 HyperCLOVA X 언어 모델인 경우에는 최대 4096 토큰까지 허용됩니다. Maximum tokens는 300~500을 권장하며 작업에 따라 달라질 수 있습니다. Maximum tokens가 실제 필요한 결괏값 토큰 수 대비 과도하게 설정될 경우, 불필요한 출력 길이로 인해 예상치 못한 과금이 발생하거나 처리 시간이 길어질 수 있습니다. 또한 이용량 제어 정책의 TPM 최대 이용량 초과로 인한 요청 미처리가 보다 빈번하게 발생할 수 있습니다. (CLOVA Studio 이용량 제어 정책)\\n\\nTemperature\\n\\nTemperature는 확률 분포에 가중치 변화를 주어 문장의 다양성을 조절하는 값입니다. Temperature를 낮게 설정하면 후보에 포함된 토큰의 순위는 바뀌지 않지만 확률이 높았던 토큰은 더욱 확률 값이 높아지고 낮았던 토큰은 확률 값이 더욱 낮아집니다. 가장 높은 순위의 토큰이 선택될 가능성이 크기 때문에 정형적인 결괏값을 생성합니다. 반면에 Temperature를 높게 설정하면 각 토큰의 확률 값의 차이가 좁혀져 다양한 문장이 만들어질 수 있지만, 규칙에서 조금 벗어나는 문장을 생성하기도 하고 문장의 품질이 다소 떨어질 수도 있습니다. 따라서, Top P 값을 고정한 상태에서 Temperature를 필요에 따라 조절하는 것을 권장합니다.\\n\\nTemperature 값이 낮은 경우\\n\\nTemperature 값이 높은 경우\\n\\nRepetition penalty\\n\\nRepetition penalty는 CLOVA Studio에서 문구를 생성할 때 반복적인 결괏값을 생성하지 않도록 반복되는 토큰에는 감점 요소를 부여하는 값입니다. Repetition penalty가 높을수록 같은 결괏값을 반복적으로 생성할 확률이 감소합니다.\\n\\nStop sequences\\n\\nStop sequences는 결과 생성을 중단할 때 쓸 문자열입니다. Stop sequences는 여러 개 등록할 수 있으며, CLOVA Studio가 결과를 생성할 때 Stop sequences 중 하나가 결과에 포함되면 그 이전까지의 내용만 출력됩니다. <예시> 프롬프트를 '원숭이 엉덩이는 빨개'로 입력하고 Stop sequences에 '사과'라는 문자열을 추가하면 결괏값은 '빨간 건'까지만 출력되며, '사과'부터는 출력되지 않습니다.\\n\\nSeed\\n\\nSeed는 결과물의 일관성을 조정하는 값입니다. Seed의 값이 동일하면 확률 기반의 언어 모델을 여러 번 실행하더라도 동일한 결과를 얻을 수 있습니다. 단, 결과물의 완전성을 보장하지 않으며 다른 조건을 미세하게 조정하면 결과는 조금씩 달라질 수 있습니다. Seed의 값을 '0'으로 지정할 경우, 결과는 무작위로 출력됩니다.\\n\\nInject start text\\n\\nInject start text는 CLOVA Studio가 출력하는 결괏값 앞에 항상 출력될 텍스트입니다. 일반 모드에서만 지원하는 기능입니다. <예시> 사용자와 CLOVA 간의 대화를 나누는 문구 생성 시 프롬프트에 '사용자: 오늘 날씨 좀 알려줘'를 입력하고 Inject start text에 'CLOVA:'를 설정하여 화자를 구분할 수 있습니다.\\n\\nInject restart text\\n\\nInject restart text는 CLOVA Studio가 출력하는 결괏값 뒤에 항상 출력될 텍스트입니다. 일반 모드에서만 지원하는 기능입니다. <예시> Inject restart text에 '사용자:'를 설정하면 처음에 입력한 프롬프트에 대한 결괏값과 함께 '사용자:'가 출력되어 다음 프롬프트 입력 시 '사용자:'를 입력하지 않아도 됩니다.\\n\\nShow probabilities\\n\\nShow probabilities는 생성된 각 토큰이 선택될 확률을 표시하도록 설정하는 옵션입니다. 다른 후보 값은 무엇이 있는지 확인할 수 있습니다. 일반 모드에서만 지원하는 기능입니다.\\n\\nGeneration type\\n\\nGeneration type은 일반 모드에서만 지원하는 결괏값 생성 방식입니다. Generation type의 종류와 설명은 다음과 같습니다.\\n\\nRolling\\n\\nRolling은 프롬프트를 입력한 후 결괏값을 생성한 뒤에 다시 생성을 시도하면 이전까지 생성했던 결괏값을 다시 프롬프트의 일부로 인식하고 생성하는 방식입니다. 최초로 입력했던 프롬프트 이후에 생성한 결괏값은 사용자가 입력한 것이 아니기 때문에 생성을 반복할수록 최초 프롬프트를 입력할 때 의도한 방향에서 벗어날 수 있습니다.\\n\\nOne-time\\n\\nOne-time은 프롬프트를 입력한 후 생성한 결괏값을 에디터 영역에 바로 출력하지 않고 미리 보기 형태로 표시하여 결괏값을 확인한 후 에디터 영역에 적용할 수 있는 방식입니다.\\n\\nMultiple\\n\\nMultiple은 프롬프트를 입력한 후 결괏값을 생성할 때, 지정한 숫자만큼 결괏값을 생성한 후 적용할 결괏값을 선택할 수 있는 방식입니다.\\n\\nExamples\\n\\nExamples는 프롬프트를 입력한 후 결괏값을 생성할 때 원하는 답변에 가까운 내용을 추가적으로 입력해서 의도한 방향에 가까운 결괏값을 얻을 수 있는 방식입니다.\\n\\n튜닝\\n\\n튜닝은 사전 학습된 모델 파라미터 일부를 사용자 목적에 맞게 변형하고, 사용자 데이터에 대해 모델 일부를 재학습하는 방식입니다. 사용자는 일정량의 학습/검증 데이터셋을 투입하여 튜닝을 통해 원하는 작업 종류 및 데이터에 최적화된 모델을 학습하고 테스트할 수 있습니다. 이렇게 업데이트된 모델을 API화하여 새로운 데이터 및 다양한 목적에 맞게 활용할 수 있습니다.\\n\\n작업\\n\\n작업은 튜닝을 수행하는 기준 단위입니다. 사용자는 하나의 작업당 하나의 작업 종류, 언어, 모델 엔진을 각각 선택하게 됩니다. 이후 사용자 데이터셋을 통해 학습을 진행하여 작업 종류, 언어, 모델 엔진, 데이터셋에 가장 최적화된 모델을 생성할 수 있습니다.\\n\\n테스트 앱\\n\\n테스트 앱은 테스트 혹은 서비스의 가능성을 체크하는 용도로 임시 API를 제공하는 앱입니다. 사용 제한(기간, 호출 양)이 있으며, 테스트 앱을 실제 서비스에 적용하면 서비스 품질에 문제가 발생할 수 있으므로 테스트 앱을 실제 서비스에 사용할 경우 차단됩니다. 베타 기간에는 부여된 토큰 수만큼 테스트 앱을 사용할 수 있습니다.\\n\\n서비스 앱\\n\\n서비스 앱은 CLOVA Studio API에 접근할 수 있으며, 실제 사용자가 이용할 수 있도록 제공되는 앱입니다. 서비스 앱 심사 발급 과정을 거친 후 승인이 되면 키를 발급하며, 심사 내용과 다른 목적으로 서비스 앱을 사용하면 사전 공유없이 앱 제공을 차단합니다.\\n\\n이 문서가 도움이 되었습니까?\\n\\n의견을 보내 주셔서 감사합니다! 우리 팀이 당신에게 돌아갈 것입니다.\\n\\n이 기사를 어떻게 개선 할 수 있습니까?\\n\\n귀하의 의견\\n\\n주석\\n\\n주석 (선택적)\\n\\n문자 제한 : 500\\n\\n의견을 입력하십시오.\\n\\n이메일 (선택적)\\n\\n이메일\\n\\n유효한 이메일을 입력하십시오.\\n\\nWhat's Next\\n\\nCLOVA Studio 시나리오\\n\\n목차\\n\\n프롬프트와 결괏값\\n\\n토큰\\n\\n확률 기반 언어 모델\\n\\n파라미터\\n\\nGeneration type\\n\\n튜닝\\n\\n테스트 앱\\n\\n서비스 앱\\n\\n태그\\n\\nCLOVA Studio\\n\\n서비스 이용약관\\n\\n개인정보처리방침\\n\\n사업자등록번호: 129-86-31394 통신판매업신고번호:제2009-경기성남-0510호 대표이사: 김유원 주소: 경기도 성남시 분당구 분당내곡로 131 판교테크원 타워1 13~15층, 13529 고객지원 대표전화: 1544-5876 © NAVER Cloud Corp. All Rights Reserved.\\n\\nChange password!\\n\\nChange profile\\n\\nSuccess!\", metadata={'source': 'https://guide.ncloud-docs.com/docs/clovastudio-info'}),\n",
       " Document(page_content=\"Login\\n\\nKorean\\n\\nEnglish\\n\\nJa - 日本語\\n\\nKorean\\n\\nAPI 가이드\\n\\nCLI 가이드\\n\\n내용 x\\n\\nHOME\\n\\n포털 및 콘솔\\n\\n네이버 클라우드 플랫폼 사용 환경\\n\\nCompute\\n\\nContainers\\n\\nStorage\\n\\nNetworking\\n\\nDatabase\\n\\nSecurity\\n\\nAI Services\\n\\nAI·NAVER API\\n\\nApplication Services\\n\\nBig Data & Analytics\\n\\nBlockchain\\n\\nBusiness Applications\\n\\nContent Delivery\\n\\nDeveloper Tools\\n\\nDigital Twin\\n\\nGaming\\n\\nHybrid & Private Cloud\\n\\nInternet of Things\\n\\nManagement & Governance\\n\\nMedia\\n\\nMigration\\n\\nCLOVA Studio 용어\\n\\n콘텐츠 공유\\n\\n인쇄\\n\\n공유\\n\\nPDF\\n\\n내용\\n\\nCLOVA Studio 용어\\n\\n인쇄\\n\\n공유\\n\\nPDF\\n\\n기사 요약\\n\\n이 요약이 도움이 되었나요?\\n\\n의견을 보내 주셔서 감사합니다.\\n\\nClassic/VPC 환경에서 이용 가능합니다.\\n\\nCLOVA Studio를 사용하기 위해 반드시 알아두어야 할 몇 가지 용어가 있습니다. 용어와 용어에 대한 설명은 다음과 같습니다.\\n\\nAI Services\\n\\nCLOVA, papago 등 네이버의 풍부한 데이터를 기반으로 학습된 최신 인공지능 서비스를 이용해 경쟁력 있는 AI 서비스를 쉽고 편리하게 구축할 수 있도록 지원하는 네이버 클라우드 플랫폼의 서비스 카테고리\\n\\nCLOVA Studio\\n\\n대량의 데이터와 문서를 학습한 HyperCLOVA 의 초대규모 AI 를 활용하여 간단한 설명과 예시만으로 쉽게 AI를 만들 수 있는 네이버 클라우드 플랫폼의 서비스\\n\\nInference Test\\n\\n튜닝 학습 완료 후 학습된 모델의 성능 및 정확도를 검증할 수 있는 기능\\n\\n데이터셋 · Datasets\\n\\n튜닝에 사용할 학습 및 검증 데이터\\n\\n스킬\\n\\n사용자의 대화 입력에 대해 답변할 API를 선택하고 필요한 요청 파라미터를 생성하여 API를 호출함으로써 관찰 결과 기반의 자연어 답변을 생성하는 도구\\n\\n스킬셋\\n\\n스킬의 모음으로, 동일한 그룹 내 스킬은 동일한 스킬셋으로 구성\\n\\n엔진·Engine\\n\\n결괏값 생성 시 사용하는 언어 모델로, 한국어 엔진(LK-B, LK-D2)과 HyperCLOVA X 엔진인 HCX-003, HCX-DASH-001을 제공합니다.\\n\\n인공지능 (에이아이)·Artificial Intelligence (AI)\\n\\n인간이 지닌 지적 능력의 일부나 전체를 인공적으로 구현한 서비스\\n\\n테스트 앱\\n\\n실제 서비스에 적용 전 테스트할 수 있는 임시 API를 제공하는 앱\\n\\n토큰\\n\\n자연어 처리를 위해 하나의 단어를 세분화한 단어 조각\\n\\n튜닝\\n\\n사용자 데이터셋을 학습시켜 사용자에게 최적화된 모델을 생성하는 방식\\n\\n파라미터\\n\\n생성할 결괏값에 영향을 주는 설정값\\n\\n프롬프트\\n\\nCLOVA Studio에서 작업을 수행하기 위해 입력해야 할 내용\\n\\n확률 기반 언어 모델\\n\\n확률을 기반으로 다음에 나올 단어를 예측할 수 있는 언어 모델로, CLOVA Studio에서는 HyperCLOVA X와 HyperCLOVA 언어 모델 사용\\n\\n참고\\n\\n더 많은 용어에 대해 알아보려면 네이버 클라우드 플랫폼 포털의 용어 사전을 확인해 주십시오.\\n\\n이 문서가 도움이 되었습니까?\\n\\n의견을 보내 주셔서 감사합니다! 우리 팀이 당신에게 돌아갈 것입니다.\\n\\n이 기사를 어떻게 개선 할 수 있습니까?\\n\\n귀하의 의견\\n\\n주석\\n\\n주석 (선택적)\\n\\n문자 제한 : 500\\n\\n의견을 입력하십시오.\\n\\n이메일 (선택적)\\n\\n이메일\\n\\n유효한 이메일을 입력하십시오.\\n\\nWhat's Next\\n\\nCLOVA Studio 릴리스 노트\\n\\n목차\\n\\n태그\\n\\nglossary\\n\\n용어\\n\\nCLOVA Studio\\n\\n서비스 이용약관\\n\\n개인정보처리방침\\n\\n사업자등록번호: 129-86-31394 통신판매업신고번호:제2009-경기성남-0510호 대표이사: 김유원 주소: 경기도 성남시 분당구 분당내곡로 131 판교테크원 타워1 13~15층, 13529 고객지원 대표전화: 1544-5876 © NAVER Cloud Corp. All Rights Reserved.\\n\\nChange password!\\n\\nChange profile\\n\\nSuccess!\", metadata={'source': 'https://guide.ncloud-docs.com/docs/clovastudio-glossary'}),\n",
       " Document(page_content=\"Login\\n\\nKorean\\n\\nEnglish\\n\\nJa - 日本語\\n\\nKorean\\n\\nAPI 가이드\\n\\nCLI 가이드\\n\\n내용 x\\n\\nHOME\\n\\n포털 및 콘솔\\n\\n네이버 클라우드 플랫폼 사용 환경\\n\\nCompute\\n\\nContainers\\n\\nStorage\\n\\nNetworking\\n\\nDatabase\\n\\nSecurity\\n\\nAI Services\\n\\nAI·NAVER API\\n\\nApplication Services\\n\\nBig Data & Analytics\\n\\nBlockchain\\n\\nBusiness Applications\\n\\nContent Delivery\\n\\nDeveloper Tools\\n\\nDigital Twin\\n\\nGaming\\n\\nHybrid & Private Cloud\\n\\nInternet of Things\\n\\nManagement & Governance\\n\\nMedia\\n\\nMigration\\n\\nCLOVA Studio 홈 화면\\n\\n콘텐츠 공유\\n\\n인쇄\\n\\n공유\\n\\nPDF\\n\\n내용\\n\\nCLOVA Studio 홈 화면\\n\\n인쇄\\n\\n공유\\n\\nPDF\\n\\n기사 요약\\n\\n이 요약이 도움이 되었나요?\\n\\n의견을 보내 주셔서 감사합니다.\\n\\nClassic/VPC 환경에서 이용 가능합니다.\\n\\nCLOVA Studio 홈 화면에서는 CLOVA Studio의 홈 화면의 구성에 대해 설명합니다. CLOVA Studio에 접속하려면 네이버 클라우드 플랫폼 콘솔에서 Services > AI Services > CLOVA Studio > My Product > [CLOVA Studio 바로가기]를 차례대로 클릭해 주십시오. CLOVA Studio 홈 화면은 다음과 같이 구성되어 있습니다.\\n\\n영역 설명 ① 메뉴 CLOVA Studio에서 제공하는 메뉴 플레이그라운드 : 파라미터 설정 및 프롬프트 입력을 통한 작업 생성 가능( 플레이그라운드 화면 참조) 튜닝 : 사용자 데이터 학습 및 학습 완료 작업의 테스트 앱 생성 가능( 튜닝 화면 참조) 익스플로러 : 다양한 도구 및 작업 샘플 확인 가능( 익스플로러 화면 참조) 스킬 트레이너 : 스킬을 통해 특화 지식 학습 가능( 스킬 트레이너 화면 참조) 포럼 : 클로바 스튜디오 활용팁, Cookbook 제공( 포럼 참조) ② 언어 사용 언어 한국어, 영어, 일본어 지원 ③ 사용자명 클릭하여 다음 메뉴 이용 가능 내 작업 앱 신청 현황 계정 관리 조직 관리 이용 현황 사용 가이드 API 가이드 포럼\\n\\n이 문서가 도움이 되었습니까?\\n\\n의견을 보내 주셔서 감사합니다! 우리 팀이 당신에게 돌아갈 것입니다.\\n\\n이 기사를 어떻게 개선 할 수 있습니까?\\n\\n귀하의 의견\\n\\n주석\\n\\n주석 (선택적)\\n\\n문자 제한 : 500\\n\\n의견을 입력하십시오.\\n\\n이메일 (선택적)\\n\\n이메일\\n\\n유효한 이메일을 입력하십시오.\\n\\nWhat's Next\\n\\n플레이그라운드 화면\\n\\n태그\\n\\nCLOVA Studio\\n\\n서비스 이용약관\\n\\n개인정보처리방침\\n\\n사업자등록번호: 129-86-31394 통신판매업신고번호:제2009-경기성남-0510호 대표이사: 김유원 주소: 경기도 성남시 분당구 분당내곡로 131 판교테크원 타워1 13~15층, 13529 고객지원 대표전화: 1544-5876 © NAVER Cloud Corp. All Rights Reserved.\\n\\nChange password!\\n\\nChange profile\\n\\nSuccess!\", metadata={'source': 'https://guide.ncloud-docs.com/docs/clovastudio-screen'}),\n",
       " Document(page_content=\"Login\\n\\nKorean\\n\\nEnglish\\n\\nJa - 日本語\\n\\nKorean\\n\\nAPI 가이드\\n\\nCLI 가이드\\n\\n내용 x\\n\\nHOME\\n\\n포털 및 콘솔\\n\\n네이버 클라우드 플랫폼 사용 환경\\n\\nCompute\\n\\nContainers\\n\\nStorage\\n\\nNetworking\\n\\nDatabase\\n\\nSecurity\\n\\nAI Services\\n\\nAI·NAVER API\\n\\nApplication Services\\n\\nBig Data & Analytics\\n\\nBlockchain\\n\\nBusiness Applications\\n\\nContent Delivery\\n\\nDeveloper Tools\\n\\nDigital Twin\\n\\nGaming\\n\\nHybrid & Private Cloud\\n\\nInternet of Things\\n\\nManagement & Governance\\n\\nMedia\\n\\nMigration\\n\\n플레이그라운드 작업 관리\\n\\n콘텐츠 공유\\n\\n인쇄\\n\\n공유\\n\\nPDF\\n\\n내용\\n\\n플레이그라운드 작업 관리\\n\\n인쇄\\n\\n공유\\n\\nPDF\\n\\n기사 요약\\n\\n이 요약이 도움이 되었나요?\\n\\n의견을 보내 주셔서 감사합니다.\\n\\nClassic/VPC 환경에서 이용 가능합니다.\\n\\n작업 관리에서는 플레이그라운드 메뉴에서 작업을 실행 및 저장하는 방법과 저장한 작업을 공유할 수 있는 URL을 확인하는 방법, 테스트 앱을 생성하는 방법을 설명합니다.\\n\\n챗 모드에서 작업 실행\\n\\n플레이그라운드에서 챗 모드를 사용하는 방법은 다음과 같습니다.\\n\\n네이버 클라우드 플랫폼 콘솔에서 Services > AI Services > CLOVA Studio 메뉴를 차례대로 클릭해 주십시오.\\n\\nMy Product 메뉴를 클릭한 후 [CLOVA Studio 바로가기] 버튼을 클릭해 주십시오.\\n\\n플레이그라운드 메뉴를 클릭해 주십시오.\\n\\nCLOVA Studio 홈 화면에서 기능 소개 영역의 [플레이그라운드 시작하기] 버튼을 클릭해도 됩니다.\\n\\n파라미터를 설정해 주십시오.\\n\\n파라미터에 관한 자세한 설명은 파라미터를 참조해 주십시오.\\n\\n특수한 경우가 아니라면 파라미터 중 Top P 값은 0.8~1.0, Top K 값은 0으로 설정하는 것을 권장합니다.\\n\\n작업 제목을 입력해 주십시오.\\n\\n시스템 영역에 모델이 수행할 작업에 대한 구체적인 지시문 또는 예제를 입력해 주십시오.\\n\\n화면 오른쪽에 질문, 답변을 입력해 주십시오.\\n\\n사용자: 사용자가 질문할 것으로 예상되는 메시지 입력\\n\\n어시스턴트: 사용자 질문에 대한 대답 입력\\n\\n참고\\n\\n줄바꿈하려면 [Enter] 키를 눌러 주십시오.\\n\\n필요한 경우, [대화 턴 추가] 버튼을 클릭하여 질문과 답변을 추가해 주십시오.\\n\\n[실행] 버튼을 클릭해 주십시오.\\n\\n실행 결과가 만족스럽지 않은 경우, 내용을 지운 후 다시 실행하여 새로운 결괏값을 생성하거나 예제를 수정한 후 다시 실행해 주십시오.\\n\\n수행하려는 기능에 따라 다음 절차를 진행해 주십시오.\\n\\n작업 실행\\n\\n작업 저장\\n\\n작업 공유\\n\\n테스트 앱 생성\\n\\n서비스 앱 신청\\n\\n일반 모드에서 작업 실행\\n\\n일반 모드에서 작업을 생성하는 방법은 다음과 같습니다.\\n\\n네이버 클라우드 플랫폼 콘솔에서 Services > AI Services > CLOVA Studio 메뉴를 차례대로 클릭해 주십시오.\\n\\nMy Product 메뉴를 클릭한 후 [CLOVA Studio 바로가기] 버튼을 클릭해 주십시오.\\n\\n플레이그라운드 메뉴를 클릭해 주십시오.\\n\\nCLOVA Studio 홈 화면에서 기능 소개 영역의 [플레이그라운드 시작하기] 버튼을 클릭해도 됩니다.\\n\\n파라미터를 설정해 주십시오.\\n\\n파라미터에 관한 자세한 설명은 파라미터를 참조해 주십시오.\\n\\n특수한 경우가 아니라면 파라미터 중 Top P 값은 0.8~1, Top K 값은 0으로 설정하는 것을 권장합니다.\\n\\n작업 제목과 지시문을 입력해 주십시오.\\n\\n지시문은 프롬프트에 입력하는 텍스트의 맥락을 파악하는 데 도움이 됩니다.\\n\\nAI가 수행할 작업을 위한 예제를 입력해 주십시오.\\n\\n정확도 향상을 위해 두 쌍 이상의 샘플을 프롬프트에 입력하는 것을 권장합니다.\\n\\n줄바꿈은 [Enter] 키를 눌러서 입력해 주십시오.\\n\\n결괏값을 출력하기 위한 입력문을 입력해 주십시오.\\n\\n수행하려는 기능에 따라 다음 절차를 진행해 주십시오.\\n\\n작업 실행\\n\\n작업 저장\\n\\n작업 공유 URL 확인\\n\\n테스트 앱 생성\\n\\n서비스 앱 신청\\n\\n플레이그라운드 작업 저장\\n\\n작업을 저장하는 방법은 다음과 같습니다.\\n\\n네이버 클라우드 플랫폼 콘솔에서 Services > AI Services > CLOVA Studio 메뉴를 차례대로 클릭해 주십시오.\\n\\nMy Product 메뉴를 클릭한 후 [CLOVA Studio 바로가기] 버튼을 클릭해 주십시오.\\n\\nCLOVA Studio에서 플레이그라운드 메뉴를 클릭해 주십시오.\\n\\n프롬프트를 작성한 후 화면 우측 상단의 [저장] 버튼을 클릭해 주십시오.\\n\\n작업 이름과 설명을 입력해 주십시오.\\n\\n필요한 경우, 태그를 설정해 주십시오.\\n\\n태그를 추가하려면 태그를 선택해주세요를 클릭하고 추가할 태그를 클릭한 후 태그를 선택해주세요를 다시 클릭해 주십시오.\\n\\n태그는 작업 검색 시 활용할 수 있습니다.\\n\\n[새로 저장] 버튼을 클릭해 주십시오.\\n\\n저장된 작업을 불러와 다시 저장하려는 경우, [덮어쓰기] 버튼이 활성화되며 해당 버튼을 클릭하여 기존에 저장된 작업에 덮어쓰기하여 저장할 수 있습니다.\\n\\n저장한 작업은 프로필 > [내 작업] 메뉴에서 확인할 수 있습니다.\\n\\n플레이그라운드 작업 불러오기\\n\\n샘플 또는 저장한 내 작업을 불러와 작업을 다시 실행하거나 공유할 수 있으며, 불러온 작업의 테스트 앱을 생성할 수도 있습니다.\\n\\n플레이그라운드로 작업을 불러오는 방법은 다음과 같습니다.\\n\\n네이버 클라우드 플랫폼 콘솔에서 Services > AI Services > CLOVA Studio 메뉴를 차례대로 클릭해 주십시오.\\n\\nMy Product 메뉴를 클릭한 후 [CLOVA Studio 바로가기] 버튼을 클릭해 주십시오.\\n\\nCLOVA Studio에서 플레이그라운드 메뉴를 클릭해 주십시오.\\n\\n[불러오기] 버튼을 클릭한 후 불러올 작업을 클릭해 주십시오.\\n\\n샘플 또는 내가 저장한 작업만 불러올 수 있습니다.\\n\\n불러온 작업에서 파라미터를 조정하거나 제목, 프롬프트를 수정한 후 다시 실행해 주십시오\\n\\n내 작업 목록에서 불러올 작업을 선택하는 다음과 같습니다.\\n\\n네이버 클라우드 플랫폼 콘솔에서 Services > AI Services > CLOVA Studio 메뉴를 차례대로 클릭해 주십시오.\\n\\nMy Product 메뉴를 클릭한 후 [CLOVA Studio 바로가기] 버튼을 클릭해 주십시오\\n\\nCLOVA Studio 화면 우측 상단의 프로필 영역을 클릭한 후 내 작업 메뉴를 클릭해 주십시오.\\n\\n[익스플로러] 탭 > [프롬프트] 버튼을 클릭해 주십시오.\\n\\n필요한 경우, 태그를 선택하거나 검색어를 입력하여 플레이그라운드에서 열어 볼 작업을 검색해 주십시오.\\n\\n플레이그라운드에서 열어 볼 작업을 클릭해 주십시오.\\n\\n작업 미리보기 창이 나타나면 [플레이그라운드에서 열기] 버튼을 클릭해 주십시오.\\n\\n해당 작업이 열린 플레이그라운드 화면으로 이동합니다.\\n\\n플레이그라운드에 관한 자세한 설명은 플레이그라운드를 참조해 주십시오.\\n\\n플레이그라운드 작업 공유\\n\\n플레이그라운드에서 수행한 작업을 다른 그룹의 사용자에게 공유할 수 있습니다. 작업을 공유하려면 먼저 작업을 저장한 후 [공유] 버튼을 클릭해 주십시오.\\n\\n공유 팝업 창에서 공유 URL을 확인할 수 있습니다.\\n\\n공개 여부를 나만 보기로 설정한 경우 공유된 작업에 접근하기 위한 비밀번호가 함께 표시됩니다.\\n\\n[복사] 버튼을 클릭하여 URL과 비밀번호를 클립보드에 복사할 수 있습니다.\\n\\n테스트 앱 생성\\n\\n테스트 앱을 생성하는 방법은 다음과 같습니다.\\n\\n테스트 앱으로 생성할 작업을 저장해 주십시오.\\n\\n[테스트 앱] 버튼을 클릭해 주십시오.\\n\\n테스트 앱 이름을 입력한 후 [생성] 버튼을 클릭해 주십시오.\\n\\n테스트 앱이 생성되며, 테스트 앱 팝업 창이 나타납니다.\\n\\n테스트 앱의 API 정보를 확인할 수 있으며, AI Filter 사용 여부를 설정할 수 있습니다.(API에 관한 자세한 내용은 CLOVA Studio API 가이드 참조)\\n\\n코드 타입은 curl과 python이 제공됩니다.\\n\\n[복사] 버튼을 클릭하여 API 정보를 클립보드에 복사할 수 있습니다.\\n\\n[재발급] 버튼을 클릭하여 API Gateway Key를 재발급할 수 있습니다.\\n\\n가이드 보기를 클릭하면 AI Filter 가이드를 확인할 수 있습니다.\\n\\n참고\\n\\n테스트 앱을 생성하여 사용에 문제가 없는지 확인한 후 서비스 앱을 신청할 수 있습니다. 서비스 앱을 신청하려면 서비스 앱 신청 양식을 작성해 주십시오.\\n\\n서비스 앱 신청\\n\\nCLOVA Studio를 통해 도출될 수 있는 결과물(Output)은 사용자의 입력 값(Input)에 따라 매우 가변적이며 완벽한 예측이 어렵습니다. 이를 방지하는 최소한의 장치로 서비스에 제공하기 전 신청을 통해 심사 과정을 거칩니다. 서비스 앱을 신청하면, 심사를 거쳐 승인되면 사용할 수 있습니다.\\n\\n신청 및 발급 과정은 다음과 같습니다.\\n\\n서비스 앱 심사 요청 전 반드시 테스트 앱을 생성하여 AI 윤리 준칙에 위배되지 않는 지, 안정적인 서비스 제공이 가능한 지 체크합니다.\\n\\n발생 할 수 있는 각종 안전 문제를 이해하고 예방하기 위해 반드시 CLOVA Studio AI 윤리 준칙 을 확인해 주십시오.\\n\\n테스트 앱 발급 이력이 있을 경우에만 서비스 앱 심사 요청이 가능합니다.\\n\\n테스트 앱 사용에 문제가 없다면 서비스 앱 신청 양식을 작성해 주십시오.\\n\\n서비스 앱 심사 진행 중 심사자가 작업 내용을 직접 확인할 수 있도록 플레이그라운드 및 튜닝 작업에 대해 미리 '공유' URL 생성이 필요합니다.\\n\\n작업 공유 URL 생성을 위해서는 '[플레이그라운드 작업 공유]' 항목을 참고해주세요.\\n\\n승인이 완료되면 앱 신청 현황에서 [상세] 버튼을 선택하여, 테스트 앱과 동일하게 서비스 앱 API 정보를 확인하실 수 있습니다.\\n\\n심사 및 승인에 1-3주 가량 소요될 수 있습니다.\\n\\n서비스 앱이 심사 중이거나 승인 완료 후에는 변경하실 수 없습니다.\\n\\n참고\\n\\n서비스 앱 심사는 아래 내용을 참고해 주십시오.\\n\\nCLOVA Studio AI 윤리 가이드를 준수하고 있는지, 안전한 사례인지, 위험이나 잠재적 오용에 대한 대응 방법이 있는지를 확인하여 서비스 앱 신청을 승인 혹은 반려 합니다.\\n\\n테스트 앱에서 계획된 결과대로 충분히 테스트가 되었는 지 확인하고 서비스 앱을 신청해야 합니다.\\n\\n서비스 앱은 최종 사용자에게 직간접적인 위험이 될 수 있거나 정확성과 공정성을 담보하기 어려운 정보를 제공하지 않아야 합니다.\\n\\n서비스 앱은 어뷰징 등으로 인해 부적절한 결과물이 발생하지 않도록 모니터링하고 대응할 방법을 가지고 있어야 합니다.\\n\\n부적절한 결과물이란, 비속어를 사용하는 욕설 등의 표현이 출력된 결과물이 대표적이며, 그 밖에도 네이버 AI 윤리 준칙 및 CLOVA Studio AI 윤리 가이드를 위반하는 내용의 결과물을 말합니다.\\n\\n서비스 앱이 심사 중이거나 승인 완료 후에는 변경하실 수 없습니다.\\n\\n앱 신청 현황 확인\\n\\n테스트 앱 및 서비스 앱 신청 현황을 확인하는 방법은 다음과 같습니다.\\n\\n네이버 클라우드 플랫폼 콘솔에서 Services > AI Services > CLOVA Studio 메뉴를 차례대로 클릭해 주십시오.\\n\\nMy Product 메뉴를 클릭한 후 [CLOVA Studio 바로가기] 버튼을 클릭해 주십시오.\\n\\n[CLOVA Studio 바로가기] 버튼을 클릭해 주십시오.\\n\\n홈 화면 오른쪽 상단의 사용자명을 클릭한 후 앱 신청 현황을 클릭해 주십시오.\\n\\n앱 신청 현황 페이지가 나타납니다.\\n\\n[상세] 버튼을 클릭하면 앱에 대한 세부 정보를 확인할 수 있습니다.\\n\\n신청한 앱이 없는 경우, [새 작업 신청하기] 버튼이 표시됩니다. 해당 버튼을 클릭하면 플레이그라운드로 이동합니다.\\n\\nAI Filter\\n\\n네이버 AI 윤리 준칙 준수의 관점에서 사용자는 AI Filter 기능을 설정할 수 있습니다. AI Filter는 플레이그라운드에서 생성된 테스트 앱(혹은 서비스 앱을 포함)으로부터 욕설 등 부적절한 결과물이 출력되는 것을 감지하여 사용자에게 알려주는 기능입니다.\\n\\n현재 AI Filter는 욕설 등 부적절한 표현에 대한 분석 결과를 제공하며, 내용에서 감지된 위험도에 따라 0에서 2 사이의 레이블을 부여합니다. 각 레이블의 설명은 다음과 같습니다.\\n\\n레이블 설명 0 텍스트 내에 욕설 등 부적절한 표현이 포함될 가능성이 높음 1 텍스트 내에 욕설 등 부적절한 표현이 포함될 가능성이 있음 2 텍스트 내에 욕설 등 부적절한 표현이 포함될 가능성이 낮음\\n\\n사용자는 AI Filter 분석 결과를 바탕으로 내용의 위험도를 낮추기 위해 적절한 대응 방안을 마련해야 합니다. 예를 들어, 결과물에 대한 AI Filter 응답이 0이라면 최종 사용자에게 해당 결과물을 반환할 수 없음을 알리고, 새로운 입력을 제안하는 것이 더 안전합니다. 단, AI Filter는 위험을 감지하는 것에 집중된 모델로서 오탐지가 발생할 수 있으며 지속적으로 변화하는 환경 요소(법률, 신조어, 문맥상의 의미, 사회 변화에 따른 단어 및 문장 등의 의미 변화, 특정 단어에 대한 임의적 의미 부여 등)에 따라 위험 감지가 어려울 수도 있기 때문에 완벽한 안전장치가 될 수 없습니다. 욕설 등 부적절한 출력이 우려된다면 AI Filter를 사용하여 적절한 대응 방안을 마련하는 것뿐만 아니라 입력할 프롬프트를 설계하는 단계에서부터 주의를 기울여야 합니다. CLOVA Studio에서 권장하는 안전한 앱 이용 사례는 CLOVA Studio 예제 가이드를 참조해 주십시오.\\n\\n주의\\n\\nAI Filter의 제약 사항은 다음과 같습니다.\\n\\nAI Filter는 요청되는 텍스트를 최대 500자로 제한합니다. 500자 이상의 텍스트는 정상적으로 분석할 수 없습니다.\\n\\n요청되는 텍스트 내 비정상적인 형식, 이모티콘 및 특수 문자 등이 많으면 제대로 분석되지 않을 수 있습니다.\\n\\n이 문서가 도움이 되었습니까?\\n\\n의견을 보내 주셔서 감사합니다! 우리 팀이 당신에게 돌아갈 것입니다.\\n\\n이 기사를 어떻게 개선 할 수 있습니까?\\n\\n귀하의 의견\\n\\n주석\\n\\n주석 (선택적)\\n\\n문자 제한 : 500\\n\\n의견을 입력하십시오.\\n\\n이메일 (선택적)\\n\\n이메일\\n\\n유효한 이메일을 입력하십시오.\\n\\nWhat's Next\\n\\n튜닝 화면\\n\\n목차\\n\\n챗 모드에서 작업 실행\\n\\n일반 모드에서 작업 실행\\n\\n플레이그라운드 작업 저장\\n\\n플레이그라운드 작업 불러오기\\n\\n플레이그라운드 작업 공유\\n\\n테스트 앱 생성\\n\\n서비스 앱 신청\\n\\n태그\\n\\nCLOVA Studio\\n\\n서비스 이용약관\\n\\n개인정보처리방침\\n\\n사업자등록번호: 129-86-31394 통신판매업신고번호:제2009-경기성남-0510호 대표이사: 김유원 주소: 경기도 성남시 분당구 분당내곡로 131 판교테크원 타워1 13~15층, 13529 고객지원 대표전화: 1544-5876 © NAVER Cloud Corp. All Rights Reserved.\\n\\nChange password!\\n\\nChange profile\\n\\nSuccess!\", metadata={'source': 'https://guide.ncloud-docs.com/docs/clovastudio-playground01'}),\n",
       " Document(page_content=\"Login\\n\\nKorean\\n\\nEnglish\\n\\nJa - 日本語\\n\\nKorean\\n\\nAPI 가이드\\n\\nCLI 가이드\\n\\n내용 x\\n\\nHOME\\n\\n포털 및 콘솔\\n\\n네이버 클라우드 플랫폼 사용 환경\\n\\nCompute\\n\\nContainers\\n\\nStorage\\n\\nNetworking\\n\\nDatabase\\n\\nSecurity\\n\\nAI Services\\n\\nAI·NAVER API\\n\\nApplication Services\\n\\nBig Data & Analytics\\n\\nBlockchain\\n\\nBusiness Applications\\n\\nContent Delivery\\n\\nDeveloper Tools\\n\\nDigital Twin\\n\\nGaming\\n\\nHybrid & Private Cloud\\n\\nInternet of Things\\n\\nManagement & Governance\\n\\nMedia\\n\\nMigration\\n\\n플레이그라운드 화면\\n\\n콘텐츠 공유\\n\\n인쇄\\n\\n공유\\n\\nPDF\\n\\n내용\\n\\n플레이그라운드 화면\\n\\n인쇄\\n\\n공유\\n\\nPDF\\n\\n기사 요약\\n\\n이 요약이 도움이 되었나요?\\n\\n의견을 보내 주셔서 감사합니다.\\n\\nClassic/VPC 환경에서 이용 가능합니다.\\n\\n플레이그라운드 화면 구성에 대해 설명합니다. 플레이그라운드에서는 프롬프트 입력과, 파라미터 설정을 이용해 HyperCLOVA X 모델을 활용할 수 있는 공간입니다.\\n\\n플레이그라운드 화면\\n\\n플레이그라운드 화면은 다음과 같이 구성되어 있습니다.\\n\\n영역 설명 ① 모드 챗 모드 : HyperCLOVA X 언어 모델을 사용하여 원하는 결과를 생성하는 모드 일반 모드 : 기존 언어 모델을 사용하여 원하는 결과를 생성하는 모드 ② 파라미터 텍스트를 생성하기 위해 설정하는 값( 파라미터 참조) ③ 기능 플레이그라운드에서 제공되는 기능 : 클릭하여 방금 실행한 결과 삭제 : 클릭하여 방금 실행한 결과를 삭제한 후 재실행 : 클릭하여 작업 초기화 [공유] : 클릭하여 작업 공유 URL 확인( 플레이그라운드 작업 공유 참조) [불러오기] : 클릭하여 작업 샘플 및 저장한 작업 불러오기( 플레이그라운드 작업 불러오기 참조) [저장] : 클릭하여 작업 저장( 플레이그라운드 작업 저장 참조) [테스트 앱] : 클릭하여 테스트 앱 생성( 테스트 앱 생성 참조) ④ 에디터 영역 프롬프트를 입력하고 결괏값이 출력되는 영역 ⑤ 실행 클릭하여 작업 실행( 작업 실행 참조)\\n\\n이 문서가 도움이 되었습니까?\\n\\n의견을 보내 주셔서 감사합니다! 우리 팀이 당신에게 돌아갈 것입니다.\\n\\n이 기사를 어떻게 개선 할 수 있습니까?\\n\\n귀하의 의견\\n\\n주석\\n\\n주석 (선택적)\\n\\n문자 제한 : 500\\n\\n의견을 입력하십시오.\\n\\n이메일 (선택적)\\n\\n이메일\\n\\n유효한 이메일을 입력하십시오.\\n\\nWhat's Next\\n\\n플레이그라운드 작업 관리\\n\\n목차\\n\\n플레이그라운드 화면\\n\\n태그\\n\\nCLOVA Studio\\n\\n서비스 이용약관\\n\\n개인정보처리방침\\n\\n사업자등록번호: 129-86-31394 통신판매업신고번호:제2009-경기성남-0510호 대표이사: 김유원 주소: 경기도 성남시 분당구 분당내곡로 131 판교테크원 타워1 13~15층, 13529 고객지원 대표전화: 1544-5876 © NAVER Cloud Corp. All Rights Reserved.\\n\\nChange password!\\n\\nChange profile\\n\\nSuccess!\", metadata={'source': 'https://guide.ncloud-docs.com/docs/clovastudio-playground'}),\n",
       " Document(page_content=\"Login\\n\\nKorean\\n\\nEnglish\\n\\nJa - 日本語\\n\\nKorean\\n\\nAPI 가이드\\n\\nCLI 가이드\\n\\n내용 x\\n\\nHOME\\n\\n포털 및 콘솔\\n\\n네이버 클라우드 플랫폼 사용 환경\\n\\nCompute\\n\\nContainers\\n\\nStorage\\n\\nNetworking\\n\\nDatabase\\n\\nSecurity\\n\\nAI Services\\n\\nAI·NAVER API\\n\\nApplication Services\\n\\nBig Data & Analytics\\n\\nBlockchain\\n\\nBusiness Applications\\n\\nContent Delivery\\n\\nDeveloper Tools\\n\\nDigital Twin\\n\\nGaming\\n\\nHybrid & Private Cloud\\n\\nInternet of Things\\n\\nManagement & Governance\\n\\nMedia\\n\\nMigration\\n\\nCLOVA Studio 시작\\n\\n콘텐츠 공유\\n\\n인쇄\\n\\n공유\\n\\nPDF\\n\\n내용\\n\\nCLOVA Studio 시작\\n\\n인쇄\\n\\n공유\\n\\nPDF\\n\\n기사 요약\\n\\n이 요약이 도움이 되었나요?\\n\\n의견을 보내 주셔서 감사합니다.\\n\\nClassic/VPC 환경에서 이용 가능합니다.\\n\\nCLOVA Studio를 사용하기 위한 사용 권한을 설정했다면 이제 CLOVA Studio 이용 신청을 진행해야 합니다. CLOVA Studio 이용 신청 및 이용에 대한 관리는 네이버 클라우드 플랫폼 콘솔에서 진행합니다.\\n\\n이용 신청이 완료되면 PC의 웹 브라우저에서 실제로 CLOVA Studio 웹에 정상적으로 접속되는지 확인해야 합니다.\\n\\nOpen Beta 신청\\n\\nCLOVA Studio Open Beta 신청 방법은 다음과 같습니다.\\n\\n네이버 클라우드 플랫폼 콘솔에 접속해 주십시오.\\n\\nServices > AI Services > CLOVA Studio 메뉴를 차례대로 클릭해 주십시오.\\n\\n[Open Beta 신청] 버튼을 클릭해 주십시오.\\n\\n이용 신청\\n\\nCLOVA Studio 이용을 신청하는 방법은 다음과 같습니다.\\n\\n네이버 클라우드 플랫폼 콘솔에 접속해 주십시오.\\n\\nServices > AI Services > CLOVA Studio 메뉴를 차례대로 클릭해 주십시오.\\n\\n[상품 이용 신청] 버튼을 클릭해 주십시오.\\n\\n신청 정보를 확인한 후 [다음] 버튼을 클릭해 주십시오.\\n\\n이용 약관 내용을 확인하고 동의한 후 [다음] 버튼을 클릭해 주십시오.\\n\\n이용 신청이 완료됩니다.\\n\\n[CLOVA Studio 바로가기] 버튼을 클릭하여 CLOVA Studio 페이지로 이동할 수 있습니다.\\n\\n이용 신청 해지\\n\\nCLOVA Studio 이용을 해지하는 방법은 다음과 같습니다.\\n\\n네이버 클라우드 플랫폼 콘솔에 접속해 주십시오.\\n\\nServices > AI Services > CLOVA Studio 메뉴를 차례대로 클릭해 주십시오.\\n\\n[서비스 해지] 버튼을 클릭해 주십시오.\\n\\n서비스 해지 팝업 창의 내용을 확인한 후 [해지] 버튼을 클릭해 주십시오.\\n\\n이용이 해지됩니다.\\n\\nPC 웹 접속 확인\\n\\n네이버 클라우드 플랫폼 콘솔에서 이용 신청을 완료한 후 CLOVA Studio를 이용하기 위해 PC 웹에 정상 접속되는지 확인하는 방법은 다음과 같습니다.\\n\\n네이버 클라우드 플랫폼 콘솔에서 Services > AI Services > CLOVA Studio 메뉴를 차례대로 클릭해 주십시오.\\n\\nMy Product 메뉴를 클릭해 주십시오.\\n\\n[CLOVA Studio 바로가기] 버튼을 클릭해 주십시오.\\n\\n참고\\n\\n이용 신청 완료 화면에서 [CLOVA Studio 바로가기] 버튼을 클릭하여 CLOVA Studio 웹의 정상 접속 여부를 확인할 수도 있습니다.\\n\\n사용 현황 확인\\n\\nCLOVA Studio 사용 현황을 확인하는 방법은 다음과 같습니다.\\n\\n네이버 클라우드 플랫폼 콘솔에서 Services > AI Services > CLOVA Studio 메뉴를 차례대로 클릭해 주십시오.\\n\\nMy Product 메뉴를 클릭해 주십시오.\\n\\nCLOVA Studio 사용 현황을 확인할 수 있습니다.\\n\\n사용 현황은 당월 기준으로 표시됩니다.\\n\\nUsage\\n\\nUsage에서는 CLOVA Studio에서 사용한 토큰의 사용량을 확인하는 방법을 설명합니다. CLOVA Studio 사용량을 확인하는 방법은 다음과 같습니다.\\n\\n네이버 클라우드 플랫폼 콘솔에서 Services > AI Services > CLOVA Studio 메뉴를 차례대로 클릭해 주십시오.\\n\\nUsage 메뉴를 클릭해 주십시오.\\n\\nCLOVA Studio 사용량을 확인할 수 있습니다.\\n\\n기간을 설정하여 특정 기간 동안의 사용량을 조회할 수 있습니다.\\n\\n전체 또는 사용 종류(튜닝(앱)/튜닝(학습)/플레이그라운드)별로 일별 사용량을 확인할 수 있습니다.\\n\\n그래프에 마우스 오버하면 모델 엔진별로 토큰 사용량을 확인할 수 있습니다.\\n\\n이 문서가 도움이 되었습니까?\\n\\n의견을 보내 주셔서 감사합니다! 우리 팀이 당신에게 돌아갈 것입니다.\\n\\n이 기사를 어떻게 개선 할 수 있습니까?\\n\\n귀하의 의견\\n\\n주석\\n\\n주석 (선택적)\\n\\n문자 제한 : 500\\n\\n의견을 입력하십시오.\\n\\n이메일 (선택적)\\n\\n이메일\\n\\n유효한 이메일을 입력하십시오.\\n\\nWhat's Next\\n\\nCLOVA Studio 홈 화면\\n\\n목차\\n\\nOpen Beta 신청\\n\\n이용 신청\\n\\n이용 신청 해지\\n\\nPC 웹 접속 확인\\n\\n사용 현황 확인\\n\\nUsage\\n\\n태그\\n\\n이용 신청\\n\\n이용 해지\\n\\nCLOVA Studio\\n\\n서비스 이용약관\\n\\n개인정보처리방침\\n\\n사업자등록번호: 129-86-31394 통신판매업신고번호:제2009-경기성남-0510호 대표이사: 김유원 주소: 경기도 성남시 분당구 분당내곡로 131 판교테크원 타워1 13~15층, 13529 고객지원 대표전화: 1544-5876 © NAVER Cloud Corp. All Rights Reserved.\\n\\nChange password!\\n\\nChange profile\\n\\nSuccess!\", metadata={'source': 'https://guide.ncloud-docs.com/docs/clovastudio-start'}),\n",
       " Document(page_content=\"Login\\n\\nKorean\\n\\nEnglish\\n\\nJa - 日本語\\n\\nKorean\\n\\nAPI 가이드\\n\\nCLI 가이드\\n\\n내용 x\\n\\nHOME\\n\\n포털 및 콘솔\\n\\n네이버 클라우드 플랫폼 사용 환경\\n\\nCompute\\n\\nContainers\\n\\nStorage\\n\\nNetworking\\n\\nDatabase\\n\\nSecurity\\n\\nAI Services\\n\\nAI·NAVER API\\n\\nApplication Services\\n\\nBig Data & Analytics\\n\\nBlockchain\\n\\nBusiness Applications\\n\\nContent Delivery\\n\\nDeveloper Tools\\n\\nDigital Twin\\n\\nGaming\\n\\nHybrid & Private Cloud\\n\\nInternet of Things\\n\\nManagement & Governance\\n\\nMedia\\n\\nMigration\\n\\nCLOVA Studio 시나리오\\n\\n콘텐츠 공유\\n\\n인쇄\\n\\n공유\\n\\nPDF\\n\\n내용\\n\\nCLOVA Studio 시나리오\\n\\n인쇄\\n\\n공유\\n\\nPDF\\n\\n기사 요약\\n\\n이 요약이 도움이 되었나요?\\n\\n의견을 보내 주셔서 감사합니다.\\n\\nClassic/VPC 환경에서 이용 가능합니다.\\n\\nCLOVA Studio는 초대규모(Hyperscale) AI 기술인 HyperCLOVA 언어 모델을 활용하여 사용자가 입력한 내용에 따라 AI 기술을 통해 생성된 문구를 출력하는 네이버 클라우드 플랫폼의 서비스입니다.\\n\\n1. 사용 권한 설정\\n\\nCLOVA Studio를 사용하기 위한 사용 권한을 설정합니다. CLOVA Studio 사용 권한은 네이버 클라우드 플랫폼의 Sub Account에서 발급한 '서브 계정'에 '역할'을 매핑하여 정의합니다. 따라서 우선 Sub Account를 통해 사용자 메인 계정 외에 서브 계정을 생성해야 합니다.\\n\\n참고\\n\\nSub Account는 이용 신청 시 별도의 요금이 부과되지 않는 무료 서비스입니다. Sub Account 소개와 요금제에 대한 자세한 설명은 네이버 클라우드 플랫폼 포털의 서비스 > Management & Governance > Sub Account 메뉴를 참고해 주십시오.\\n\\nSub Account에서 제공하는 서브 계정을 활용하여 CLOVA Studio의 관리자 권한과 사용자 권한을 구성할 수 있습니다. 참고할 수 있는 사용 가이드는 다음과 같습니다.\\n\\nCLOVA Studio 권한 관리\\n\\nSub Account 사용 가이드\\n\\n2. 작업 생성 및 실행\\n\\nCLOVA Studio에서 작업을 생성하고 실행합니다. 플레이그라운드에서 프롬프트를 입력하여 작업을 생성하거나 튜닝에서 사용자 데이터셋을 학습시켜 작업을 생성할 수 있고, 스킬 트레이너를 사용하여 특화 지식을 학습시킬 수 있습니다. 플레이그라운드에서 작업 생성 시에 활용할 수 있는 샘플 작업을 제공하며, 작업 생성 시 참고할 수 있도록 포럼을 통해 다양한 CLOVA Studio 활용법 및 사용 경험을 제공합니다. 참고할 수 있는 사용 가이드는 다음과 같습니다.\\n\\n플레이그라운드\\n\\n챗 모드에서 작업 실행 시: 챗 모드에서 작업 실행\\n\\n일반 모드에서 작업 실행 시: 일반 모드에서 작업 실행\\n\\n샘플 작업 활용 시: 작업 불러오기\\n\\n튜닝\\n\\n데이터셋 준비\\n\\n새 작업 생성\\n\\n익스플로러\\n\\n도구 활용\\n\\nAPI 활용\\n\\n스킬 트레이너\\n\\n스킬셋\\n\\n스킬\\n\\n데이터 수집\\n\\n데이터 학습\\n\\n버전 관리\\n\\n포럼\\n\\n3. 작업 관리\\n\\n생성한 작업을 실행하여 생성된 결괏값을 확인합니다. 플레이그라운드에서는 입력한 예제를 바탕으로 결괏값이 생성되며, 튜닝에서는 학습한 데이터셋을 바탕으로 결괏값이 생성됩니다. 참고할 수 있는 사용 가이드는 다음과 같습니다.\\n\\n4. 테스트 앱 생성\\n\\n서비스에 이용하기 전 성능 및 정확도 검증을 위한 테스트 앱을 생성합니다. 참고할 수 있는 사용 가이드는 다음과 같습니다.\\n\\n플레이그라운드\\n\\n테스트 앱 생성\\n\\n튜닝\\n\\n테스트 앱 생성\\n\\n스킬 트레이너\\n\\n테스트 앱 생성\\n\\n5. 서비스 앱 신청\\n\\n실제 서비스에 적용할 수 있도록 서비스 앱을 신청합니다. 참고할 수 있는 가이드는 다음과 같습니다.\\n\\n서비스 앱 신청\\n\\n이 문서가 도움이 되었습니까?\\n\\n의견을 보내 주셔서 감사합니다! 우리 팀이 당신에게 돌아갈 것입니다.\\n\\n이 기사를 어떻게 개선 할 수 있습니까?\\n\\n귀하의 의견\\n\\n주석\\n\\n주석 (선택적)\\n\\n문자 제한 : 500\\n\\n의견을 입력하십시오.\\n\\n이메일 (선택적)\\n\\n이메일\\n\\n유효한 이메일을 입력하십시오.\\n\\nWhat's Next\\n\\nCLOVA Studio 시작\\n\\n목차\\n\\n1. 사용 권한 설정\\n\\n2. 작업 생성 및 실행\\n\\n3. 작업 관리\\n\\n4. 테스트 앱 생성\\n\\n5. 서비스 앱 신청\\n\\n태그\\n\\nscenario\\n\\nCLOVA Studio\\n\\n서비스 이용약관\\n\\n개인정보처리방침\\n\\n사업자등록번호: 129-86-31394 통신판매업신고번호:제2009-경기성남-0510호 대표이사: 김유원 주소: 경기도 성남시 분당구 분당내곡로 131 판교테크원 타워1 13~15층, 13529 고객지원 대표전화: 1544-5876 © NAVER Cloud Corp. All Rights Reserved.\\n\\nChange password!\\n\\nChange profile\\n\\nSuccess!\", metadata={'source': 'https://guide.ncloud-docs.com/docs/clovastudio-procedure'})]"
      ]
     },
     "execution_count": 7,
     "metadata": {},
     "output_type": "execute_result"
    }
   ],
   "source": [
    "clovastudiodatas_flattened "
   ]
  },
  {
   "cell_type": "markdown",
   "metadata": {},
   "source": [
    "#### 2. Chunking\n",
    "\n"
   ]
  },
  {
   "cell_type": "markdown",
   "metadata": {},
   "source": [
    "임베딩 모델이 처리할 수 있는 적당한 크기로 raw data를 나누는 것은 매우 중요합니다. 이는 임베딩 모델마다 한 번에 처리할 수 있는 토큰 수의 한계가 있기 때문입니다. CLOVA Studio의 문단 나누기 API는 모델이 직접 문장들간의 의미 유사도를 찾아 최적의 chunk 개수와 사용자가 원하는 1개 chunk의 크기(글자 수)를 직접 설정하여 문단을 나눌 수도 있습니다. 추가로, 후처리(postProcess = True)를 통해 chunk당 글자 수의 상한선과 하한선을 postProcessMaxSize와 postProcessMinSize로 조절할 수도 있습니다."
   ]
  },
  {
   "cell_type": "code",
   "execution_count": 20,
   "metadata": {},
   "outputs": [
    {
     "name": "stderr",
     "output_type": "stream",
     "text": [
      "  0%|          | 0/7 [00:00<?, ?it/s]"
     ]
    },
    {
     "name": "stdout",
     "output_type": "stream",
     "text": [
      "1\n",
      "ht2\n",
      "ht2\n",
      "None\n",
      "Error occurred. Message: {'status': {'code': '40000', 'message': ''}, 'result': None}\n"
     ]
    },
    {
     "name": "stderr",
     "output_type": "stream",
     "text": [
      "\n"
     ]
    },
    {
     "ename": "NameError",
     "evalue": "name 'response_data' is not defined",
     "output_type": "error",
     "traceback": [
      "\u001b[0;31m---------------------------------------------------------------------------\u001b[0m",
      "\u001b[0;31mNameError\u001b[0m                                 Traceback (most recent call last)",
      "Cell \u001b[0;32mIn[20], line 67\u001b[0m\n\u001b[1;32m     64\u001b[0m \u001b[38;5;28;01mexcept\u001b[39;00m \u001b[38;5;167;01mException\u001b[39;00m \u001b[38;5;28;01mas\u001b[39;00m e:\n\u001b[1;32m     65\u001b[0m     \u001b[38;5;28mprint\u001b[39m(\u001b[38;5;124mf\u001b[39m\u001b[38;5;124m\"\u001b[39m\u001b[38;5;124mError occurred. Message: \u001b[39m\u001b[38;5;132;01m{\u001b[39;00me\u001b[38;5;132;01m}\u001b[39;00m\u001b[38;5;124m\"\u001b[39m)\n\u001b[0;32m---> 67\u001b[0m \u001b[38;5;28;01mfor\u001b[39;00m paragraph \u001b[38;5;129;01min\u001b[39;00m \u001b[43mresponse_data\u001b[49m:\n\u001b[1;32m     68\u001b[0m     chunked_document \u001b[38;5;241m=\u001b[39m {\n\u001b[1;32m     69\u001b[0m         \u001b[38;5;124m\"\u001b[39m\u001b[38;5;124msource\u001b[39m\u001b[38;5;124m\"\u001b[39m: htmldata\u001b[38;5;241m.\u001b[39mmetadata[\u001b[38;5;124m\"\u001b[39m\u001b[38;5;124msource\u001b[39m\u001b[38;5;124m\"\u001b[39m],\n\u001b[1;32m     70\u001b[0m         \u001b[38;5;124m\"\u001b[39m\u001b[38;5;124mtext\u001b[39m\u001b[38;5;124m\"\u001b[39m: paragraph\n\u001b[1;32m     71\u001b[0m     }\n\u001b[1;32m     72\u001b[0m     chunked_html\u001b[38;5;241m.\u001b[39mappend(chunked_document)\n",
      "\u001b[0;31mNameError\u001b[0m: name 'response_data' is not defined"
     ]
    }
   ],
   "source": [
    "class SegmentationExecutor:\n",
    "    def __init__(self, host, api_key, api_key_primary_val, request_id):\n",
    "        self._host = host\n",
    "        self._api_key = api_key\n",
    "        self._api_key_primary_val = api_key_primary_val\n",
    "        self._request_id = request_id\n",
    " \n",
    "    def _send_request(self, completion_request):\n",
    "        headers = {\n",
    "            \"Content-Type\": \"application/json; charset=utf-8\",\n",
    "            \"X-NCP-CLOVASTUDIO-API-KEY\": self._api_key,\n",
    "            \"X-NCP-APIGW-API-KEY\": self._api_key_primary_val,\n",
    "            \"X-NCP-CLOVASTUDIO-REQUEST-ID\": self._request_id\n",
    "        }\n",
    " \n",
    "        conn = http.client.HTTPSConnection(self._host)\n",
    "        print(\"ht2\")\n",
    "        conn.request(\n",
    "            \"POST\",\n",
    "            \"/testapp/v1/api-tools/segmentation/RAG_langchainwiki_test\", # If using Service App, change 'testapp' to 'serviceapp', and corresponding app id.\n",
    "            json.dumps(completion_request),\n",
    "            headers\n",
    "        )\n",
    "        print(\"ht2\")\n",
    "        response = conn.getresponse()\n",
    "        print(response.length)\n",
    "        result = json.loads(response.read().decode(encoding=\"utf-8\"))\n",
    "        conn.close()\n",
    "        return result\n",
    " \n",
    "    def execute(self, completion_request):\n",
    "        res = self._send_request(completion_request)\n",
    "        if res[\"status\"][\"code\"] == \"20000\":\n",
    "            return res[\"result\"][\"topicSeg\"]\n",
    "        else:\n",
    "            raise ValueError(f\"{res}\")\n",
    " \n",
    " \n",
    "if __name__ == \"__main__\":\n",
    "    segmentation_executor = SegmentationExecutor(\n",
    "        host=\"clovastudio.apigw.ntruss.com\",\n",
    "        api_key=CLOVA_api_key,\n",
    "        api_key_primary_val=NCP_API_api_key,\n",
    "        request_id=clova_REQUEST_ID\n",
    "    )\n",
    " \n",
    "    chunked_html = []\n",
    " \n",
    "    for htmldata in tqdm( clovastudiodatas_flattened):\n",
    "        try:\n",
    "            request_data = {\n",
    "                \"postProcessMaxSize\": 100,\n",
    "                \"alpha\": 1.5,\n",
    "                \"segCnt\": -1,\n",
    "                \"postProcessMinSize\": 0,\n",
    "                \"text\": htmldata.page_content,\n",
    "                \"postProcess\": False\n",
    "            }\n",
    "\n",
    "            request_json_string = json.dumps(request_data)\n",
    "            request_data = json.loads(request_json_string, strict=False)\n",
    "            print(1)\n",
    "            response_data = segmentation_executor.execute(request_data)\n",
    "        except Exception as e:\n",
    "            print(f\"Error occurred. Message: {e}\")\n",
    "        \n",
    "        for paragraph in response_data:\n",
    "            chunked_document = {\n",
    "                \"source\": htmldata.metadata[\"source\"],\n",
    "                \"text\": paragraph\n",
    "            }\n",
    "            chunked_html.append(chunked_document)\n",
    " \n",
    "print(len(chunked_html))"
   ]
  },
  {
   "cell_type": "code",
   "execution_count": null,
   "metadata": {},
   "outputs": [],
   "source": []
  }
 ],
 "metadata": {
  "kernelspec": {
   "display_name": "torch-gpu",
   "language": "python",
   "name": "python3"
  },
  "language_info": {
   "codemirror_mode": {
    "name": "ipython",
    "version": 3
   },
   "file_extension": ".py",
   "mimetype": "text/x-python",
   "name": "python",
   "nbconvert_exporter": "python",
   "pygments_lexer": "ipython3",
   "version": "3.12.2"
  }
 },
 "nbformat": 4,
 "nbformat_minor": 2
}
