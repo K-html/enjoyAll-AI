{
 "cells": [
  {
   "cell_type": "markdown",
   "metadata": {},
   "source": [
    "## RAG_Clova"
   ]
  },
  {
   "cell_type": "markdown",
   "metadata": {},
   "source": [
    "#### Env"
   ]
  },
  {
   "cell_type": "markdown",
   "metadata": {},
   "source": [
    "Python Version : Python 3.12.2\n",
    "\n",
    "requirements : \n",
    "https://ssl.pstatic.net/static/clova/service/hyperclova/cookbook/rag/requirements.txt"
   ]
  },
  {
   "cell_type": "code",
   "execution_count": 1,
   "metadata": {},
   "outputs": [
    {
     "data": {
      "text/plain": [
       "True"
      ]
     },
     "execution_count": 1,
     "metadata": {},
     "output_type": "execute_result"
    }
   ],
   "source": [
    "# Vector DB인 Milvus와 관련된 모듈들은 모듈의 용도를 명확히 구분하기 위해 Vector DB 구축 단계에서 불러왔으며 해당 부분에서 코드를 확인하실 수 있습니다.\n",
    "import json\n",
    "import os\n",
    "import subprocess\n",
    "from langchain_community.document_loaders import UnstructuredHTMLLoader\n",
    "from pathlib import Path\n",
    "import base64\n",
    "import http.client\n",
    "from tqdm import tqdm\n",
    "import requests\n",
    "import dotenv\n",
    "dotenv.load_dotenv()"
   ]
  },
  {
   "cell_type": "markdown",
   "metadata": {},
   "source": [
    "#### 1. Raw Data → Connecting"
   ]
  },
  {
   "cell_type": "code",
   "execution_count": 2,
   "metadata": {},
   "outputs": [
    {
     "name": "stderr",
     "output_type": "stream",
     "text": [
      "--2024-09-15 23:30:21--  https://guide.ncloud-docs.com/docs/clovastudio-info\n",
      "Resolving guide.ncloud-docs.com (guide.ncloud-docs.com)... 104.18.7.159, 104.18.6.159\n",
      "Connecting to guide.ncloud-docs.com (guide.ncloud-docs.com)|104.18.7.159|:443... connected.\n",
      "HTTP request sent, awaiting response... 403 Forbidden\n",
      "2024-09-15 23:30:22 ERROR 403: Forbidden.\n",
      "\n"
     ]
    },
    {
     "ename": "CalledProcessError",
     "evalue": "Command '['/opt/homebrew/bin/wget', '-O', 'clovastudioguide/clovastudio-info.html', 'https://guide.ncloud-docs.com/docs/clovastudio-info']' returned non-zero exit status 8.",
     "output_type": "error",
     "traceback": [
      "\u001b[0;31m---------------------------------------------------------------------------\u001b[0m",
      "\u001b[0;31mCalledProcessError\u001b[0m                        Traceback (most recent call last)",
      "Cell \u001b[0;32mIn[2], line 14\u001b[0m\n\u001b[1;32m     12\u001b[0m     filename \u001b[38;5;241m=\u001b[39m url\u001b[38;5;241m.\u001b[39msplit(\u001b[38;5;124m\"\u001b[39m\u001b[38;5;124m/\u001b[39m\u001b[38;5;124m\"\u001b[39m)[\u001b[38;5;241m-\u001b[39m\u001b[38;5;241m1\u001b[39m] \u001b[38;5;241m+\u001b[39m \u001b[38;5;124m\"\u001b[39m\u001b[38;5;124m.html\u001b[39m\u001b[38;5;124m\"\u001b[39m\n\u001b[1;32m     13\u001b[0m     file_path \u001b[38;5;241m=\u001b[39m os\u001b[38;5;241m.\u001b[39mpath\u001b[38;5;241m.\u001b[39mjoin(folder_path, filename)\n\u001b[0;32m---> 14\u001b[0m     \u001b[43msubprocess\u001b[49m\u001b[38;5;241;43m.\u001b[39;49m\u001b[43mrun\u001b[49m\u001b[43m(\u001b[49m\u001b[43m[\u001b[49m\u001b[43mwget_path\u001b[49m\u001b[43m,\u001b[49m\u001b[43m \u001b[49m\u001b[38;5;124;43m\"\u001b[39;49m\u001b[38;5;124;43m-O\u001b[39;49m\u001b[38;5;124;43m\"\u001b[39;49m\u001b[43m,\u001b[49m\u001b[43m \u001b[49m\u001b[43mfile_path\u001b[49m\u001b[43m,\u001b[49m\u001b[43m \u001b[49m\u001b[43murl\u001b[49m\u001b[43m]\u001b[49m\u001b[43m,\u001b[49m\u001b[43m \u001b[49m\u001b[43mcheck\u001b[49m\u001b[38;5;241;43m=\u001b[39;49m\u001b[38;5;28;43;01mTrue\u001b[39;49;00m\u001b[43m)\u001b[49m\n\u001b[1;32m     15\u001b[0m     url_to_filename_map[url] \u001b[38;5;241m=\u001b[39m filename\n\u001b[1;32m     17\u001b[0m \u001b[38;5;28;01mwith\u001b[39;00m \u001b[38;5;28mopen\u001b[39m(\u001b[38;5;124m\"\u001b[39m\u001b[38;5;124murl_to_filename_map.json\u001b[39m\u001b[38;5;124m\"\u001b[39m, \u001b[38;5;124m\"\u001b[39m\u001b[38;5;124mw\u001b[39m\u001b[38;5;124m\"\u001b[39m) \u001b[38;5;28;01mas\u001b[39;00m map_file:\n",
      "File \u001b[0;32m/opt/anaconda3/envs/clova-env/lib/python3.12/subprocess.py:571\u001b[0m, in \u001b[0;36mrun\u001b[0;34m(input, capture_output, timeout, check, *popenargs, **kwargs)\u001b[0m\n\u001b[1;32m    569\u001b[0m     retcode \u001b[38;5;241m=\u001b[39m process\u001b[38;5;241m.\u001b[39mpoll()\n\u001b[1;32m    570\u001b[0m     \u001b[38;5;28;01mif\u001b[39;00m check \u001b[38;5;129;01mand\u001b[39;00m retcode:\n\u001b[0;32m--> 571\u001b[0m         \u001b[38;5;28;01mraise\u001b[39;00m CalledProcessError(retcode, process\u001b[38;5;241m.\u001b[39margs,\n\u001b[1;32m    572\u001b[0m                                  output\u001b[38;5;241m=\u001b[39mstdout, stderr\u001b[38;5;241m=\u001b[39mstderr)\n\u001b[1;32m    573\u001b[0m \u001b[38;5;28;01mreturn\u001b[39;00m CompletedProcess(process\u001b[38;5;241m.\u001b[39margs, retcode, stdout, stderr)\n",
      "\u001b[0;31mCalledProcessError\u001b[0m: Command '['/opt/homebrew/bin/wget', '-O', 'clovastudioguide/clovastudio-info.html', 'https://guide.ncloud-docs.com/docs/clovastudio-info']' returned non-zero exit status 8."
     ]
    }
   ],
   "source": [
    "url_to_filename_map = {}\n",
    "wget_path=\"/opt/homebrew/bin/wget\"\n",
    "with open(\"clovastudiourl.txt\", \"r\") as file:\n",
    "    urls = [url.strip() for url in file.readlines()]\n",
    " \n",
    "folder_path = \"clovastudioguide\"\n",
    " \n",
    "if not os.path.exists(folder_path):\n",
    "    os.makedirs(folder_path)\n",
    "\n",
    "for url in urls:\n",
    "    filename = url.split(\"/\")[-1] + \".html\"\n",
    "    file_path = os.path.join(folder_path, filename)\n",
    "    subprocess.run([wget_path, \"-O\", file_path, url], check=True)\n",
    "    url_to_filename_map[url] = filename\n",
    " \n",
    "with open(\"url_to_filename_map.json\", \"w\") as map_file:\n",
    "    json.dump(url_to_filename_map, map_file)"
   ]
  },
  {
   "cell_type": "code",
   "execution_count": 5,
   "metadata": {},
   "outputs": [
    {
     "name": "stderr",
     "output_type": "stream",
     "text": [
      "Downloading: 100%|██████████| 7/7 [00:06<00:00,  1.14it/s]"
     ]
    },
    {
     "name": "stdout",
     "output_type": "stream",
     "text": [
      "Download complete. Mapping saved to url_to_filename_map.json\n"
     ]
    },
    {
     "name": "stderr",
     "output_type": "stream",
     "text": [
      "\n"
     ]
    }
   ],
   "source": [
    "import os\n",
    "import json\n",
    "import requests\n",
    "from tqdm import tqdm\n",
    "\n",
    "url_to_filename_map = {}\n",
    "folder_path = \"clovastudioguide\"\n",
    "\n",
    "with open(\"clovastudiourl.txt\", \"r\") as file:\n",
    "    urls = [url.strip() for url in file.readlines()]\n",
    "\n",
    "if not os.path.exists(folder_path):\n",
    "    os.makedirs(folder_path)\n",
    "\n",
    "headers = {\n",
    "    \"User-Agent\": \"Mozilla/5.0 (Windows NT 10.0; Win64; x64) AppleWebKit/537.36 (KHTML, like Gecko) Chrome/91.0.4472.124 Safari/537.36\"\n",
    "}\n",
    "\n",
    "for url in tqdm(urls, desc=\"Downloading\"):\n",
    "    filename = url.split(\"/\")[-1] + \".html\"\n",
    "    file_path = os.path.join(folder_path, filename)\n",
    "    \n",
    "    try:\n",
    "        response = requests.get(url, headers=headers)\n",
    "        response.raise_for_status()\n",
    "        \n",
    "        with open(file_path, \"wb\") as file:\n",
    "            file.write(response.content)\n",
    "        \n",
    "        url_to_filename_map[url] = filename\n",
    "\n",
    "    except requests.RequestException as e:\n",
    "        print(f\"An error occurred while downloading {url}: {e}\")\n",
    "\n",
    "with open(\"url_to_filename_map.json\", \"w\") as map_file:\n",
    "    json.dump(url_to_filename_map, map_file, indent=4)\n",
    "\n",
    "print(\"Download complete. Mapping saved to url_to_filename_map.json\")\n"
   ]
  },
  {
   "cell_type": "markdown",
   "metadata": {},
   "source": [
    "##### Quote"
   ]
  },
  {
   "cell_type": "markdown",
   "metadata": {},
   "source": [
    "txt 파일을 작성할 때는 한 줄에 하나의 URL을 작성해야 합니다. 이때, 각 URL은 줄바꿈으로 구분되어야 합니다.\n",
    "\n",
    "그리고 html 데이터를 로딩하기 전, robots.txt를 통해 데이터로 활용할 사이트의 접근 허용 여부를 확인해야합니다. NCP의 클로바스튜디오 사용 가이드의 경우 User-agent: * Allow:/ 로 접근이 가능합니다.\n",
    "\n",
    "예제에서 활용한 HTML은, 네이버클라우드 플랫폼(NCP)의 클로바스튜디오 사용 가이드중 CLOVA Studio(\"AI Services\" → \"CLOVA Studio\")와 관련된 모든 안내 페이지를 데이터로 활용했습니다.\n",
    "\n",
    "LangChain을 활용해 로딩한 html은, 파일을 저장한 디렉토리의 주소를 metadata의 'source'로 가져오게 됩니다. 추후 답변 제공시, 디렉토리 주소가 아닌 실제 URL을 제공하기 위해, LangChain이 로딩한 데이터를 수정해야합니다.\n",
    "\n",
    "html을 로딩할 때 파일명을 URL로 할 경우, /와 : 기호로 인해 파일명이 깨지게 됩니다. 따라서 원본 URL과 로딩한 HTML 파일을 쌍으로 mapping하고, 이 정보를 json 형식으로 \"url_to_filename_map\"에 저장합니다.\n",
    "\n",
    "이후, html 파일의 저장 경로가 담긴 'source'를, 이 json 파일과 연결해 실제 URL로 변환해줍니다. 위 코드는, json 파일을 저장하는 단계까지입니다."
   ]
  },
  {
   "cell_type": "markdown",
   "metadata": {},
   "source": [
    "##### LangChain 활용 HTML 로딩\n",
    "\n"
   ]
  },
  {
   "cell_type": "code",
   "execution_count": 6,
   "metadata": {},
   "outputs": [],
   "source": [
    "# 폴더 이름에 맞게 수정\n",
    "html_files_dir = Path('/Users/minu/dev/Naver/enjoyAll-AI/clovastudioguide')\n",
    " \n",
    "html_files = list(html_files_dir.glob(\"*.html\"))\n",
    " \n",
    "clovastudiodatas = []\n",
    " \n",
    "for html_file in html_files:\n",
    "    loader = UnstructuredHTMLLoader(str(html_file))\n",
    "    document_data = loader.load()\n",
    "    clovastudiodatas.append(document_data)\n",
    "    print(f\"Processed {html_file}\")"
   ]
  },
  {
   "cell_type": "code",
   "execution_count": 20,
   "metadata": {},
   "outputs": [
    {
     "name": "stdout",
     "output_type": "stream",
     "text": [
      "0\n"
     ]
    }
   ],
   "source": [
    "print(len(clovastudiodatas))\n",
    "if len(clovastudiodatas) > 0:\n",
    "    print(clovastudiodatas[0])"
   ]
  },
  {
   "cell_type": "markdown",
   "metadata": {},
   "source": [
    "##### Quote"
   ]
  },
  {
   "cell_type": "markdown",
   "metadata": {},
   "source": [
    "각 HTML에는 page_content에 모든 텍스트가, metadata의 'source'에는 저장 경로가 기록되어 있습니다. 위는, 로딩된 데이터 중 하나인 clovastudio-info.html의 형태입니다. metadata의 'source'에 실제 URL이 아닌 html 파일이 저장된 디렉토리 경로가 담긴 것을 확인할 수 있습니다. Mapping을 통해 이 'source'를 실제 URL로 바꾸는 작업을 다음 단계에 진행하게 됩니다."
   ]
  },
  {
   "cell_type": "markdown",
   "metadata": {},
   "source": [
    "##### Mapping 정보를 활용해 'source'를 실제 URL로 대체"
   ]
  },
  {
   "cell_type": "markdown",
   "metadata": {},
   "source": []
  },
  {
   "cell_type": "code",
   "execution_count": 19,
   "metadata": {},
   "outputs": [],
   "source": [
    "with open(\"url_to_filename_map.json\", \"r\") as map_file:\n",
    "    url_to_filename_map = json.load(map_file)\n",
    " \n",
    "filename_to_url_map = {v: k for k, v in url_to_filename_map.items()}\n",
    "\n",
    "# langchainwikidatas 리스트의 각 Document 객체의 'source' 수정\n",
    "for doc_list in clovastudiodatas:\n",
    "    for doc in doc_list:\n",
    "        extracted_filename = doc.metadata[\"source\"].split(\"/\")[-1]\n",
    "        print(doc.metadata[\"source\"].split(\"/\"))\n",
    "        if extracted_filename in filename_to_url_map:\n",
    "            doc.metadata[\"source\"] = filename_to_url_map[extracted_filename]\n",
    "        else:\n",
    "            print(f\"Warning: {extracted_filename}에 해당하는 URL을 찾을 수 없습니다.\")"
   ]
  },
  {
   "cell_type": "code",
   "execution_count": 8,
   "metadata": {},
   "outputs": [],
   "source": [
    "# 이중 리스트를 풀어서 하나의 리스트로 만드는 작업\n",
    "clovastudiodatas_flattened = [item for sublist in clovastudiodatas for item in sublist]"
   ]
  },
  {
   "cell_type": "code",
   "execution_count": 9,
   "metadata": {},
   "outputs": [
    {
     "data": {
      "text/plain": [
       "[]"
      ]
     },
     "execution_count": 9,
     "metadata": {},
     "output_type": "execute_result"
    }
   ],
   "source": [
    "clovastudiodatas_flattened "
   ]
  },
  {
   "cell_type": "markdown",
   "metadata": {},
   "source": [
    "#### 2. Chunking\n",
    "\n"
   ]
  },
  {
   "cell_type": "markdown",
   "metadata": {},
   "source": [
    "임베딩 모델이 처리할 수 있는 적당한 크기로 raw data를 나누는 것은 매우 중요합니다. 이는 임베딩 모델마다 한 번에 처리할 수 있는 토큰 수의 한계가 있기 때문입니다. CLOVA Studio의 문단 나누기 API는 모델이 직접 문장들간의 의미 유사도를 찾아 최적의 chunk 개수와 사용자가 원하는 1개 chunk의 크기(글자 수)를 직접 설정하여 문단을 나눌 수도 있습니다. 추가로, 후처리(postProcess = True)를 통해 chunk당 글자 수의 상한선과 하한선을 postProcessMaxSize와 postProcessMinSize로 조절할 수도 있습니다."
   ]
  },
  {
   "cell_type": "code",
   "execution_count": 18,
   "metadata": {},
   "outputs": [
    {
     "name": "stderr",
     "output_type": "stream",
     "text": [
      "0it [00:00, ?it/s]"
     ]
    },
    {
     "name": "stdout",
     "output_type": "stream",
     "text": [
      "0\n"
     ]
    },
    {
     "name": "stderr",
     "output_type": "stream",
     "text": [
      "\n"
     ]
    }
   ],
   "source": [
    "class SegmentationExecutor:\n",
    "    def __init__(self, host, api_key, api_key_primary_val, request_id):\n",
    "        self._host = host\n",
    "        self._api_key = api_key\n",
    "        self._api_key_primary_val = api_key_primary_val\n",
    "        self._request_id = request_id\n",
    " \n",
    "    def _send_request(self, completion_request):\n",
    "        headers = {\n",
    "            \"Content-Type\": \"application/json; charset=utf-8\",\n",
    "            \"X-NCP-CLOVASTUDIO-API-KEY\": \"NTA0MjU2MWZlZTcxNDJiY9olvu8DfBGDWQ20qeVZrRupbxCgWcs/59xl7cuRCJQ/\",\n",
    "            \"X-NCP-APIGW-API-KEY\": \"J97Kg6j6Nrc14yhuSv1JfvgWlJ2qbcOKUsAS88BB\",\n",
    "            \"X-NCP-CLOVASTUDIO-REQUEST-ID\": \"8147d8eb-a1ff-46e7-8b7e-2c5e6907deb1\"\n",
    "        }\n",
    "        conn = http.client.HTTPSConnection(self._host)\n",
    "        print(\"ht2\")\n",
    "        conn.request(\n",
    "            \"POST\",\n",
    "            \"/testapp/v1/api-tools/segmentation/fd948489735b452e90565d7dd15094bd\", # If using Service App, change 'testapp' to 'serviceapp', and corresponding app id.\n",
    "            json.dumps(completion_request),\n",
    "            headers\n",
    "        )\n",
    "        print(\"ht2\")\n",
    "        response = conn.getresponse()\n",
    "        print(response.length)\n",
    "        result = json.loads(response.read().decode(encoding=\"utf-8\"))\n",
    "        conn.close()\n",
    "        return result\n",
    " \n",
    "    def execute(self, completion_request):\n",
    "        res = self._send_request(completion_request)\n",
    "        if res[\"status\"][\"code\"] == \"20000\":\n",
    "            return res[\"result\"][\"topicSeg\"]\n",
    "        else:\n",
    "            raise ValueError(f\"{res}\")\n",
    " \n",
    " \n",
    "if __name__ == \"__main__\":\n",
    "    segmentation_executor = SegmentationExecutor(\n",
    "        host=\"clovastudio.apigw.ntruss.com\",\n",
    "        api_key=\"NTA0MjU2MWZlZTcxNDJiY9olvu8DfBGDWQ20qeVZrRupbxCgWcs/59xl7cuRCJQ/\",\n",
    "        api_key_primary_val=\"J97Kg6j6Nrc14yhuSv1JfvgWlJ2qbcOKUsAS88BB\",\n",
    "        request_id=\"8147d8eb-a1ff-46e7-8b7e-2c5e6907deb1\"\n",
    "    )\n",
    " \n",
    "    chunked_html = []\n",
    " \n",
    "    for htmldata in tqdm( clovastudiodatas_flattened):\n",
    "        try:\n",
    "            request_data = {\n",
    "                \"postProcessMaxSize\": 100,\n",
    "                \"alpha\": 1.5,\n",
    "                \"segCnt\": -1,\n",
    "                \"postProcessMinSize\": 0,\n",
    "                \"text\": htmldata.page_content,\n",
    "                \"postProcess\": False\n",
    "            }\n",
    "\n",
    "            request_json_string = json.dumps(request_data)\n",
    "            request_data = json.loads(request_json_string, strict=False)\n",
    "            print(1)\n",
    "            response_data = segmentation_executor.execute(request_data)\n",
    "        except Exception as e:\n",
    "            print(f\"Error occurred. Message: {e}\")\n",
    "        \n",
    "        for paragraph in response_data:\n",
    "            chunked_document = {\n",
    "                \"source\": htmldata.metadata[\"source\"],\n",
    "                \"text\": paragraph\n",
    "            }\n",
    "            chunked_html.append(chunked_document)\n",
    " \n",
    "print(len(chunked_html))"
   ]
  },
  {
   "cell_type": "code",
   "execution_count": 14,
   "metadata": {},
   "outputs": [
    {
     "data": {
      "text/plain": [
       "0"
      ]
     },
     "execution_count": 14,
     "metadata": {},
     "output_type": "execute_result"
    }
   ],
   "source": [
    "len(chunked_html)"
   ]
  },
  {
   "cell_type": "markdown",
   "metadata": {},
   "source": [
    "#### 3. Embedding\n",
    "\n",
    "문단 나누기 API를 통해 나누어진 525개의 chunk(chunked_html)을 CLOVA Studio의 임베딩 API를 사용해 1024차원의 벡터로 변환하는 과정입니다. clir-emb-dolphin의 경우, 임베딩 과정에서 유사도 판단을 위해 벡터의 내적(Inner Product, IP)을 거리 단위로 사용합니다. 반면, clir-sts-dolphin은 코사인 거리(Cosine)를 거리 단위로 사용합니다. 이후, 벡터의 인덱싱과 검색 과정에서 사용자는 어떤 거리 단위를 사용하여 데이터와 사용자의 쿼리 간 유사도를 판단할 것인지 선택할 수 있습니다.\n",
    "\n",
    "거리 단위를 임베딩부터 인덱싱, 검색까지 일치시켜야 데이터의 품질이 향상되므로, 임베딩 과정에서 사용한 모델(emb / sts)을 기억하는 것이 중요합니다. 임베딩 클래스에 오류가 발생시 멈추게끔 하는 로직을 일부 추가해, 다량의 데이터를 처리할 때 오류 발생시 재실행의 부담을 줄입니다."
   ]
  },
  {
   "cell_type": "code",
   "execution_count": 12,
   "metadata": {},
   "outputs": [
    {
     "name": "stderr",
     "output_type": "stream",
     "text": [
      "  1%|          | 6/814 [00:00<00:30, 26.76it/s]"
     ]
    },
    {
     "name": "stdout",
     "output_type": "stream",
     "text": [
      "Embedding API Error. 오류 발생: 40001: Invalid parameter\n",
      "Embedding API Error. 오류 발생: 40001: Invalid parameter\n",
      "Embedding API Error. 오류 발생: 40001: Invalid parameter\n",
      "Embedding API Error. 오류 발생: 40001: Invalid parameter\n",
      "Embedding API Error. 오류 발생: 40001: Invalid parameter\n",
      "Embedding API Error. 오류 발생: 40001: Invalid parameter\n"
     ]
    },
    {
     "name": "stderr",
     "output_type": "stream",
     "text": [
      "  1%|▏         | 12/814 [00:00<00:29, 27.08it/s]"
     ]
    },
    {
     "name": "stdout",
     "output_type": "stream",
     "text": [
      "Embedding API Error. 오류 발생: 40001: Invalid parameter\n",
      "Embedding API Error. 오류 발생: 40001: Invalid parameter\n",
      "Embedding API Error. 오류 발생: 40001: Invalid parameter\n",
      "Embedding API Error. 오류 발생: 40001: Invalid parameter\n",
      "Embedding API Error. 오류 발생: 40001: Invalid parameter\n",
      "Embedding API Error. 오류 발생: 40001: Invalid parameter\n"
     ]
    },
    {
     "name": "stderr",
     "output_type": "stream",
     "text": [
      "  2%|▏         | 18/814 [00:00<00:29, 26.98it/s]"
     ]
    },
    {
     "name": "stdout",
     "output_type": "stream",
     "text": [
      "Embedding API Error. 오류 발생: 40001: Invalid parameter\n",
      "Embedding API Error. 오류 발생: 40001: Invalid parameter\n",
      "Embedding API Error. 오류 발생: 40001: Invalid parameter\n",
      "Embedding API Error. 오류 발생: 40001: Invalid parameter\n",
      "Embedding API Error. 오류 발생: 40001: Invalid parameter\n",
      "Embedding API Error. 오류 발생: 40001: Invalid parameter\n"
     ]
    },
    {
     "name": "stderr",
     "output_type": "stream",
     "text": [
      "  3%|▎         | 24/814 [00:00<00:29, 27.10it/s]"
     ]
    },
    {
     "name": "stdout",
     "output_type": "stream",
     "text": [
      "Embedding API Error. 오류 발생: 40001: Invalid parameter\n",
      "Embedding API Error. 오류 발생: 40001: Invalid parameter\n",
      "Embedding API Error. 오류 발생: 40001: Invalid parameter\n",
      "Embedding API Error. 오류 발생: 40001: Invalid parameter\n",
      "Embedding API Error. 오류 발생: 40001: Invalid parameter\n",
      "Embedding API Error. 오류 발생: 40001: Invalid parameter\n"
     ]
    },
    {
     "name": "stderr",
     "output_type": "stream",
     "text": [
      "  4%|▎         | 30/814 [00:01<00:29, 26.74it/s]"
     ]
    },
    {
     "name": "stdout",
     "output_type": "stream",
     "text": [
      "Embedding API Error. 오류 발생: 40001: Invalid parameter\n",
      "Embedding API Error. 오류 발생: 40001: Invalid parameter\n",
      "Embedding API Error. 오류 발생: 40001: Invalid parameter\n",
      "Embedding API Error. 오류 발생: 40001: Invalid parameter\n",
      "Embedding API Error. 오류 발생: 40001: Invalid parameter\n",
      "Embedding API Error. 오류 발생: 40001: Invalid parameter\n"
     ]
    },
    {
     "name": "stderr",
     "output_type": "stream",
     "text": [
      "  4%|▍         | 36/814 [00:01<00:28, 27.56it/s]"
     ]
    },
    {
     "name": "stdout",
     "output_type": "stream",
     "text": [
      "Embedding API Error. 오류 발생: 40001: Invalid parameter\n",
      "Embedding API Error. 오류 발생: 40001: Invalid parameter\n",
      "Embedding API Error. 오류 발생: 40001: Invalid parameter\n",
      "Embedding API Error. 오류 발생: 40001: Invalid parameter\n",
      "Embedding API Error. 오류 발생: 40001: Invalid parameter\n",
      "Embedding API Error. 오류 발생: 40001: Invalid parameter\n"
     ]
    },
    {
     "name": "stderr",
     "output_type": "stream",
     "text": [
      "  5%|▌         | 42/814 [00:01<00:27, 28.42it/s]"
     ]
    },
    {
     "name": "stdout",
     "output_type": "stream",
     "text": [
      "Embedding API Error. 오류 발생: 40001: Invalid parameter\n",
      "Embedding API Error. 오류 발생: 40001: Invalid parameter\n",
      "Embedding API Error. 오류 발생: 40001: Invalid parameter\n",
      "Embedding API Error. 오류 발생: 40001: Invalid parameter\n",
      "Embedding API Error. 오류 발생: 40001: Invalid parameter\n",
      "Embedding API Error. 오류 발생: 40001: Invalid parameter\n"
     ]
    },
    {
     "name": "stderr",
     "output_type": "stream",
     "text": [
      "  6%|▌         | 48/814 [00:01<00:26, 28.41it/s]"
     ]
    },
    {
     "name": "stdout",
     "output_type": "stream",
     "text": [
      "Embedding API Error. 오류 발생: 40001: Invalid parameter\n",
      "Embedding API Error. 오류 발생: 40001: Invalid parameter\n",
      "Embedding API Error. 오류 발생: 40001: Invalid parameter\n",
      "Embedding API Error. 오류 발생: 40001: Invalid parameter\n",
      "Embedding API Error. 오류 발생: 40001: Invalid parameter\n",
      "Embedding API Error. 오류 발생: 40001: Invalid parameter\n"
     ]
    },
    {
     "name": "stderr",
     "output_type": "stream",
     "text": [
      "  7%|▋         | 54/814 [00:01<00:27, 27.30it/s]"
     ]
    },
    {
     "name": "stdout",
     "output_type": "stream",
     "text": [
      "Embedding API Error. 오류 발생: 40001: Invalid parameter\n",
      "Embedding API Error. 오류 발생: 40001: Invalid parameter\n",
      "Embedding API Error. 오류 발생: 40001: Invalid parameter\n",
      "Embedding API Error. 오류 발생: 40001: Invalid parameter\n",
      "Embedding API Error. 오류 발생: 40001: Invalid parameter\n",
      "Embedding API Error. 오류 발생: 40001: Invalid parameter\n"
     ]
    },
    {
     "name": "stderr",
     "output_type": "stream",
     "text": [
      "  7%|▋         | 60/814 [00:02<00:27, 26.99it/s]"
     ]
    },
    {
     "name": "stdout",
     "output_type": "stream",
     "text": [
      "Embedding API Error. 오류 발생: 40001: Invalid parameter\n",
      "Embedding API Error. 오류 발생: 40001: Invalid parameter\n",
      "Embedding API Error. 오류 발생: 40001: Invalid parameter\n",
      "Embedding API Error. 오류 발생: 40001: Invalid parameter\n",
      "Embedding API Error. 오류 발생: 40001: Invalid parameter\n",
      "Embedding API Error. 오류 발생: 40001: Invalid parameter\n"
     ]
    },
    {
     "name": "stderr",
     "output_type": "stream",
     "text": [
      "  8%|▊         | 66/814 [00:02<00:27, 26.79it/s]"
     ]
    },
    {
     "name": "stdout",
     "output_type": "stream",
     "text": [
      "Embedding API Error. 오류 발생: 40001: Invalid parameter\n",
      "Embedding API Error. 오류 발생: 40001: Invalid parameter\n",
      "Embedding API Error. 오류 발생: 40001: Invalid parameter\n",
      "Embedding API Error. 오류 발생: 40001: Invalid parameter\n",
      "Embedding API Error. 오류 발생: 40001: Invalid parameter\n",
      "Embedding API Error. 오류 발생: 40001: Invalid parameter\n"
     ]
    },
    {
     "name": "stderr",
     "output_type": "stream",
     "text": [
      "  9%|▉         | 72/814 [00:02<00:27, 26.52it/s]"
     ]
    },
    {
     "name": "stdout",
     "output_type": "stream",
     "text": [
      "Embedding API Error. 오류 발생: 40001: Invalid parameter\n",
      "Embedding API Error. 오류 발생: 40001: Invalid parameter\n",
      "Embedding API Error. 오류 발생: 40001: Invalid parameter\n",
      "Embedding API Error. 오류 발생: 40001: Invalid parameter\n",
      "Embedding API Error. 오류 발생: 40001: Invalid parameter\n",
      "Embedding API Error. 오류 발생: 40001: Invalid parameter\n"
     ]
    },
    {
     "name": "stderr",
     "output_type": "stream",
     "text": [
      " 10%|▉         | 78/814 [00:02<00:27, 26.36it/s]"
     ]
    },
    {
     "name": "stdout",
     "output_type": "stream",
     "text": [
      "Embedding API Error. 오류 발생: 40001: Invalid parameter\n",
      "Embedding API Error. 오류 발생: 40001: Invalid parameter\n",
      "Embedding API Error. 오류 발생: 40001: Invalid parameter\n",
      "Embedding API Error. 오류 발생: 40001: Invalid parameter\n",
      "Embedding API Error. 오류 발생: 40001: Invalid parameter\n",
      "Embedding API Error. 오류 발생: 40001: Invalid parameter\n"
     ]
    },
    {
     "name": "stderr",
     "output_type": "stream",
     "text": [
      " 10%|█         | 84/814 [00:03<00:26, 27.58it/s]"
     ]
    },
    {
     "name": "stdout",
     "output_type": "stream",
     "text": [
      "Embedding API Error. 오류 발생: 40001: Invalid parameter\n",
      "Embedding API Error. 오류 발생: 40001: Invalid parameter\n",
      "Embedding API Error. 오류 발생: 40001: Invalid parameter\n",
      "Embedding API Error. 오류 발생: 40001: Invalid parameter\n",
      "Embedding API Error. 오류 발생: 40001: Invalid parameter\n",
      "Embedding API Error. 오류 발생: 40001: Invalid parameter\n"
     ]
    },
    {
     "name": "stderr",
     "output_type": "stream",
     "text": [
      " 11%|█         | 90/814 [00:03<00:26, 26.90it/s]"
     ]
    },
    {
     "name": "stdout",
     "output_type": "stream",
     "text": [
      "Embedding API Error. 오류 발생: 40001: Invalid parameter\n",
      "Embedding API Error. 오류 발생: 40001: Invalid parameter\n",
      "Embedding API Error. 오류 발생: 40001: Invalid parameter\n",
      "Embedding API Error. 오류 발생: 40001: Invalid parameter\n",
      "Embedding API Error. 오류 발생: 40001: Invalid parameter\n",
      "Embedding API Error. 오류 발생: 40001: Invalid parameter\n"
     ]
    },
    {
     "name": "stderr",
     "output_type": "stream",
     "text": [
      " 12%|█▏        | 96/814 [00:03<00:26, 26.93it/s]"
     ]
    },
    {
     "name": "stdout",
     "output_type": "stream",
     "text": [
      "Embedding API Error. 오류 발생: 40001: Invalid parameter\n",
      "Embedding API Error. 오류 발생: 40001: Invalid parameter\n",
      "Embedding API Error. 오류 발생: 40001: Invalid parameter\n",
      "Embedding API Error. 오류 발생: 40001: Invalid parameter\n",
      "Embedding API Error. 오류 발생: 40001: Invalid parameter\n",
      "Embedding API Error. 오류 발생: 40001: Invalid parameter\n"
     ]
    },
    {
     "name": "stderr",
     "output_type": "stream",
     "text": [
      " 13%|█▎        | 102/814 [00:03<00:27, 26.17it/s]"
     ]
    },
    {
     "name": "stdout",
     "output_type": "stream",
     "text": [
      "Embedding API Error. 오류 발생: 40001: Invalid parameter\n",
      "Embedding API Error. 오류 발생: 40001: Invalid parameter\n",
      "Embedding API Error. 오류 발생: 40001: Invalid parameter\n",
      "Embedding API Error. 오류 발생: 40001: Invalid parameter\n",
      "Embedding API Error. 오류 발생: 40001: Invalid parameter\n",
      "Embedding API Error. 오류 발생: 40001: Invalid parameter\n"
     ]
    },
    {
     "name": "stderr",
     "output_type": "stream",
     "text": [
      " 13%|█▎        | 108/814 [00:03<00:26, 26.67it/s]"
     ]
    },
    {
     "name": "stdout",
     "output_type": "stream",
     "text": [
      "Embedding API Error. 오류 발생: 40001: Invalid parameter\n",
      "Embedding API Error. 오류 발생: 40001: Invalid parameter\n",
      "Embedding API Error. 오류 발생: 40001: Invalid parameter\n",
      "Embedding API Error. 오류 발생: 40001: Invalid parameter\n",
      "Embedding API Error. 오류 발생: 40001: Invalid parameter\n",
      "Embedding API Error. 오류 발생: 40001: Invalid parameter\n"
     ]
    },
    {
     "name": "stderr",
     "output_type": "stream",
     "text": [
      " 14%|█▎        | 111/814 [00:04<00:26, 26.62it/s]"
     ]
    },
    {
     "name": "stdout",
     "output_type": "stream",
     "text": [
      "Embedding API Error. 오류 발생: 40001: Invalid parameter\n",
      "Embedding API Error. 오류 발생: 40001: Invalid parameter\n",
      "Embedding API Error. 오류 발생: 40001: Invalid parameter\n",
      "Embedding API Error. 오류 발생: 40001: Invalid parameter\n",
      "Embedding API Error. 오류 발생: 40001: Invalid parameter\n"
     ]
    },
    {
     "name": "stderr",
     "output_type": "stream",
     "text": [
      " 14%|█▍        | 117/814 [00:04<00:28, 24.66it/s]"
     ]
    },
    {
     "name": "stdout",
     "output_type": "stream",
     "text": [
      "Embedding API Error. 오류 발생: 40001: Invalid parameter\n",
      "Embedding API Error. 오류 발생: 40001: Invalid parameter\n",
      "Embedding API Error. 오류 발생: 40001: Invalid parameter\n",
      "Embedding API Error. 오류 발생: 40001: Invalid parameter\n",
      "Embedding API Error. 오류 발생: 40001: Invalid parameter\n"
     ]
    },
    {
     "name": "stderr",
     "output_type": "stream",
     "text": [
      " 15%|█▌        | 123/814 [00:04<00:28, 23.87it/s]"
     ]
    },
    {
     "name": "stdout",
     "output_type": "stream",
     "text": [
      "Embedding API Error. 오류 발생: 40001: Invalid parameter\n",
      "Embedding API Error. 오류 발생: 40001: Invalid parameter\n",
      "Embedding API Error. 오류 발생: 40001: Invalid parameter\n",
      "Embedding API Error. 오류 발생: 40001: Invalid parameter\n",
      "Embedding API Error. 오류 발생: 40001: Invalid parameter\n",
      "Embedding API Error. 오류 발생: 40001: Invalid parameter\n"
     ]
    },
    {
     "name": "stderr",
     "output_type": "stream",
     "text": [
      " 16%|█▌        | 129/814 [00:04<00:27, 24.85it/s]"
     ]
    },
    {
     "name": "stdout",
     "output_type": "stream",
     "text": [
      "Embedding API Error. 오류 발생: 40001: Invalid parameter\n",
      "Embedding API Error. 오류 발생: 40001: Invalid parameter\n",
      "Embedding API Error. 오류 발생: 40001: Invalid parameter\n",
      "Embedding API Error. 오류 발생: 40001: Invalid parameter\n",
      "Embedding API Error. 오류 발생: 40001: Invalid parameter\n",
      "Embedding API Error. 오류 발생: 40001: Invalid parameter\n"
     ]
    },
    {
     "name": "stderr",
     "output_type": "stream",
     "text": [
      " 17%|█▋        | 135/814 [00:05<00:26, 25.47it/s]"
     ]
    },
    {
     "name": "stdout",
     "output_type": "stream",
     "text": [
      "Embedding API Error. 오류 발생: 40001: Invalid parameter\n",
      "Embedding API Error. 오류 발생: 40001: Invalid parameter\n",
      "Embedding API Error. 오류 발생: 40001: Invalid parameter\n",
      "Embedding API Error. 오류 발생: 40001: Invalid parameter\n",
      "Embedding API Error. 오류 발생: 40001: Invalid parameter\n",
      "Embedding API Error. 오류 발생: 40001: Invalid parameter\n"
     ]
    },
    {
     "name": "stderr",
     "output_type": "stream",
     "text": [
      " 17%|█▋        | 141/814 [00:05<00:25, 26.15it/s]"
     ]
    },
    {
     "name": "stdout",
     "output_type": "stream",
     "text": [
      "Embedding API Error. 오류 발생: 40001: Invalid parameter\n",
      "Embedding API Error. 오류 발생: 40001: Invalid parameter\n",
      "Embedding API Error. 오류 발생: 40001: Invalid parameter\n",
      "Embedding API Error. 오류 발생: 40001: Invalid parameter\n",
      "Embedding API Error. 오류 발생: 40001: Invalid parameter\n",
      "Embedding API Error. 오류 발생: 40001: Invalid parameter\n"
     ]
    },
    {
     "name": "stderr",
     "output_type": "stream",
     "text": [
      " 18%|█▊        | 147/814 [00:05<00:25, 26.44it/s]"
     ]
    },
    {
     "name": "stdout",
     "output_type": "stream",
     "text": [
      "Embedding API Error. 오류 발생: 40001: Invalid parameter\n",
      "Embedding API Error. 오류 발생: 40001: Invalid parameter\n",
      "Embedding API Error. 오류 발생: 40001: Invalid parameter\n",
      "Embedding API Error. 오류 발생: 40001: Invalid parameter\n",
      "Embedding API Error. 오류 발생: 40001: Invalid parameter\n",
      "Embedding API Error. 오류 발생: 40001: Invalid parameter\n"
     ]
    },
    {
     "name": "stderr",
     "output_type": "stream",
     "text": [
      " 19%|█▉        | 153/814 [00:05<00:25, 25.70it/s]"
     ]
    },
    {
     "name": "stdout",
     "output_type": "stream",
     "text": [
      "Embedding API Error. 오류 발생: 40001: Invalid parameter\n",
      "Embedding API Error. 오류 발생: 40001: Invalid parameter\n",
      "Embedding API Error. 오류 발생: 40001: Invalid parameter\n",
      "Embedding API Error. 오류 발생: 40001: Invalid parameter\n",
      "Embedding API Error. 오류 발생: 40001: Invalid parameter\n",
      "Embedding API Error. 오류 발생: 40001: Invalid parameter\n"
     ]
    },
    {
     "name": "stderr",
     "output_type": "stream",
     "text": [
      " 20%|█▉        | 159/814 [00:06<00:25, 26.17it/s]"
     ]
    },
    {
     "name": "stdout",
     "output_type": "stream",
     "text": [
      "Embedding API Error. 오류 발생: 40001: Invalid parameter\n",
      "Embedding API Error. 오류 발생: 40001: Invalid parameter\n",
      "Embedding API Error. 오류 발생: 40001: Invalid parameter\n",
      "Embedding API Error. 오류 발생: 40001: Invalid parameter\n",
      "Embedding API Error. 오류 발생: 40001: Invalid parameter\n",
      "Embedding API Error. 오류 발생: 40001: Invalid parameter\n"
     ]
    },
    {
     "name": "stderr",
     "output_type": "stream",
     "text": [
      " 20%|██        | 165/814 [00:06<00:24, 26.08it/s]"
     ]
    },
    {
     "name": "stdout",
     "output_type": "stream",
     "text": [
      "Embedding API Error. 오류 발생: 40001: Invalid parameter\n",
      "Embedding API Error. 오류 발생: 40001: Invalid parameter\n",
      "Embedding API Error. 오류 발생: 40001: Invalid parameter\n",
      "Embedding API Error. 오류 발생: 40001: Invalid parameter\n",
      "Embedding API Error. 오류 발생: 40001: Invalid parameter\n",
      "Embedding API Error. 오류 발생: 40001: Invalid parameter\n"
     ]
    },
    {
     "name": "stderr",
     "output_type": "stream",
     "text": [
      " 21%|██        | 171/814 [00:06<00:24, 26.24it/s]"
     ]
    },
    {
     "name": "stdout",
     "output_type": "stream",
     "text": [
      "Embedding API Error. 오류 발생: 40001: Invalid parameter\n",
      "Embedding API Error. 오류 발생: 40001: Invalid parameter\n",
      "Embedding API Error. 오류 발생: 40001: Invalid parameter\n",
      "Embedding API Error. 오류 발생: 40001: Invalid parameter\n",
      "Embedding API Error. 오류 발생: 40001: Invalid parameter\n",
      "Embedding API Error. 오류 발생: 40001: Invalid parameter\n"
     ]
    },
    {
     "name": "stderr",
     "output_type": "stream",
     "text": [
      " 22%|██▏       | 177/814 [00:06<00:24, 26.16it/s]"
     ]
    },
    {
     "name": "stdout",
     "output_type": "stream",
     "text": [
      "Embedding API Error. 오류 발생: 40001: Invalid parameter\n",
      "Embedding API Error. 오류 발생: 40001: Invalid parameter\n",
      "Embedding API Error. 오류 발생: 40001: Invalid parameter\n",
      "Embedding API Error. 오류 발생: 40001: Invalid parameter\n",
      "Embedding API Error. 오류 발생: 40001: Invalid parameter\n",
      "Embedding API Error. 오류 발생: 40001: Invalid parameter\n",
      "Embedding API Error. 오류 발생: 40001: Invalid parameter\n"
     ]
    },
    {
     "name": "stderr",
     "output_type": "stream",
     "text": [
      " 22%|██▏       | 183/814 [00:07<01:08,  9.15it/s]"
     ]
    },
    {
     "name": "stdout",
     "output_type": "stream",
     "text": [
      "Embedding API Error. 오류 발생: 40001: Invalid parameter\n",
      "Embedding API Error. 오류 발생: 40001: Invalid parameter\n",
      "Embedding API Error. 오류 발생: 40001: Invalid parameter\n",
      "Embedding API Error. 오류 발생: 40001: Invalid parameter\n",
      "Embedding API Error. 오류 발생: 40001: Invalid parameter\n",
      "Embedding API Error. 오류 발생: 40001: Invalid parameter\n"
     ]
    },
    {
     "name": "stderr",
     "output_type": "stream",
     "text": [
      " 23%|██▎       | 189/814 [00:08<00:45, 13.79it/s]"
     ]
    },
    {
     "name": "stdout",
     "output_type": "stream",
     "text": [
      "Embedding API Error. 오류 발생: 40001: Invalid parameter\n",
      "Embedding API Error. 오류 발생: 40001: Invalid parameter\n",
      "Embedding API Error. 오류 발생: 40001: Invalid parameter\n",
      "Embedding API Error. 오류 발생: 40001: Invalid parameter\n",
      "Embedding API Error. 오류 발생: 40001: Invalid parameter\n",
      "Embedding API Error. 오류 발생: 40001: Invalid parameter\n"
     ]
    },
    {
     "name": "stderr",
     "output_type": "stream",
     "text": [
      " 24%|██▍       | 195/814 [00:08<00:33, 18.42it/s]"
     ]
    },
    {
     "name": "stdout",
     "output_type": "stream",
     "text": [
      "Embedding API Error. 오류 발생: 40001: Invalid parameter\n",
      "Embedding API Error. 오류 발생: 40001: Invalid parameter\n",
      "Embedding API Error. 오류 발생: 40001: Invalid parameter\n",
      "Embedding API Error. 오류 발생: 40001: Invalid parameter\n",
      "Embedding API Error. 오류 발생: 40001: Invalid parameter\n",
      "Embedding API Error. 오류 발생: 40001: Invalid parameter\n"
     ]
    },
    {
     "name": "stderr",
     "output_type": "stream",
     "text": [
      " 25%|██▍       | 201/814 [00:08<00:27, 22.03it/s]"
     ]
    },
    {
     "name": "stdout",
     "output_type": "stream",
     "text": [
      "Embedding API Error. 오류 발생: 40001: Invalid parameter\n",
      "Embedding API Error. 오류 발생: 40001: Invalid parameter\n",
      "Embedding API Error. 오류 발생: 40001: Invalid parameter\n",
      "Embedding API Error. 오류 발생: 40001: Invalid parameter\n",
      "Embedding API Error. 오류 발생: 40001: Invalid parameter\n",
      "Embedding API Error. 오류 발생: 40001: Invalid parameter\n"
     ]
    },
    {
     "name": "stderr",
     "output_type": "stream",
     "text": [
      " 25%|██▌       | 207/814 [00:08<00:25, 24.12it/s]"
     ]
    },
    {
     "name": "stdout",
     "output_type": "stream",
     "text": [
      "Embedding API Error. 오류 발생: 40001: Invalid parameter\n",
      "Embedding API Error. 오류 발생: 40001: Invalid parameter\n",
      "Embedding API Error. 오류 발생: 40001: Invalid parameter\n",
      "Embedding API Error. 오류 발생: 40001: Invalid parameter\n",
      "Embedding API Error. 오류 발생: 40001: Invalid parameter\n",
      "Embedding API Error. 오류 발생: 40001: Invalid parameter\n"
     ]
    },
    {
     "name": "stderr",
     "output_type": "stream",
     "text": [
      " 26%|██▌       | 213/814 [00:09<00:23, 25.49it/s]"
     ]
    },
    {
     "name": "stdout",
     "output_type": "stream",
     "text": [
      "Embedding API Error. 오류 발생: 40001: Invalid parameter\n",
      "Embedding API Error. 오류 발생: 40001: Invalid parameter\n",
      "Embedding API Error. 오류 발생: 40001: Invalid parameter\n",
      "Embedding API Error. 오류 발생: 40001: Invalid parameter\n",
      "Embedding API Error. 오류 발생: 40001: Invalid parameter\n",
      "Embedding API Error. 오류 발생: 40001: Invalid parameter\n"
     ]
    },
    {
     "name": "stderr",
     "output_type": "stream",
     "text": [
      " 27%|██▋       | 219/814 [00:09<00:22, 26.09it/s]"
     ]
    },
    {
     "name": "stdout",
     "output_type": "stream",
     "text": [
      "Embedding API Error. 오류 발생: 40001: Invalid parameter\n",
      "Embedding API Error. 오류 발생: 40001: Invalid parameter\n",
      "Embedding API Error. 오류 발생: 40001: Invalid parameter\n",
      "Embedding API Error. 오류 발생: 40001: Invalid parameter\n",
      "Embedding API Error. 오류 발생: 40001: Invalid parameter\n",
      "Embedding API Error. 오류 발생: 40001: Invalid parameter\n"
     ]
    },
    {
     "name": "stderr",
     "output_type": "stream",
     "text": [
      " 28%|██▊       | 225/814 [00:09<00:22, 26.29it/s]"
     ]
    },
    {
     "name": "stdout",
     "output_type": "stream",
     "text": [
      "Embedding API Error. 오류 발생: 40001: Invalid parameter\n",
      "Embedding API Error. 오류 발생: 40001: Invalid parameter\n",
      "Embedding API Error. 오류 발생: 40001: Invalid parameter\n",
      "Embedding API Error. 오류 발생: 40001: Invalid parameter\n",
      "Embedding API Error. 오류 발생: 40001: Invalid parameter\n",
      "Embedding API Error. 오류 발생: 40001: Invalid parameter\n"
     ]
    },
    {
     "name": "stderr",
     "output_type": "stream",
     "text": [
      " 28%|██▊       | 231/814 [00:09<00:22, 26.40it/s]"
     ]
    },
    {
     "name": "stdout",
     "output_type": "stream",
     "text": [
      "Embedding API Error. 오류 발생: 40001: Invalid parameter\n",
      "Embedding API Error. 오류 발생: 40001: Invalid parameter\n",
      "Embedding API Error. 오류 발생: 40001: Invalid parameter\n",
      "Embedding API Error. 오류 발생: 40001: Invalid parameter\n",
      "Embedding API Error. 오류 발생: 40001: Invalid parameter\n",
      "Embedding API Error. 오류 발생: 40001: Invalid parameter\n"
     ]
    },
    {
     "name": "stderr",
     "output_type": "stream",
     "text": [
      " 29%|██▉       | 237/814 [00:09<00:21, 27.22it/s]"
     ]
    },
    {
     "name": "stdout",
     "output_type": "stream",
     "text": [
      "Embedding API Error. 오류 발생: 40001: Invalid parameter\n",
      "Embedding API Error. 오류 발생: 40001: Invalid parameter\n",
      "Embedding API Error. 오류 발생: 40001: Invalid parameter\n",
      "Embedding API Error. 오류 발생: 40001: Invalid parameter\n",
      "Embedding API Error. 오류 발생: 40001: Invalid parameter\n",
      "Embedding API Error. 오류 발생: 40001: Invalid parameter\n"
     ]
    },
    {
     "name": "stderr",
     "output_type": "stream",
     "text": [
      " 30%|██▉       | 243/814 [00:10<00:20, 27.20it/s]"
     ]
    },
    {
     "name": "stdout",
     "output_type": "stream",
     "text": [
      "Embedding API Error. 오류 발생: 40001: Invalid parameter\n",
      "Embedding API Error. 오류 발생: 40001: Invalid parameter\n",
      "Embedding API Error. 오류 발생: 40001: Invalid parameter\n",
      "Embedding API Error. 오류 발생: 40001: Invalid parameter\n",
      "Embedding API Error. 오류 발생: 40001: Invalid parameter\n",
      "Embedding API Error. 오류 발생: 40001: Invalid parameter\n"
     ]
    },
    {
     "name": "stderr",
     "output_type": "stream",
     "text": [
      " 31%|███       | 249/814 [00:10<00:20, 26.96it/s]"
     ]
    },
    {
     "name": "stdout",
     "output_type": "stream",
     "text": [
      "Embedding API Error. 오류 발생: 40001: Invalid parameter\n",
      "Embedding API Error. 오류 발생: 40001: Invalid parameter\n",
      "Embedding API Error. 오류 발생: 40001: Invalid parameter\n",
      "Embedding API Error. 오류 발생: 40001: Invalid parameter\n",
      "Embedding API Error. 오류 발생: 40001: Invalid parameter\n",
      "Embedding API Error. 오류 발생: 40001: Invalid parameter\n"
     ]
    },
    {
     "name": "stderr",
     "output_type": "stream",
     "text": [
      " 31%|███▏      | 255/814 [00:10<00:20, 27.14it/s]"
     ]
    },
    {
     "name": "stdout",
     "output_type": "stream",
     "text": [
      "Embedding API Error. 오류 발생: 40001: Invalid parameter\n",
      "Embedding API Error. 오류 발생: 40001: Invalid parameter\n",
      "Embedding API Error. 오류 발생: 40001: Invalid parameter\n",
      "Embedding API Error. 오류 발생: 40001: Invalid parameter\n",
      "Embedding API Error. 오류 발생: 40001: Invalid parameter\n",
      "Embedding API Error. 오류 발생: 40001: Invalid parameter\n"
     ]
    },
    {
     "name": "stderr",
     "output_type": "stream",
     "text": [
      " 32%|███▏      | 261/814 [00:10<00:20, 26.65it/s]"
     ]
    },
    {
     "name": "stdout",
     "output_type": "stream",
     "text": [
      "Embedding API Error. 오류 발생: 40001: Invalid parameter\n",
      "Embedding API Error. 오류 발생: 40001: Invalid parameter\n",
      "Embedding API Error. 오류 발생: 40001: Invalid parameter\n",
      "Embedding API Error. 오류 발생: 40001: Invalid parameter\n",
      "Embedding API Error. 오류 발생: 40001: Invalid parameter\n",
      "Embedding API Error. 오류 발생: 40001: Invalid parameter\n"
     ]
    },
    {
     "name": "stderr",
     "output_type": "stream",
     "text": [
      " 33%|███▎      | 267/814 [00:11<00:20, 26.25it/s]"
     ]
    },
    {
     "name": "stdout",
     "output_type": "stream",
     "text": [
      "Embedding API Error. 오류 발생: 40001: Invalid parameter\n",
      "Embedding API Error. 오류 발생: 40001: Invalid parameter\n",
      "Embedding API Error. 오류 발생: 40001: Invalid parameter\n",
      "Embedding API Error. 오류 발생: 40001: Invalid parameter\n",
      "Embedding API Error. 오류 발생: 40001: Invalid parameter\n",
      "Embedding API Error. 오류 발생: 40001: Invalid parameter\n"
     ]
    },
    {
     "name": "stderr",
     "output_type": "stream",
     "text": [
      " 34%|███▎      | 273/814 [00:11<00:20, 26.81it/s]"
     ]
    },
    {
     "name": "stdout",
     "output_type": "stream",
     "text": [
      "Embedding API Error. 오류 발생: 40001: Invalid parameter\n",
      "Embedding API Error. 오류 발생: 40001: Invalid parameter\n",
      "Embedding API Error. 오류 발생: 40001: Invalid parameter\n",
      "Embedding API Error. 오류 발생: 40001: Invalid parameter\n",
      "Embedding API Error. 오류 발생: 40001: Invalid parameter\n",
      "Embedding API Error. 오류 발생: 40001: Invalid parameter\n"
     ]
    },
    {
     "name": "stderr",
     "output_type": "stream",
     "text": [
      " 34%|███▍      | 279/814 [00:11<00:19, 26.81it/s]"
     ]
    },
    {
     "name": "stdout",
     "output_type": "stream",
     "text": [
      "Embedding API Error. 오류 발생: 40001: Invalid parameter\n",
      "Embedding API Error. 오류 발생: 40001: Invalid parameter\n",
      "Embedding API Error. 오류 발생: 40001: Invalid parameter\n",
      "Embedding API Error. 오류 발생: 40001: Invalid parameter\n",
      "Embedding API Error. 오류 발생: 40001: Invalid parameter\n",
      "Embedding API Error. 오류 발생: 40001: Invalid parameter\n"
     ]
    },
    {
     "name": "stderr",
     "output_type": "stream",
     "text": [
      " 35%|███▌      | 285/814 [00:11<00:19, 26.89it/s]"
     ]
    },
    {
     "name": "stdout",
     "output_type": "stream",
     "text": [
      "Embedding API Error. 오류 발생: 40001: Invalid parameter\n",
      "Embedding API Error. 오류 발생: 40001: Invalid parameter\n",
      "Embedding API Error. 오류 발생: 40001: Invalid parameter\n",
      "Embedding API Error. 오류 발생: 40001: Invalid parameter\n",
      "Embedding API Error. 오류 발생: 40001: Invalid parameter\n",
      "Embedding API Error. 오류 발생: 40001: Invalid parameter\n"
     ]
    },
    {
     "name": "stderr",
     "output_type": "stream",
     "text": [
      " 36%|███▌      | 291/814 [00:11<00:19, 26.31it/s]"
     ]
    },
    {
     "name": "stdout",
     "output_type": "stream",
     "text": [
      "Embedding API Error. 오류 발생: 40001: Invalid parameter\n",
      "Embedding API Error. 오류 발생: 40001: Invalid parameter\n",
      "Embedding API Error. 오류 발생: 40001: Invalid parameter\n",
      "Embedding API Error. 오류 발생: 40001: Invalid parameter\n",
      "Embedding API Error. 오류 발생: 40001: Invalid parameter\n",
      "Embedding API Error. 오류 발생: 40001: Invalid parameter\n"
     ]
    },
    {
     "name": "stderr",
     "output_type": "stream",
     "text": [
      " 36%|███▋      | 297/814 [00:12<00:19, 26.50it/s]"
     ]
    },
    {
     "name": "stdout",
     "output_type": "stream",
     "text": [
      "Embedding API Error. 오류 발생: 40001: Invalid parameter\n",
      "Embedding API Error. 오류 발생: 40001: Invalid parameter\n",
      "Embedding API Error. 오류 발생: 40001: Invalid parameter\n",
      "Embedding API Error. 오류 발생: 40001: Invalid parameter\n",
      "Embedding API Error. 오류 발생: 40001: Invalid parameter\n",
      "Embedding API Error. 오류 발생: 40001: Invalid parameter\n"
     ]
    },
    {
     "name": "stderr",
     "output_type": "stream",
     "text": [
      " 37%|███▋      | 303/814 [00:12<00:19, 25.72it/s]"
     ]
    },
    {
     "name": "stdout",
     "output_type": "stream",
     "text": [
      "Embedding API Error. 오류 발생: 40001: Invalid parameter\n",
      "Embedding API Error. 오류 발생: 40001: Invalid parameter\n",
      "Embedding API Error. 오류 발생: 40001: Invalid parameter\n",
      "Embedding API Error. 오류 발생: 40001: Invalid parameter\n",
      "Embedding API Error. 오류 발생: 40001: Invalid parameter\n",
      "Embedding API Error. 오류 발생: 40001: Invalid parameter\n"
     ]
    },
    {
     "name": "stderr",
     "output_type": "stream",
     "text": [
      " 38%|███▊      | 309/814 [00:12<00:19, 25.62it/s]"
     ]
    },
    {
     "name": "stdout",
     "output_type": "stream",
     "text": [
      "Embedding API Error. 오류 발생: 40001: Invalid parameter\n",
      "Embedding API Error. 오류 발생: 40001: Invalid parameter\n",
      "Embedding API Error. 오류 발생: 40001: Invalid parameter\n",
      "Embedding API Error. 오류 발생: 40001: Invalid parameter\n",
      "Embedding API Error. 오류 발생: 40001: Invalid parameter\n"
     ]
    },
    {
     "name": "stderr",
     "output_type": "stream",
     "text": [
      " 39%|███▊      | 315/814 [00:12<00:20, 24.92it/s]"
     ]
    },
    {
     "name": "stdout",
     "output_type": "stream",
     "text": [
      "Embedding API Error. 오류 발생: 40001: Invalid parameter\n",
      "Embedding API Error. 오류 발생: 40001: Invalid parameter\n",
      "Embedding API Error. 오류 발생: 40001: Invalid parameter\n",
      "Embedding API Error. 오류 발생: 40001: Invalid parameter\n",
      "Embedding API Error. 오류 발생: 40001: Invalid parameter\n",
      "Embedding API Error. 오류 발생: 40001: Invalid parameter\n"
     ]
    },
    {
     "name": "stderr",
     "output_type": "stream",
     "text": [
      " 39%|███▉      | 321/814 [00:13<00:18, 26.07it/s]"
     ]
    },
    {
     "name": "stdout",
     "output_type": "stream",
     "text": [
      "Embedding API Error. 오류 발생: 40001: Invalid parameter\n",
      "Embedding API Error. 오류 발생: 40001: Invalid parameter\n",
      "Embedding API Error. 오류 발생: 40001: Invalid parameter\n",
      "Embedding API Error. 오류 발생: 40001: Invalid parameter\n",
      "Embedding API Error. 오류 발생: 40001: Invalid parameter\n",
      "Embedding API Error. 오류 발생: 40001: Invalid parameter\n"
     ]
    },
    {
     "name": "stderr",
     "output_type": "stream",
     "text": [
      " 40%|████      | 327/814 [00:13<00:18, 26.44it/s]"
     ]
    },
    {
     "name": "stdout",
     "output_type": "stream",
     "text": [
      "Embedding API Error. 오류 발생: 40001: Invalid parameter\n",
      "Embedding API Error. 오류 발생: 40001: Invalid parameter\n",
      "Embedding API Error. 오류 발생: 40001: Invalid parameter\n",
      "Embedding API Error. 오류 발생: 40001: Invalid parameter\n",
      "Embedding API Error. 오류 발생: 40001: Invalid parameter\n",
      "Embedding API Error. 오류 발생: 40001: Invalid parameter\n"
     ]
    },
    {
     "name": "stderr",
     "output_type": "stream",
     "text": [
      " 41%|████      | 333/814 [00:13<00:17, 27.09it/s]"
     ]
    },
    {
     "name": "stdout",
     "output_type": "stream",
     "text": [
      "Embedding API Error. 오류 발생: 40001: Invalid parameter\n",
      "Embedding API Error. 오류 발생: 40001: Invalid parameter\n",
      "Embedding API Error. 오류 발생: 40001: Invalid parameter\n",
      "Embedding API Error. 오류 발생: 40001: Invalid parameter\n",
      "Embedding API Error. 오류 발생: 40001: Invalid parameter\n",
      "Embedding API Error. 오류 발생: 40001: Invalid parameter\n"
     ]
    },
    {
     "name": "stderr",
     "output_type": "stream",
     "text": [
      " 42%|████▏     | 339/814 [00:13<00:17, 26.42it/s]"
     ]
    },
    {
     "name": "stdout",
     "output_type": "stream",
     "text": [
      "Embedding API Error. 오류 발생: 40001: Invalid parameter\n",
      "Embedding API Error. 오류 발생: 40001: Invalid parameter\n",
      "Embedding API Error. 오류 발생: 40001: Invalid parameter\n",
      "Embedding API Error. 오류 발생: 40001: Invalid parameter\n",
      "Embedding API Error. 오류 발생: 40001: Invalid parameter\n",
      "Embedding API Error. 오류 발생: 40001: Invalid parameter\n"
     ]
    },
    {
     "name": "stderr",
     "output_type": "stream",
     "text": [
      " 42%|████▏     | 342/814 [00:13<00:18, 26.20it/s]"
     ]
    },
    {
     "name": "stdout",
     "output_type": "stream",
     "text": [
      "Embedding API Error. 오류 발생: 40001: Invalid parameter\n",
      "Embedding API Error. 오류 발생: 40001: Invalid parameter\n"
     ]
    },
    {
     "name": "stderr",
     "output_type": "stream",
     "text": [
      " 43%|████▎     | 348/814 [00:15<00:50,  9.19it/s]"
     ]
    },
    {
     "name": "stdout",
     "output_type": "stream",
     "text": [
      "Embedding API Error. 오류 발생: 40001: Invalid parameter\n",
      "Embedding API Error. 오류 발생: 40001: Invalid parameter\n",
      "Embedding API Error. 오류 발생: 40001: Invalid parameter\n",
      "Embedding API Error. 오류 발생: 40001: Invalid parameter\n",
      "Embedding API Error. 오류 발생: 40001: Invalid parameter\n",
      "Embedding API Error. 오류 발생: 40001: Invalid parameter\n"
     ]
    },
    {
     "name": "stderr",
     "output_type": "stream",
     "text": [
      " 43%|████▎     | 351/814 [00:15<00:40, 11.46it/s]"
     ]
    },
    {
     "name": "stdout",
     "output_type": "stream",
     "text": [
      "Embedding API Error. 오류 발생: 40001: Invalid parameter\n",
      "Embedding API Error. 오류 발생: 40001: Invalid parameter\n",
      "Embedding API Error. 오류 발생: 40001: Invalid parameter\n"
     ]
    },
    {
     "name": "stderr",
     "output_type": "stream",
     "text": [
      " 43%|████▎     | 354/814 [00:15<00:53,  8.60it/s]"
     ]
    },
    {
     "name": "stdout",
     "output_type": "stream",
     "text": [
      "Embedding API Error. 오류 발생: 40001: Invalid parameter\n",
      "Embedding API Error. 오류 발생: 40001: Invalid parameter\n",
      "Embedding API Error. 오류 발생: 40001: Invalid parameter\n",
      "Embedding API Error. 오류 발생: 40001: Invalid parameter\n",
      "Embedding API Error. 오류 발생: 40001: Invalid parameter\n"
     ]
    },
    {
     "name": "stderr",
     "output_type": "stream",
     "text": [
      " 44%|████▍     | 360/814 [00:16<00:34, 13.11it/s]"
     ]
    },
    {
     "name": "stdout",
     "output_type": "stream",
     "text": [
      "Embedding API Error. 오류 발생: 40001: Invalid parameter\n",
      "Embedding API Error. 오류 발생: 40001: Invalid parameter\n",
      "Embedding API Error. 오류 발생: 40001: Invalid parameter\n",
      "Embedding API Error. 오류 발생: 40001: Invalid parameter\n",
      "Embedding API Error. 오류 발생: 40001: Invalid parameter\n",
      "Embedding API Error. 오류 발생: 40001: Invalid parameter\n"
     ]
    },
    {
     "name": "stderr",
     "output_type": "stream",
     "text": [
      " 45%|████▍     | 366/814 [00:16<00:25, 17.75it/s]"
     ]
    },
    {
     "name": "stdout",
     "output_type": "stream",
     "text": [
      "Embedding API Error. 오류 발생: 40001: Invalid parameter\n",
      "Embedding API Error. 오류 발생: 40001: Invalid parameter\n",
      "Embedding API Error. 오류 발생: 40001: Invalid parameter\n",
      "Embedding API Error. 오류 발생: 40001: Invalid parameter\n",
      "Embedding API Error. 오류 발생: 40001: Invalid parameter\n",
      "Embedding API Error. 오류 발생: 40001: Invalid parameter\n"
     ]
    },
    {
     "name": "stderr",
     "output_type": "stream",
     "text": [
      " 46%|████▌     | 372/814 [00:16<00:20, 21.63it/s]"
     ]
    },
    {
     "name": "stdout",
     "output_type": "stream",
     "text": [
      "Embedding API Error. 오류 발생: 40001: Invalid parameter\n",
      "Embedding API Error. 오류 발생: 40001: Invalid parameter\n",
      "Embedding API Error. 오류 발생: 40001: Invalid parameter\n",
      "Embedding API Error. 오류 발생: 40001: Invalid parameter\n",
      "Embedding API Error. 오류 발생: 40001: Invalid parameter\n",
      "Embedding API Error. 오류 발생: 40001: Invalid parameter\n"
     ]
    },
    {
     "name": "stderr",
     "output_type": "stream",
     "text": [
      " 46%|████▋     | 378/814 [00:16<00:19, 22.08it/s]"
     ]
    },
    {
     "name": "stdout",
     "output_type": "stream",
     "text": [
      "Embedding API Error. 오류 발생: 40001: Invalid parameter\n",
      "Embedding API Error. 오류 발생: 40001: Invalid parameter\n",
      "Embedding API Error. 오류 발생: 40001: Invalid parameter\n",
      "Embedding API Error. 오류 발생: 40001: Invalid parameter\n",
      "Embedding API Error. 오류 발생: 40001: Invalid parameter\n",
      "Embedding API Error. 오류 발생: 40001: Invalid parameter\n"
     ]
    },
    {
     "name": "stderr",
     "output_type": "stream",
     "text": [
      " 47%|████▋     | 384/814 [00:17<00:17, 24.08it/s]"
     ]
    },
    {
     "name": "stdout",
     "output_type": "stream",
     "text": [
      "Embedding API Error. 오류 발생: 40001: Invalid parameter\n",
      "Embedding API Error. 오류 발생: 40001: Invalid parameter\n",
      "Embedding API Error. 오류 발생: 40001: Invalid parameter\n",
      "Embedding API Error. 오류 발생: 40001: Invalid parameter\n",
      "Embedding API Error. 오류 발생: 40001: Invalid parameter\n",
      "Embedding API Error. 오류 발생: 40001: Invalid parameter\n"
     ]
    },
    {
     "name": "stderr",
     "output_type": "stream",
     "text": [
      " 48%|████▊     | 390/814 [00:17<00:16, 25.22it/s]"
     ]
    },
    {
     "name": "stdout",
     "output_type": "stream",
     "text": [
      "Embedding API Error. 오류 발생: 40001: Invalid parameter\n",
      "Embedding API Error. 오류 발생: 40001: Invalid parameter\n",
      "Embedding API Error. 오류 발생: 40001: Invalid parameter\n",
      "Embedding API Error. 오류 발생: 40001: Invalid parameter\n",
      "Embedding API Error. 오류 발생: 40001: Invalid parameter\n",
      "Embedding API Error. 오류 발생: 40001: Invalid parameter\n"
     ]
    },
    {
     "name": "stderr",
     "output_type": "stream",
     "text": [
      " 49%|████▊     | 396/814 [00:17<00:15, 26.24it/s]"
     ]
    },
    {
     "name": "stdout",
     "output_type": "stream",
     "text": [
      "Embedding API Error. 오류 발생: 40001: Invalid parameter\n",
      "Embedding API Error. 오류 발생: 40001: Invalid parameter\n",
      "Embedding API Error. 오류 발생: 40001: Invalid parameter\n",
      "Embedding API Error. 오류 발생: 40001: Invalid parameter\n",
      "Embedding API Error. 오류 발생: 40001: Invalid parameter\n",
      "Embedding API Error. 오류 발생: 40001: Invalid parameter\n"
     ]
    },
    {
     "name": "stderr",
     "output_type": "stream",
     "text": [
      " 49%|████▉     | 402/814 [00:17<00:15, 27.17it/s]"
     ]
    },
    {
     "name": "stdout",
     "output_type": "stream",
     "text": [
      "Embedding API Error. 오류 발생: 40001: Invalid parameter\n",
      "Embedding API Error. 오류 발생: 40001: Invalid parameter\n",
      "Embedding API Error. 오류 발생: 40001: Invalid parameter\n",
      "Embedding API Error. 오류 발생: 40001: Invalid parameter\n",
      "Embedding API Error. 오류 발생: 40001: Invalid parameter\n",
      "Embedding API Error. 오류 발생: 40001: Invalid parameter\n"
     ]
    },
    {
     "name": "stderr",
     "output_type": "stream",
     "text": [
      " 50%|█████     | 408/814 [00:17<00:15, 27.04it/s]"
     ]
    },
    {
     "name": "stdout",
     "output_type": "stream",
     "text": [
      "Embedding API Error. 오류 발생: 40001: Invalid parameter\n",
      "Embedding API Error. 오류 발생: 40001: Invalid parameter\n",
      "Embedding API Error. 오류 발생: 40001: Invalid parameter\n",
      "Embedding API Error. 오류 발생: 40001: Invalid parameter\n",
      "Embedding API Error. 오류 발생: 40001: Invalid parameter\n",
      "Embedding API Error. 오류 발생: 40001: Invalid parameter\n"
     ]
    },
    {
     "name": "stderr",
     "output_type": "stream",
     "text": [
      " 51%|█████     | 414/814 [00:18<00:14, 27.08it/s]"
     ]
    },
    {
     "name": "stdout",
     "output_type": "stream",
     "text": [
      "Embedding API Error. 오류 발생: 40001: Invalid parameter\n",
      "Embedding API Error. 오류 발생: 40001: Invalid parameter\n",
      "Embedding API Error. 오류 발생: 40001: Invalid parameter\n",
      "Embedding API Error. 오류 발생: 40001: Invalid parameter\n",
      "Embedding API Error. 오류 발생: 40001: Invalid parameter\n",
      "Embedding API Error. 오류 발생: 40001: Invalid parameter\n"
     ]
    },
    {
     "name": "stderr",
     "output_type": "stream",
     "text": [
      " 52%|█████▏    | 420/814 [00:18<00:14, 27.39it/s]"
     ]
    },
    {
     "name": "stdout",
     "output_type": "stream",
     "text": [
      "Embedding API Error. 오류 발생: 40001: Invalid parameter\n",
      "Embedding API Error. 오류 발생: 40001: Invalid parameter\n",
      "Embedding API Error. 오류 발생: 40001: Invalid parameter\n",
      "Embedding API Error. 오류 발생: 40001: Invalid parameter\n",
      "Embedding API Error. 오류 발생: 40001: Invalid parameter\n",
      "Embedding API Error. 오류 발생: 40001: Invalid parameter\n"
     ]
    },
    {
     "name": "stderr",
     "output_type": "stream",
     "text": [
      " 52%|█████▏    | 426/814 [00:18<00:14, 26.37it/s]"
     ]
    },
    {
     "name": "stdout",
     "output_type": "stream",
     "text": [
      "Embedding API Error. 오류 발생: 40001: Invalid parameter\n",
      "Embedding API Error. 오류 발생: 40001: Invalid parameter\n",
      "Embedding API Error. 오류 발생: 40001: Invalid parameter\n",
      "Embedding API Error. 오류 발생: 40001: Invalid parameter\n",
      "Embedding API Error. 오류 발생: 40001: Invalid parameter\n"
     ]
    },
    {
     "name": "stderr",
     "output_type": "stream",
     "text": [
      " 53%|█████▎    | 432/814 [00:18<00:14, 26.59it/s]"
     ]
    },
    {
     "name": "stdout",
     "output_type": "stream",
     "text": [
      "Embedding API Error. 오류 발생: 40001: Invalid parameter\n",
      "Embedding API Error. 오류 발생: 40001: Invalid parameter\n",
      "Embedding API Error. 오류 발생: 40001: Invalid parameter\n",
      "Embedding API Error. 오류 발생: 40001: Invalid parameter\n",
      "Embedding API Error. 오류 발생: 40001: Invalid parameter\n",
      "Embedding API Error. 오류 발생: 40001: Invalid parameter\n"
     ]
    },
    {
     "name": "stderr",
     "output_type": "stream",
     "text": [
      " 54%|█████▍    | 438/814 [00:19<00:14, 26.28it/s]"
     ]
    },
    {
     "name": "stdout",
     "output_type": "stream",
     "text": [
      "Embedding API Error. 오류 발생: 40001: Invalid parameter\n",
      "Embedding API Error. 오류 발생: 40001: Invalid parameter\n",
      "Embedding API Error. 오류 발생: 40001: Invalid parameter\n",
      "Embedding API Error. 오류 발생: 40001: Invalid parameter\n",
      "Embedding API Error. 오류 발생: 40001: Invalid parameter\n",
      "Embedding API Error. 오류 발생: 40001: Invalid parameter\n"
     ]
    },
    {
     "name": "stderr",
     "output_type": "stream",
     "text": [
      " 55%|█████▍    | 444/814 [00:19<00:13, 26.98it/s]"
     ]
    },
    {
     "name": "stdout",
     "output_type": "stream",
     "text": [
      "Embedding API Error. 오류 발생: 40001: Invalid parameter\n",
      "Embedding API Error. 오류 발생: 40001: Invalid parameter\n",
      "Embedding API Error. 오류 발생: 40001: Invalid parameter\n",
      "Embedding API Error. 오류 발생: 40001: Invalid parameter\n",
      "Embedding API Error. 오류 발생: 40001: Invalid parameter\n",
      "Embedding API Error. 오류 발생: 40001: Invalid parameter\n"
     ]
    },
    {
     "name": "stderr",
     "output_type": "stream",
     "text": [
      " 55%|█████▌    | 450/814 [00:19<00:13, 27.17it/s]"
     ]
    },
    {
     "name": "stdout",
     "output_type": "stream",
     "text": [
      "Embedding API Error. 오류 발생: 40001: Invalid parameter\n",
      "Embedding API Error. 오류 발생: 40001: Invalid parameter\n",
      "Embedding API Error. 오류 발생: 40001: Invalid parameter\n",
      "Embedding API Error. 오류 발생: 40001: Invalid parameter\n",
      "Embedding API Error. 오류 발생: 40001: Invalid parameter\n",
      "Embedding API Error. 오류 발생: 40001: Invalid parameter\n"
     ]
    },
    {
     "name": "stderr",
     "output_type": "stream",
     "text": [
      " 56%|█████▌    | 456/814 [00:19<00:13, 26.40it/s]"
     ]
    },
    {
     "name": "stdout",
     "output_type": "stream",
     "text": [
      "Embedding API Error. 오류 발생: 40001: Invalid parameter\n",
      "Embedding API Error. 오류 발생: 40001: Invalid parameter\n",
      "Embedding API Error. 오류 발생: 40001: Invalid parameter\n",
      "Embedding API Error. 오류 발생: 40001: Invalid parameter\n",
      "Embedding API Error. 오류 발생: 40001: Invalid parameter\n",
      "Embedding API Error. 오류 발생: 40001: Invalid parameter\n"
     ]
    },
    {
     "name": "stderr",
     "output_type": "stream",
     "text": [
      " 57%|█████▋    | 462/814 [00:19<00:12, 27.21it/s]"
     ]
    },
    {
     "name": "stdout",
     "output_type": "stream",
     "text": [
      "Embedding API Error. 오류 발생: 40001: Invalid parameter\n",
      "Embedding API Error. 오류 발생: 40001: Invalid parameter\n",
      "Embedding API Error. 오류 발생: 40001: Invalid parameter\n",
      "Embedding API Error. 오류 발생: 40001: Invalid parameter\n",
      "Embedding API Error. 오류 발생: 40001: Invalid parameter\n",
      "Embedding API Error. 오류 발생: 40001: Invalid parameter\n"
     ]
    },
    {
     "name": "stderr",
     "output_type": "stream",
     "text": [
      " 57%|█████▋    | 468/814 [00:20<00:12, 27.00it/s]"
     ]
    },
    {
     "name": "stdout",
     "output_type": "stream",
     "text": [
      "Embedding API Error. 오류 발생: 40001: Invalid parameter\n",
      "Embedding API Error. 오류 발생: 40001: Invalid parameter\n",
      "Embedding API Error. 오류 발생: 40001: Invalid parameter\n",
      "Embedding API Error. 오류 발생: 40001: Invalid parameter\n",
      "Embedding API Error. 오류 발생: 40001: Invalid parameter\n",
      "Embedding API Error. 오류 발생: 40001: Invalid parameter\n"
     ]
    },
    {
     "name": "stderr",
     "output_type": "stream",
     "text": [
      " 58%|█████▊    | 474/814 [00:20<00:12, 26.98it/s]"
     ]
    },
    {
     "name": "stdout",
     "output_type": "stream",
     "text": [
      "Embedding API Error. 오류 발생: 40001: Invalid parameter\n",
      "Embedding API Error. 오류 발생: 40001: Invalid parameter\n",
      "Embedding API Error. 오류 발생: 40001: Invalid parameter\n",
      "Embedding API Error. 오류 발생: 40001: Invalid parameter\n",
      "Embedding API Error. 오류 발생: 40001: Invalid parameter\n",
      "Embedding API Error. 오류 발생: 40001: Invalid parameter\n"
     ]
    },
    {
     "name": "stderr",
     "output_type": "stream",
     "text": [
      " 59%|█████▉    | 480/814 [00:20<00:12, 27.24it/s]"
     ]
    },
    {
     "name": "stdout",
     "output_type": "stream",
     "text": [
      "Embedding API Error. 오류 발생: 40001: Invalid parameter\n",
      "Embedding API Error. 오류 발생: 40001: Invalid parameter\n",
      "Embedding API Error. 오류 발생: 40001: Invalid parameter\n",
      "Embedding API Error. 오류 발생: 40001: Invalid parameter\n",
      "Embedding API Error. 오류 발생: 40001: Invalid parameter\n",
      "Embedding API Error. 오류 발생: 40001: Invalid parameter\n"
     ]
    },
    {
     "name": "stderr",
     "output_type": "stream",
     "text": [
      " 60%|█████▉    | 486/814 [00:20<00:11, 27.61it/s]"
     ]
    },
    {
     "name": "stdout",
     "output_type": "stream",
     "text": [
      "Embedding API Error. 오류 발생: 40001: Invalid parameter\n",
      "Embedding API Error. 오류 발생: 40001: Invalid parameter\n",
      "Embedding API Error. 오류 발생: 40001: Invalid parameter\n",
      "Embedding API Error. 오류 발생: 40001: Invalid parameter\n",
      "Embedding API Error. 오류 발생: 40001: Invalid parameter\n",
      "Embedding API Error. 오류 발생: 40001: Invalid parameter\n"
     ]
    },
    {
     "name": "stderr",
     "output_type": "stream",
     "text": [
      " 60%|██████    | 492/814 [00:21<00:12, 25.97it/s]"
     ]
    },
    {
     "name": "stdout",
     "output_type": "stream",
     "text": [
      "Embedding API Error. 오류 발생: 40001: Invalid parameter\n",
      "Embedding API Error. 오류 발생: 40001: Invalid parameter\n",
      "Embedding API Error. 오류 발생: 40001: Invalid parameter\n",
      "Embedding API Error. 오류 발생: 40001: Invalid parameter\n",
      "Embedding API Error. 오류 발생: 40001: Invalid parameter\n"
     ]
    },
    {
     "name": "stderr",
     "output_type": "stream",
     "text": [
      " 61%|██████    | 498/814 [00:21<00:12, 26.02it/s]"
     ]
    },
    {
     "name": "stdout",
     "output_type": "stream",
     "text": [
      "Embedding API Error. 오류 발생: 40001: Invalid parameter\n",
      "Embedding API Error. 오류 발생: 40001: Invalid parameter\n",
      "Embedding API Error. 오류 발생: 40001: Invalid parameter\n",
      "Embedding API Error. 오류 발생: 40001: Invalid parameter\n",
      "Embedding API Error. 오류 발생: 40001: Invalid parameter\n",
      "Embedding API Error. 오류 발생: 40001: Invalid parameter\n"
     ]
    },
    {
     "name": "stderr",
     "output_type": "stream",
     "text": [
      " 62%|██████▏   | 504/814 [00:21<00:12, 25.74it/s]"
     ]
    },
    {
     "name": "stdout",
     "output_type": "stream",
     "text": [
      "Embedding API Error. 오류 발생: 40001: Invalid parameter\n",
      "Embedding API Error. 오류 발생: 40001: Invalid parameter\n",
      "Embedding API Error. 오류 발생: 40001: Invalid parameter\n",
      "Embedding API Error. 오류 발생: 40001: Invalid parameter\n",
      "Embedding API Error. 오류 발생: 40001: Invalid parameter\n",
      "Embedding API Error. 오류 발생: 40001: Invalid parameter\n"
     ]
    },
    {
     "name": "stderr",
     "output_type": "stream",
     "text": [
      " 63%|██████▎   | 510/814 [00:21<00:11, 25.82it/s]"
     ]
    },
    {
     "name": "stdout",
     "output_type": "stream",
     "text": [
      "Embedding API Error. 오류 발생: 40001: Invalid parameter\n",
      "Embedding API Error. 오류 발생: 40001: Invalid parameter\n",
      "Embedding API Error. 오류 발생: 40001: Invalid parameter\n",
      "Embedding API Error. 오류 발생: 40001: Invalid parameter\n",
      "Embedding API Error. 오류 발생: 40001: Invalid parameter\n",
      "Embedding API Error. 오류 발생: 40001: Invalid parameter\n"
     ]
    },
    {
     "name": "stderr",
     "output_type": "stream",
     "text": [
      " 63%|██████▎   | 516/814 [00:21<00:11, 25.47it/s]"
     ]
    },
    {
     "name": "stdout",
     "output_type": "stream",
     "text": [
      "Embedding API Error. 오류 발생: 40001: Invalid parameter\n",
      "Embedding API Error. 오류 발생: 40001: Invalid parameter\n",
      "Embedding API Error. 오류 발생: 40001: Invalid parameter\n",
      "Embedding API Error. 오류 발생: 40001: Invalid parameter\n",
      "Embedding API Error. 오류 발생: 40001: Invalid parameter\n",
      "Embedding API Error. 오류 발생: 40001: Invalid parameter\n"
     ]
    },
    {
     "name": "stderr",
     "output_type": "stream",
     "text": [
      " 64%|██████▍   | 519/814 [00:22<00:11, 24.79it/s]"
     ]
    },
    {
     "name": "stdout",
     "output_type": "stream",
     "text": [
      "Embedding API Error. 오류 발생: 40001: Invalid parameter\n",
      "Embedding API Error. 오류 발생: 40001: Invalid parameter\n",
      "Embedding API Error. 오류 발생: 40001: Invalid parameter\n",
      "Embedding API Error. 오류 발생: 40001: Invalid parameter\n",
      "Embedding API Error. 오류 발생: 40001: Invalid parameter\n"
     ]
    },
    {
     "name": "stderr",
     "output_type": "stream",
     "text": [
      " 64%|██████▍   | 525/814 [00:22<00:11, 25.11it/s]"
     ]
    },
    {
     "name": "stdout",
     "output_type": "stream",
     "text": [
      "Embedding API Error. 오류 발생: 40001: Invalid parameter\n",
      "Embedding API Error. 오류 발생: 40001: Invalid parameter\n",
      "Embedding API Error. 오류 발생: 40001: Invalid parameter\n",
      "Embedding API Error. 오류 발생: 40001: Invalid parameter\n",
      "Embedding API Error. 오류 발생: 40001: Invalid parameter\n",
      "Embedding API Error. 오류 발생: 40001: Invalid parameter\n"
     ]
    },
    {
     "name": "stderr",
     "output_type": "stream",
     "text": [
      " 65%|██████▌   | 531/814 [00:22<00:11, 24.50it/s]"
     ]
    },
    {
     "name": "stdout",
     "output_type": "stream",
     "text": [
      "Embedding API Error. 오류 발생: 40001: Invalid parameter\n",
      "Embedding API Error. 오류 발생: 40001: Invalid parameter\n",
      "Embedding API Error. 오류 발생: 40001: Invalid parameter\n",
      "Embedding API Error. 오류 발생: 40001: Invalid parameter\n",
      "Embedding API Error. 오류 발생: 40001: Invalid parameter\n"
     ]
    },
    {
     "name": "stderr",
     "output_type": "stream",
     "text": [
      " 66%|██████▌   | 537/814 [00:22<00:10, 25.68it/s]"
     ]
    },
    {
     "name": "stdout",
     "output_type": "stream",
     "text": [
      "Embedding API Error. 오류 발생: 40001: Invalid parameter\n",
      "Embedding API Error. 오류 발생: 40001: Invalid parameter\n",
      "Embedding API Error. 오류 발생: 40001: Invalid parameter\n",
      "Embedding API Error. 오류 발생: 40001: Invalid parameter\n",
      "Embedding API Error. 오류 발생: 40001: Invalid parameter\n",
      "Embedding API Error. 오류 발생: 40001: Invalid parameter\n"
     ]
    },
    {
     "name": "stderr",
     "output_type": "stream",
     "text": [
      " 67%|██████▋   | 543/814 [00:23<00:10, 26.45it/s]"
     ]
    },
    {
     "name": "stdout",
     "output_type": "stream",
     "text": [
      "Embedding API Error. 오류 발생: 40001: Invalid parameter\n",
      "Embedding API Error. 오류 발생: 40001: Invalid parameter\n",
      "Embedding API Error. 오류 발생: 40001: Invalid parameter\n",
      "Embedding API Error. 오류 발생: 40001: Invalid parameter\n",
      "Embedding API Error. 오류 발생: 40001: Invalid parameter\n",
      "Embedding API Error. 오류 발생: 40001: Invalid parameter\n"
     ]
    },
    {
     "name": "stderr",
     "output_type": "stream",
     "text": [
      " 67%|██████▋   | 549/814 [00:23<00:09, 27.09it/s]"
     ]
    },
    {
     "name": "stdout",
     "output_type": "stream",
     "text": [
      "Embedding API Error. 오류 발생: 40001: Invalid parameter\n",
      "Embedding API Error. 오류 발생: 40001: Invalid parameter\n",
      "Embedding API Error. 오류 발생: 40001: Invalid parameter\n",
      "Embedding API Error. 오류 발생: 40001: Invalid parameter\n",
      "Embedding API Error. 오류 발생: 40001: Invalid parameter\n",
      "Embedding API Error. 오류 발생: 40001: Invalid parameter\n"
     ]
    },
    {
     "name": "stderr",
     "output_type": "stream",
     "text": [
      " 68%|██████▊   | 555/814 [00:23<00:09, 26.40it/s]"
     ]
    },
    {
     "name": "stdout",
     "output_type": "stream",
     "text": [
      "Embedding API Error. 오류 발생: 40001: Invalid parameter\n",
      "Embedding API Error. 오류 발생: 40001: Invalid parameter\n",
      "Embedding API Error. 오류 발생: 40001: Invalid parameter\n",
      "Embedding API Error. 오류 발생: 40001: Invalid parameter\n",
      "Embedding API Error. 오류 발생: 40001: Invalid parameter\n",
      "Embedding API Error. 오류 발생: 40001: Invalid parameter\n"
     ]
    },
    {
     "name": "stderr",
     "output_type": "stream",
     "text": [
      " 69%|██████▊   | 558/814 [00:23<00:09, 26.69it/s]"
     ]
    },
    {
     "name": "stdout",
     "output_type": "stream",
     "text": [
      "Embedding API Error. 오류 발생: 40001: Invalid parameter\n",
      "Embedding API Error. 오류 발생: 40001: Invalid parameter\n"
     ]
    },
    {
     "name": "stderr",
     "output_type": "stream",
     "text": [
      " 69%|██████▉   | 564/814 [00:24<00:15, 16.61it/s]"
     ]
    },
    {
     "name": "stdout",
     "output_type": "stream",
     "text": [
      "Embedding API Error. 오류 발생: 40001: Invalid parameter\n",
      "Embedding API Error. 오류 발생: 40001: Invalid parameter\n",
      "Embedding API Error. 오류 발생: 40001: Invalid parameter\n",
      "Embedding API Error. 오류 발생: 40001: Invalid parameter\n",
      "Embedding API Error. 오류 발생: 40001: Invalid parameter\n",
      "Embedding API Error. 오류 발생: 40001: Invalid parameter\n"
     ]
    },
    {
     "name": "stderr",
     "output_type": "stream",
     "text": [
      " 70%|███████   | 570/814 [00:24<00:12, 20.31it/s]"
     ]
    },
    {
     "name": "stdout",
     "output_type": "stream",
     "text": [
      "Embedding API Error. 오류 발생: 40001: Invalid parameter\n",
      "Embedding API Error. 오류 발생: 40001: Invalid parameter\n",
      "Embedding API Error. 오류 발생: 40001: Invalid parameter\n",
      "Embedding API Error. 오류 발생: 40001: Invalid parameter\n",
      "Embedding API Error. 오류 발생: 40001: Invalid parameter\n",
      "Embedding API Error. 오류 발생: 40001: Invalid parameter\n"
     ]
    },
    {
     "name": "stderr",
     "output_type": "stream",
     "text": [
      " 71%|███████   | 576/814 [00:24<00:10, 23.78it/s]"
     ]
    },
    {
     "name": "stdout",
     "output_type": "stream",
     "text": [
      "Embedding API Error. 오류 발생: 40001: Invalid parameter\n",
      "Embedding API Error. 오류 발생: 40001: Invalid parameter\n",
      "Embedding API Error. 오류 발생: 40001: Invalid parameter\n",
      "Embedding API Error. 오류 발생: 40001: Invalid parameter\n",
      "Embedding API Error. 오류 발생: 40001: Invalid parameter\n",
      "Embedding API Error. 오류 발생: 40001: Invalid parameter\n"
     ]
    },
    {
     "name": "stderr",
     "output_type": "stream",
     "text": [
      " 71%|███████▏  | 582/814 [00:24<00:09, 25.72it/s]"
     ]
    },
    {
     "name": "stdout",
     "output_type": "stream",
     "text": [
      "Embedding API Error. 오류 발생: 40001: Invalid parameter\n",
      "Embedding API Error. 오류 발생: 40001: Invalid parameter\n",
      "Embedding API Error. 오류 발생: 40001: Invalid parameter\n",
      "Embedding API Error. 오류 발생: 40001: Invalid parameter\n",
      "Embedding API Error. 오류 발생: 40001: Invalid parameter\n",
      "Embedding API Error. 오류 발생: 40001: Invalid parameter\n"
     ]
    },
    {
     "name": "stderr",
     "output_type": "stream",
     "text": [
      " 72%|███████▏  | 588/814 [00:25<00:08, 26.89it/s]"
     ]
    },
    {
     "name": "stdout",
     "output_type": "stream",
     "text": [
      "Embedding API Error. 오류 발생: 40001: Invalid parameter\n",
      "Embedding API Error. 오류 발생: 40001: Invalid parameter\n",
      "Embedding API Error. 오류 발생: 40001: Invalid parameter\n",
      "Embedding API Error. 오류 발생: 40001: Invalid parameter\n",
      "Embedding API Error. 오류 발생: 40001: Invalid parameter\n",
      "Embedding API Error. 오류 발생: 40001: Invalid parameter\n"
     ]
    },
    {
     "name": "stderr",
     "output_type": "stream",
     "text": [
      " 73%|███████▎  | 594/814 [00:25<00:08, 26.22it/s]"
     ]
    },
    {
     "name": "stdout",
     "output_type": "stream",
     "text": [
      "Embedding API Error. 오류 발생: 40001: Invalid parameter\n",
      "Embedding API Error. 오류 발생: 40001: Invalid parameter\n",
      "Embedding API Error. 오류 발생: 40001: Invalid parameter\n",
      "Embedding API Error. 오류 발생: 40001: Invalid parameter\n",
      "Embedding API Error. 오류 발생: 40001: Invalid parameter\n",
      "Embedding API Error. 오류 발생: 40001: Invalid parameter\n"
     ]
    },
    {
     "name": "stderr",
     "output_type": "stream",
     "text": [
      " 74%|███████▎  | 600/814 [00:25<00:07, 26.84it/s]"
     ]
    },
    {
     "name": "stdout",
     "output_type": "stream",
     "text": [
      "Embedding API Error. 오류 발생: 40001: Invalid parameter\n",
      "Embedding API Error. 오류 발생: 40001: Invalid parameter\n",
      "Embedding API Error. 오류 발생: 40001: Invalid parameter\n",
      "Embedding API Error. 오류 발생: 40001: Invalid parameter\n",
      "Embedding API Error. 오류 발생: 40001: Invalid parameter\n",
      "Embedding API Error. 오류 발생: 40001: Invalid parameter\n"
     ]
    },
    {
     "name": "stderr",
     "output_type": "stream",
     "text": [
      " 74%|███████▍  | 606/814 [00:25<00:07, 27.04it/s]"
     ]
    },
    {
     "name": "stdout",
     "output_type": "stream",
     "text": [
      "Embedding API Error. 오류 발생: 40001: Invalid parameter\n",
      "Embedding API Error. 오류 발생: 40001: Invalid parameter\n",
      "Embedding API Error. 오류 발생: 40001: Invalid parameter\n",
      "Embedding API Error. 오류 발생: 40001: Invalid parameter\n",
      "Embedding API Error. 오류 발생: 40001: Invalid parameter\n",
      "Embedding API Error. 오류 발생: 40001: Invalid parameter\n"
     ]
    },
    {
     "name": "stderr",
     "output_type": "stream",
     "text": [
      " 75%|███████▌  | 612/814 [00:25<00:07, 26.20it/s]"
     ]
    },
    {
     "name": "stdout",
     "output_type": "stream",
     "text": [
      "Embedding API Error. 오류 발생: 40001: Invalid parameter\n",
      "Embedding API Error. 오류 발생: 40001: Invalid parameter\n",
      "Embedding API Error. 오류 발생: 40001: Invalid parameter\n",
      "Embedding API Error. 오류 발생: 40001: Invalid parameter\n",
      "Embedding API Error. 오류 발생: 40001: Invalid parameter\n",
      "Embedding API Error. 오류 발생: 40001: Invalid parameter\n"
     ]
    },
    {
     "name": "stderr",
     "output_type": "stream",
     "text": [
      " 76%|███████▌  | 618/814 [00:26<00:07, 26.81it/s]"
     ]
    },
    {
     "name": "stdout",
     "output_type": "stream",
     "text": [
      "Embedding API Error. 오류 발생: 40001: Invalid parameter\n",
      "Embedding API Error. 오류 발생: 40001: Invalid parameter\n",
      "Embedding API Error. 오류 발생: 40001: Invalid parameter\n",
      "Embedding API Error. 오류 발생: 40001: Invalid parameter\n",
      "Embedding API Error. 오류 발생: 40001: Invalid parameter\n",
      "Embedding API Error. 오류 발생: 40001: Invalid parameter\n"
     ]
    },
    {
     "name": "stderr",
     "output_type": "stream",
     "text": [
      " 77%|███████▋  | 624/814 [00:26<00:07, 26.91it/s]"
     ]
    },
    {
     "name": "stdout",
     "output_type": "stream",
     "text": [
      "Embedding API Error. 오류 발생: 40001: Invalid parameter\n",
      "Embedding API Error. 오류 발생: 40001: Invalid parameter\n",
      "Embedding API Error. 오류 발생: 40001: Invalid parameter\n",
      "Embedding API Error. 오류 발생: 40001: Invalid parameter\n",
      "Embedding API Error. 오류 발생: 40001: Invalid parameter\n",
      "Embedding API Error. 오류 발생: 40001: Invalid parameter\n"
     ]
    },
    {
     "name": "stderr",
     "output_type": "stream",
     "text": [
      " 77%|███████▋  | 630/814 [00:26<00:06, 27.26it/s]"
     ]
    },
    {
     "name": "stdout",
     "output_type": "stream",
     "text": [
      "Embedding API Error. 오류 발생: 40001: Invalid parameter\n",
      "Embedding API Error. 오류 발생: 40001: Invalid parameter\n",
      "Embedding API Error. 오류 발생: 40001: Invalid parameter\n",
      "Embedding API Error. 오류 발생: 40001: Invalid parameter\n",
      "Embedding API Error. 오류 발생: 40001: Invalid parameter\n",
      "Embedding API Error. 오류 발생: 40001: Invalid parameter\n"
     ]
    },
    {
     "name": "stderr",
     "output_type": "stream",
     "text": [
      " 78%|███████▊  | 636/814 [00:26<00:06, 26.18it/s]"
     ]
    },
    {
     "name": "stdout",
     "output_type": "stream",
     "text": [
      "Embedding API Error. 오류 발생: 40001: Invalid parameter\n",
      "Embedding API Error. 오류 발생: 40001: Invalid parameter\n",
      "Embedding API Error. 오류 발생: 40001: Invalid parameter\n",
      "Embedding API Error. 오류 발생: 40001: Invalid parameter\n",
      "Embedding API Error. 오류 발생: 40001: Invalid parameter\n",
      "Embedding API Error. 오류 발생: 40001: Invalid parameter\n"
     ]
    },
    {
     "name": "stderr",
     "output_type": "stream",
     "text": [
      " 79%|███████▉  | 642/814 [00:27<00:06, 26.34it/s]"
     ]
    },
    {
     "name": "stdout",
     "output_type": "stream",
     "text": [
      "Embedding API Error. 오류 발생: 40001: Invalid parameter\n",
      "Embedding API Error. 오류 발생: 40001: Invalid parameter\n",
      "Embedding API Error. 오류 발생: 40001: Invalid parameter\n",
      "Embedding API Error. 오류 발생: 40001: Invalid parameter\n",
      "Embedding API Error. 오류 발생: 40001: Invalid parameter\n",
      "Embedding API Error. 오류 발생: 40001: Invalid parameter\n"
     ]
    },
    {
     "name": "stderr",
     "output_type": "stream",
     "text": [
      " 80%|███████▉  | 648/814 [00:27<00:06, 26.43it/s]"
     ]
    },
    {
     "name": "stdout",
     "output_type": "stream",
     "text": [
      "Embedding API Error. 오류 발생: 40001: Invalid parameter\n",
      "Embedding API Error. 오류 발생: 40001: Invalid parameter\n",
      "Embedding API Error. 오류 발생: 40001: Invalid parameter\n",
      "Embedding API Error. 오류 발생: 40001: Invalid parameter\n",
      "Embedding API Error. 오류 발생: 40001: Invalid parameter\n",
      "Embedding API Error. 오류 발생: 40001: Invalid parameter\n"
     ]
    },
    {
     "name": "stderr",
     "output_type": "stream",
     "text": [
      " 80%|████████  | 654/814 [00:27<00:06, 26.43it/s]"
     ]
    },
    {
     "name": "stdout",
     "output_type": "stream",
     "text": [
      "Embedding API Error. 오류 발생: 40001: Invalid parameter\n",
      "Embedding API Error. 오류 발생: 40001: Invalid parameter\n",
      "Embedding API Error. 오류 발생: 40001: Invalid parameter\n",
      "Embedding API Error. 오류 발생: 40001: Invalid parameter\n",
      "Embedding API Error. 오류 발생: 40001: Invalid parameter\n",
      "Embedding API Error. 오류 발생: 40001: Invalid parameter\n"
     ]
    },
    {
     "name": "stderr",
     "output_type": "stream",
     "text": [
      " 81%|████████  | 660/814 [00:27<00:05, 26.73it/s]"
     ]
    },
    {
     "name": "stdout",
     "output_type": "stream",
     "text": [
      "Embedding API Error. 오류 발생: 40001: Invalid parameter\n",
      "Embedding API Error. 오류 발생: 40001: Invalid parameter\n",
      "Embedding API Error. 오류 발생: 40001: Invalid parameter\n",
      "Embedding API Error. 오류 발생: 40001: Invalid parameter\n",
      "Embedding API Error. 오류 발생: 40001: Invalid parameter\n",
      "Embedding API Error. 오류 발생: 40001: Invalid parameter\n"
     ]
    },
    {
     "name": "stderr",
     "output_type": "stream",
     "text": [
      " 82%|████████▏ | 666/814 [00:27<00:05, 26.74it/s]"
     ]
    },
    {
     "name": "stdout",
     "output_type": "stream",
     "text": [
      "Embedding API Error. 오류 발생: 40001: Invalid parameter\n",
      "Embedding API Error. 오류 발생: 40001: Invalid parameter\n",
      "Embedding API Error. 오류 발생: 40001: Invalid parameter\n",
      "Embedding API Error. 오류 발생: 40001: Invalid parameter\n",
      "Embedding API Error. 오류 발생: 40001: Invalid parameter\n",
      "Embedding API Error. 오류 발생: 40001: Invalid parameter\n"
     ]
    },
    {
     "name": "stderr",
     "output_type": "stream",
     "text": [
      " 83%|████████▎ | 672/814 [00:28<00:05, 27.50it/s]"
     ]
    },
    {
     "name": "stdout",
     "output_type": "stream",
     "text": [
      "Embedding API Error. 오류 발생: 40001: Invalid parameter\n",
      "Embedding API Error. 오류 발생: 40001: Invalid parameter\n",
      "Embedding API Error. 오류 발생: 40001: Invalid parameter\n",
      "Embedding API Error. 오류 발생: 40001: Invalid parameter\n",
      "Embedding API Error. 오류 발생: 40001: Invalid parameter\n",
      "Embedding API Error. 오류 발생: 40001: Invalid parameter\n"
     ]
    },
    {
     "name": "stderr",
     "output_type": "stream",
     "text": [
      " 83%|████████▎ | 678/814 [00:28<00:05, 26.89it/s]"
     ]
    },
    {
     "name": "stdout",
     "output_type": "stream",
     "text": [
      "Embedding API Error. 오류 발생: 40001: Invalid parameter\n",
      "Embedding API Error. 오류 발생: 40001: Invalid parameter\n",
      "Embedding API Error. 오류 발생: 40001: Invalid parameter\n",
      "Embedding API Error. 오류 발생: 40001: Invalid parameter\n",
      "Embedding API Error. 오류 발생: 40001: Invalid parameter\n",
      "Embedding API Error. 오류 발생: 40001: Invalid parameter\n"
     ]
    },
    {
     "name": "stderr",
     "output_type": "stream",
     "text": [
      " 84%|████████▍ | 684/814 [00:28<00:04, 26.94it/s]"
     ]
    },
    {
     "name": "stdout",
     "output_type": "stream",
     "text": [
      "Embedding API Error. 오류 발생: 40001: Invalid parameter\n",
      "Embedding API Error. 오류 발생: 40001: Invalid parameter\n",
      "Embedding API Error. 오류 발생: 40001: Invalid parameter\n",
      "Embedding API Error. 오류 발생: 40001: Invalid parameter\n",
      "Embedding API Error. 오류 발생: 40001: Invalid parameter\n",
      "Embedding API Error. 오류 발생: 40001: Invalid parameter\n"
     ]
    },
    {
     "name": "stderr",
     "output_type": "stream",
     "text": [
      " 85%|████████▍ | 690/814 [00:28<00:04, 27.04it/s]"
     ]
    },
    {
     "name": "stdout",
     "output_type": "stream",
     "text": [
      "Embedding API Error. 오류 발생: 40001: Invalid parameter\n",
      "Embedding API Error. 오류 발생: 40001: Invalid parameter\n",
      "Embedding API Error. 오류 발생: 40001: Invalid parameter\n",
      "Embedding API Error. 오류 발생: 40001: Invalid parameter\n",
      "Embedding API Error. 오류 발생: 40001: Invalid parameter\n",
      "Embedding API Error. 오류 발생: 40001: Invalid parameter\n"
     ]
    },
    {
     "name": "stderr",
     "output_type": "stream",
     "text": [
      " 86%|████████▌ | 696/814 [00:29<00:04, 27.76it/s]"
     ]
    },
    {
     "name": "stdout",
     "output_type": "stream",
     "text": [
      "Embedding API Error. 오류 발생: 40001: Invalid parameter\n",
      "Embedding API Error. 오류 발생: 40001: Invalid parameter\n",
      "Embedding API Error. 오류 발생: 40001: Invalid parameter\n",
      "Embedding API Error. 오류 발생: 40001: Invalid parameter\n",
      "Embedding API Error. 오류 발생: 40001: Invalid parameter\n",
      "Embedding API Error. 오류 발생: 40001: Invalid parameter\n"
     ]
    },
    {
     "name": "stderr",
     "output_type": "stream",
     "text": [
      " 86%|████████▌ | 702/814 [00:29<00:04, 27.12it/s]"
     ]
    },
    {
     "name": "stdout",
     "output_type": "stream",
     "text": [
      "Embedding API Error. 오류 발생: 40001: Invalid parameter\n",
      "Embedding API Error. 오류 발생: 40001: Invalid parameter\n",
      "Embedding API Error. 오류 발생: 40001: Invalid parameter\n",
      "Embedding API Error. 오류 발생: 40001: Invalid parameter\n",
      "Embedding API Error. 오류 발생: 40001: Invalid parameter\n",
      "Embedding API Error. 오류 발생: 40001: Invalid parameter\n"
     ]
    },
    {
     "name": "stderr",
     "output_type": "stream",
     "text": [
      " 87%|████████▋ | 708/814 [00:29<00:03, 27.23it/s]"
     ]
    },
    {
     "name": "stdout",
     "output_type": "stream",
     "text": [
      "Embedding API Error. 오류 발생: 40001: Invalid parameter\n",
      "Embedding API Error. 오류 발생: 40001: Invalid parameter\n",
      "Embedding API Error. 오류 발생: 40001: Invalid parameter\n",
      "Embedding API Error. 오류 발생: 40001: Invalid parameter\n",
      "Embedding API Error. 오류 발생: 40001: Invalid parameter\n",
      "Embedding API Error. 오류 발생: 40001: Invalid parameter\n"
     ]
    },
    {
     "name": "stderr",
     "output_type": "stream",
     "text": [
      " 88%|████████▊ | 714/814 [00:29<00:03, 26.89it/s]"
     ]
    },
    {
     "name": "stdout",
     "output_type": "stream",
     "text": [
      "Embedding API Error. 오류 발생: 40001: Invalid parameter\n",
      "Embedding API Error. 오류 발생: 40001: Invalid parameter\n",
      "Embedding API Error. 오류 발생: 40001: Invalid parameter\n",
      "Embedding API Error. 오류 발생: 40001: Invalid parameter\n",
      "Embedding API Error. 오류 발생: 40001: Invalid parameter\n",
      "Embedding API Error. 오류 발생: 40001: Invalid parameter\n"
     ]
    },
    {
     "name": "stderr",
     "output_type": "stream",
     "text": [
      " 88%|████████▊ | 720/814 [00:29<00:03, 27.08it/s]"
     ]
    },
    {
     "name": "stdout",
     "output_type": "stream",
     "text": [
      "Embedding API Error. 오류 발생: 40001: Invalid parameter\n",
      "Embedding API Error. 오류 발생: 40001: Invalid parameter\n",
      "Embedding API Error. 오류 발생: 40001: Invalid parameter\n",
      "Embedding API Error. 오류 발생: 40001: Invalid parameter\n",
      "Embedding API Error. 오류 발생: 40001: Invalid parameter\n",
      "Embedding API Error. 오류 발생: 40001: Invalid parameter\n"
     ]
    },
    {
     "name": "stderr",
     "output_type": "stream",
     "text": [
      " 89%|████████▉ | 726/814 [00:30<00:03, 26.26it/s]"
     ]
    },
    {
     "name": "stdout",
     "output_type": "stream",
     "text": [
      "Embedding API Error. 오류 발생: 40001: Invalid parameter\n",
      "Embedding API Error. 오류 발생: 40001: Invalid parameter\n",
      "Embedding API Error. 오류 발생: 40001: Invalid parameter\n",
      "Embedding API Error. 오류 발생: 40001: Invalid parameter\n",
      "Embedding API Error. 오류 발생: 40001: Invalid parameter\n",
      "Embedding API Error. 오류 발생: 40001: Invalid parameter\n"
     ]
    },
    {
     "name": "stderr",
     "output_type": "stream",
     "text": [
      " 90%|████████▉ | 732/814 [00:30<00:03, 26.04it/s]"
     ]
    },
    {
     "name": "stdout",
     "output_type": "stream",
     "text": [
      "Embedding API Error. 오류 발생: 40001: Invalid parameter\n",
      "Embedding API Error. 오류 발생: 40001: Invalid parameter\n",
      "Embedding API Error. 오류 발생: 40001: Invalid parameter\n",
      "Embedding API Error. 오류 발생: 40001: Invalid parameter\n",
      "Embedding API Error. 오류 발생: 40001: Invalid parameter\n",
      "Embedding API Error. 오류 발생: 40001: Invalid parameter\n"
     ]
    },
    {
     "name": "stderr",
     "output_type": "stream",
     "text": [
      " 91%|█████████ | 738/814 [00:30<00:02, 26.99it/s]"
     ]
    },
    {
     "name": "stdout",
     "output_type": "stream",
     "text": [
      "Embedding API Error. 오류 발생: 40001: Invalid parameter\n",
      "Embedding API Error. 오류 발생: 40001: Invalid parameter\n",
      "Embedding API Error. 오류 발생: 40001: Invalid parameter\n",
      "Embedding API Error. 오류 발생: 40001: Invalid parameter\n",
      "Embedding API Error. 오류 발생: 40001: Invalid parameter\n",
      "Embedding API Error. 오류 발생: 40001: Invalid parameter\n"
     ]
    },
    {
     "name": "stderr",
     "output_type": "stream",
     "text": [
      " 91%|█████████▏| 744/814 [00:30<00:02, 25.98it/s]"
     ]
    },
    {
     "name": "stdout",
     "output_type": "stream",
     "text": [
      "Embedding API Error. 오류 발생: 40001: Invalid parameter\n",
      "Embedding API Error. 오류 발생: 40001: Invalid parameter\n",
      "Embedding API Error. 오류 발생: 40001: Invalid parameter\n",
      "Embedding API Error. 오류 발생: 40001: Invalid parameter\n",
      "Embedding API Error. 오류 발생: 40001: Invalid parameter\n",
      "Embedding API Error. 오류 발생: 40001: Invalid parameter\n"
     ]
    },
    {
     "name": "stderr",
     "output_type": "stream",
     "text": [
      " 92%|█████████▏| 750/814 [00:31<00:02, 26.85it/s]"
     ]
    },
    {
     "name": "stdout",
     "output_type": "stream",
     "text": [
      "Embedding API Error. 오류 발생: 40001: Invalid parameter\n",
      "Embedding API Error. 오류 발생: 40001: Invalid parameter\n",
      "Embedding API Error. 오류 발생: 40001: Invalid parameter\n",
      "Embedding API Error. 오류 발생: 40001: Invalid parameter\n",
      "Embedding API Error. 오류 발생: 40001: Invalid parameter\n",
      "Embedding API Error. 오류 발생: 40001: Invalid parameter\n"
     ]
    },
    {
     "name": "stderr",
     "output_type": "stream",
     "text": [
      " 93%|█████████▎| 756/814 [00:31<00:02, 27.24it/s]"
     ]
    },
    {
     "name": "stdout",
     "output_type": "stream",
     "text": [
      "Embedding API Error. 오류 발생: 40001: Invalid parameter\n",
      "Embedding API Error. 오류 발생: 40001: Invalid parameter\n",
      "Embedding API Error. 오류 발생: 40001: Invalid parameter\n",
      "Embedding API Error. 오류 발생: 40001: Invalid parameter\n",
      "Embedding API Error. 오류 발생: 40001: Invalid parameter\n",
      "Embedding API Error. 오류 발생: 40001: Invalid parameter\n"
     ]
    },
    {
     "name": "stderr",
     "output_type": "stream",
     "text": [
      " 93%|█████████▎| 759/814 [00:31<00:02, 26.61it/s]"
     ]
    },
    {
     "name": "stdout",
     "output_type": "stream",
     "text": [
      "Embedding API Error. 오류 발생: 40001: Invalid parameter\n",
      "Embedding API Error. 오류 발생: 40001: Invalid parameter\n",
      "Embedding API Error. 오류 발생: 40001: Invalid parameter\n",
      "Embedding API Error. 오류 발생: 40001: Invalid parameter\n",
      "Embedding API Error. 오류 발생: 40001: Invalid parameter\n",
      "Embedding API Error. 오류 발생: 40001: Invalid parameter\n"
     ]
    },
    {
     "name": "stderr",
     "output_type": "stream",
     "text": [
      " 94%|█████████▍| 768/814 [00:31<00:01, 26.59it/s]"
     ]
    },
    {
     "name": "stdout",
     "output_type": "stream",
     "text": [
      "Embedding API Error. 오류 발생: 40001: Invalid parameter\n",
      "Embedding API Error. 오류 발생: 40001: Invalid parameter\n",
      "Embedding API Error. 오류 발생: 40001: Invalid parameter\n",
      "Embedding API Error. 오류 발생: 40001: Invalid parameter\n",
      "Embedding API Error. 오류 발생: 40001: Invalid parameter\n",
      "Embedding API Error. 오류 발생: 40001: Invalid parameter\n"
     ]
    },
    {
     "name": "stderr",
     "output_type": "stream",
     "text": [
      " 95%|█████████▌| 774/814 [00:31<00:01, 26.36it/s]"
     ]
    },
    {
     "name": "stdout",
     "output_type": "stream",
     "text": [
      "Embedding API Error. 오류 발생: 40001: Invalid parameter\n",
      "Embedding API Error. 오류 발생: 40001: Invalid parameter\n",
      "Embedding API Error. 오류 발생: 40001: Invalid parameter\n",
      "Embedding API Error. 오류 발생: 40001: Invalid parameter\n",
      "Embedding API Error. 오류 발생: 40001: Invalid parameter\n",
      "Embedding API Error. 오류 발생: 40001: Invalid parameter\n"
     ]
    },
    {
     "name": "stderr",
     "output_type": "stream",
     "text": [
      " 95%|█████████▌| 777/814 [00:32<00:01, 26.83it/s]"
     ]
    },
    {
     "name": "stdout",
     "output_type": "stream",
     "text": [
      "Embedding API Error. 오류 발생: 40001: Invalid parameter\n",
      "Embedding API Error. 오류 발생: 40001: Invalid parameter\n",
      "Embedding API Error. 오류 발생: 40001: Invalid parameter\n",
      "Embedding API Error. 오류 발생: 40001: Invalid parameter\n",
      "Embedding API Error. 오류 발생: 40001: Invalid parameter\n"
     ]
    },
    {
     "name": "stderr",
     "output_type": "stream",
     "text": [
      " 96%|█████████▌| 783/814 [00:32<00:01, 23.45it/s]"
     ]
    },
    {
     "name": "stdout",
     "output_type": "stream",
     "text": [
      "Embedding API Error. 오류 발생: 40001: Invalid parameter\n",
      "Embedding API Error. 오류 발생: 40001: Invalid parameter\n",
      "Embedding API Error. 오류 발생: 40001: Invalid parameter\n",
      "Embedding API Error. 오류 발생: 40001: Invalid parameter\n",
      "Embedding API Error. 오류 발생: 40001: Invalid parameter\n",
      "Embedding API Error. 오류 발생: 40001: Invalid parameter\n"
     ]
    },
    {
     "name": "stderr",
     "output_type": "stream",
     "text": [
      " 97%|█████████▋| 789/814 [00:32<00:00, 25.15it/s]"
     ]
    },
    {
     "name": "stdout",
     "output_type": "stream",
     "text": [
      "Embedding API Error. 오류 발생: 40001: Invalid parameter\n",
      "Embedding API Error. 오류 발생: 40001: Invalid parameter\n",
      "Embedding API Error. 오류 발생: 40001: Invalid parameter\n",
      "Embedding API Error. 오류 발생: 40001: Invalid parameter\n",
      "Embedding API Error. 오류 발생: 40001: Invalid parameter\n",
      "Embedding API Error. 오류 발생: 40001: Invalid parameter\n"
     ]
    },
    {
     "name": "stderr",
     "output_type": "stream",
     "text": [
      " 98%|█████████▊| 795/814 [00:32<00:00, 25.91it/s]"
     ]
    },
    {
     "name": "stdout",
     "output_type": "stream",
     "text": [
      "Embedding API Error. 오류 발생: 40001: Invalid parameter\n",
      "Embedding API Error. 오류 발생: 40001: Invalid parameter\n",
      "Embedding API Error. 오류 발생: 40001: Invalid parameter\n",
      "Embedding API Error. 오류 발생: 40001: Invalid parameter\n",
      "Embedding API Error. 오류 발생: 40001: Invalid parameter\n",
      "Embedding API Error. 오류 발생: 40001: Invalid parameter\n"
     ]
    },
    {
     "name": "stderr",
     "output_type": "stream",
     "text": [
      " 98%|█████████▊| 801/814 [00:33<00:00, 26.55it/s]"
     ]
    },
    {
     "name": "stdout",
     "output_type": "stream",
     "text": [
      "Embedding API Error. 오류 발생: 40001: Invalid parameter\n",
      "Embedding API Error. 오류 발생: 40001: Invalid parameter\n",
      "Embedding API Error. 오류 발생: 40001: Invalid parameter\n",
      "Embedding API Error. 오류 발생: 40001: Invalid parameter\n",
      "Embedding API Error. 오류 발생: 40001: Invalid parameter\n",
      "Embedding API Error. 오류 발생: 40001: Invalid parameter\n"
     ]
    },
    {
     "name": "stderr",
     "output_type": "stream",
     "text": [
      " 99%|█████████▉| 807/814 [00:33<00:00, 25.87it/s]"
     ]
    },
    {
     "name": "stdout",
     "output_type": "stream",
     "text": [
      "Embedding API Error. 오류 발생: 40001: Invalid parameter\n",
      "Embedding API Error. 오류 발생: 40001: Invalid parameter\n",
      "Embedding API Error. 오류 발생: 40001: Invalid parameter\n",
      "Embedding API Error. 오류 발생: 40001: Invalid parameter\n",
      "Embedding API Error. 오류 발생: 40001: Invalid parameter\n",
      "Embedding API Error. 오류 발생: 40001: Invalid parameter\n"
     ]
    },
    {
     "name": "stderr",
     "output_type": "stream",
     "text": [
      "100%|██████████| 814/814 [00:33<00:00, 24.24it/s]"
     ]
    },
    {
     "name": "stdout",
     "output_type": "stream",
     "text": [
      "Embedding API Error. 오류 발생: 40001: Invalid parameter\n",
      "Embedding API Error. 오류 발생: 40001: Invalid parameter\n",
      "Embedding API Error. 오류 발생: 40001: Invalid parameter\n",
      "Embedding API Error. 오류 발생: 40001: Invalid parameter\n",
      "Embedding API Error. 오류 발생: 40001: Invalid parameter\n"
     ]
    },
    {
     "name": "stderr",
     "output_type": "stream",
     "text": [
      "\n"
     ]
    }
   ],
   "source": [
    "class EmbeddingExecutor:\n",
    "    def __init__(self, host, api_key, api_key_primary_val, request_id):\n",
    "        self._host = host\n",
    "        self._api_key = api_key\n",
    "        self._api_key_primary_val = api_key_primary_val\n",
    "        self._request_id = request_id\n",
    " \n",
    "    def _send_request(self, completion_request):\n",
    "        headers = {\n",
    "            \"Content-Type\": \"application/json; charset=utf-8\",\n",
    "            \"X-NCP-CLOVASTUDIO-API-KEY\": self._api_key,\n",
    "            \"X-NCP-APIGW-API-KEY\": self._api_key_primary_val,\n",
    "            \"X-NCP-CLOVASTUDIO-REQUEST-ID\": self._request_id\n",
    "        }\n",
    " \n",
    "        conn = http.client.HTTPSConnection(self._host)\n",
    "        conn.request(\n",
    "            \"POST\",\n",
    "            \"/testapp/v1/api-tools/embedding/v2/1d709412831147ecb213c7d0e3f3d373\", # If using Service App, change 'testapp' to 'serviceapp', and corresponding app id.\n",
    "            json.dumps(completion_request),\n",
    "            headers\n",
    "        )\n",
    "        response = conn.getresponse()\n",
    "        result = json.loads(response.read().decode(encoding=\"utf-8\"))\n",
    "        conn.close()\n",
    "        return result\n",
    " \n",
    "    def execute(self, completion_request):\n",
    "        res = self._send_request(completion_request)\n",
    "        if res[\"status\"][\"code\"] == \"20000\":\n",
    "            return res[\"result\"][\"embedding\"]\n",
    "        else:\n",
    "            error_code = res[\"status\"][\"code\"]\n",
    "            error_message = res.get(\"status\", {}).get(\"message\", \"Unknown error\")\n",
    "            raise ValueError(f\"오류 발생: {error_code}: {error_message}\")\n",
    " \n",
    " \n",
    "if __name__ == \"__main__\":\n",
    "    embedding_executor = EmbeddingExecutor(\n",
    "        host=\"clovastudio.stream.ntruss.com\",\n",
    "        api_key='NTA0MjU2MWZlZTcxNDJiY9olvu8DfBGDWQ20qeVZrRupbxCgWcs/59xl7cuRCJQ/',\n",
    "        api_key_primary_val='J97Kg6j6Nrc14yhuSv1JfvgWlJ2qbcOKUsAS88BB',\n",
    "        request_id='d2d9b51b-aed7-4cf5-9a32-6f101d053352'\n",
    "    )\n",
    " \n",
    "    for i, chunked_document in enumerate(tqdm(chunked_html)):\n",
    "        try:\n",
    "            request_json = {\n",
    "                \"text\": chunked_document['text']\n",
    "            }\n",
    "            request_json_string = json.dumps(request_json)\n",
    "            request_data = json.loads(request_json_string, strict=False)\n",
    "            response_data = embedding_executor.execute(request_data)\n",
    "        except ValueError as e:\n",
    "            print(f\"Embedding API Error. {e}\")\n",
    "        except Exception as e:\n",
    "            print(f\"Unexpected error: {e}\")\n",
    "         \n",
    "        chunked_document[\"embedding\"] = response_data"
   ]
  },
  {
   "cell_type": "code",
   "execution_count": 13,
   "metadata": {},
   "outputs": [
    {
     "name": "stdout",
     "output_type": "stream",
     "text": [
      "임베딩된 벡터들의 차원: {110}\n"
     ]
    }
   ],
   "source": [
    "dimension_set = set()\n",
    " \n",
    "for item in chunked_html:\n",
    "    if \"embedding\" in item:\n",
    "        dimension = len(item[\"embedding\"])\n",
    "        dimension_set.add(dimension)\n",
    " \n",
    "print(\"임베딩된 벡터들의 차원:\", dimension_set)"
   ]
  },
  {
   "cell_type": "markdown",
   "metadata": {},
   "source": [
    "#### 4. Vector DB\n",
    "\n",
    "CLOVA Studio의 임베딩 API를 활용하여 모든 chunked_의 text를 1024차원의 벡터로 변환한 후, 'embedding'이라는 이름의 객체로 chunked_html에 추가해 주었습니다. 이제 이 데이터를 Vector DB에 저장하고, 인덱싱을 하는 단계입니다. Vector DB로는 Milvus를 사용하였으며, 대시보드는 Docker를 사용하여 DB를 켜고(Run) 끄는(Stop) 작업을 수행하였습니다."
   ]
  }
 ],
 "metadata": {
  "kernelspec": {
   "display_name": "torch-gpu",
   "language": "python",
   "name": "python3"
  },
  "language_info": {
   "codemirror_mode": {
    "name": "ipython",
    "version": 3
   },
   "file_extension": ".py",
   "mimetype": "text/x-python",
   "name": "python",
   "nbconvert_exporter": "python",
   "pygments_lexer": "ipython3",
   "version": "3.12.2"
  }
 },
 "nbformat": 4,
 "nbformat_minor": 2
}
