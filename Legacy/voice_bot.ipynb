{
 "cells": [
  {
   "cell_type": "code",
   "execution_count": 3,
   "metadata": {},
   "outputs": [],
   "source": [
    "import os\n",
    "import sys\n",
    "from dotenv import load_dotenv\n",
    "import textwrap\n",
    "from IPython.display import display\n",
    "from IPython.display import Markdown\n",
    "\n",
    "load_dotenv()\n",
    "OPENAI_API_KEY = os.getenv(\"OPENAI_API_KEY\")\n",
    "AZURE_OPENAI_ENDPOINT = os.getenv(\"AZURE_OPENAI_ENDPOINT\")\n",
    "AZURE_OPENAI_API_KEY= os.getenv(\"AZURE_OPENAI_API_KEY\")\n",
    "def to_markdown(text):\n",
    "  text = text.replace('•', '  *')\n",
    "  return Markdown(textwrap.indent(text, '> ', predicate=lambda _: True))\n"
   ]
  },
  {
   "cell_type": "code",
   "execution_count": 8,
   "metadata": {},
   "outputs": [
    {
     "name": "stderr",
     "output_type": "stream",
     "text": [
      "/tmp/ipykernel_21916/1579316434.py:12: DeprecationWarning: Due to a bug, this method doesn't actually stream the response content, `.with_streaming_response.method()` should be used instead\n",
      "  response.stream_to_file(speech_file_path)\n"
     ]
    }
   ],
   "source": [
    "from pathlib import Path\n",
    "import openai\n",
    "openai.api_type=\"openai\"\n",
    "api_key=OPENAI_API_KEY\n",
    "speech_file_path = \"speech.mp3\"\n",
    "response = openai.audio.speech.create(\n",
    "\n",
    "  model=\"tts-1\",\n",
    "  voice=\"nova\",\n",
    "  input=\"안녕하세요? 원하시는 서비스를 말씀해주세요!\"\n",
    ")\n",
    "response.stream_to_file(speech_file_path)\n"
   ]
  },
  {
   "cell_type": "markdown",
   "metadata": {},
   "source": [
    "#### Streaming real time audio"
   ]
  },
  {
   "cell_type": "markdown",
   "metadata": {},
   "source": [
    "https://platform.openai.com/docs/guides/text-to-speech/streaming-real-time-audio"
   ]
  },
  {
   "cell_type": "markdown",
   "metadata": {},
   "source": [
    "## voice class"
   ]
  },
  {
   "cell_type": "markdown",
   "metadata": {},
   "source": [
    "### STT -> TTS 순으로 개발\n",
    "\n",
    "Text To Text\n",
    "\n",
    "Speech To Text"
   ]
  },
  {
   "cell_type": "markdown",
   "metadata": {},
   "source": [
    "### TTS"
   ]
  },
  {
   "cell_type": "code",
   "execution_count": 1,
   "metadata": {},
   "outputs": [
    {
     "name": "stderr",
     "output_type": "stream",
     "text": [
      "/tmp/ipykernel_36697/572254350.py:24: DeprecationWarning: Due to a bug, this method doesn't actually stream the response content, `.with_streaming_response.method()` should be used instead\n",
      "  response.stream_to_file(\"output.mp3\")\n"
     ]
    }
   ],
   "source": [
    "from openai import OpenAI\n",
    "\n",
    "client = OpenAI()\n",
    "#api 호출\n",
    "#audio 저장\n",
    "text_input=\"\"\"학사 안내\n",
    "학적에 대한 답변\n",
    "자퇴는 학생이 자발적으로 학교를 그만두는 것을 말합니다. 자퇴를 신청하려면 학사관리팀에 자퇴 신청서를 제출해야 하며,\n",
    "자퇴가 승인되면 학적이 말소됩니다. 자퇴 후 재입학을 원할 경우, 재입학 절차를 따르게 됩니다.\n",
    "자퇴에 대해서 주의할 점은 자퇴 후에는 학적이 말소되어 학업을 이어나갈 수 없으며, 재입학을 원할 경우에는 별도의 절차를 거쳐야 한다는 것입니다.\n",
    "\n",
    "수강에 대한 답변\n",
    "계절수업은 정규 학기 외에 여름방학과 겨울방학 동안 진행되는 수업을 말합니다. 계절수업은 학점 취득을 위해 개설되며, 학생들은 이를 통해 학점을 추가로 취득할 수 있습니다.\n",
    "\n",
    "계절수업은 정규 학기와 동일한 방식으로 진행되며, 수강신청, 강의평가, 시험 및 성적 평가 등이 포함됩니다. 계절수업을 통해 학점을 취득하면 졸업 요건을 충족하는 데 도움이 됩니다.\n",
    "\n",
    "계절수업에 대해서 주의할 점은 수강신청 기간과 수업 일정이 정규 학기와 다르므로, 이를 미리 확인하고 준비해야 한다는 것입니다. 또한, 계절수업은 추가 비용이 발생할 수 있습니다.\"\"\"\n",
    "\n",
    "response = client.audio.speech.create(\n",
    "    model=\"tts-1\",\n",
    "    voice=\"alloy\",\n",
    "    input=text_input,\n",
    ")\n",
    "\n",
    "response.stream_to_file(\"output.mp3\")"
   ]
  },
  {
   "cell_type": "markdown",
   "metadata": {},
   "source": [
    "### STT"
   ]
  },
  {
   "cell_type": "markdown",
   "metadata": {},
   "source": []
  },
  {
   "cell_type": "code",
   "execution_count": 2,
   "metadata": {},
   "outputs": [
    {
     "name": "stdout",
     "output_type": "stream",
     "text": [
      "### Transcript Summary\n",
      "\n",
      "#### 학적에 대한 답변 (Academic Status Information)\n",
      "- **자퇴 (Withdrawal)**: \n",
      "  - 자퇴는 학생이 자발적으로 학교를 그만두는 것을 의미합니다.\n",
      "  - 자퇴를 신청하려면 학사 관리팀에 자퇴 신청서를 제출해야 하며, 승인되면 학적이 말소됩니다.\n",
      "  - 자퇴 후 재입학을 원할 경우, 별도의 재입학 절차를 따라야 합니다.\n",
      "  - 주의사항: 자퇴 후 학적이 말소되어 학업을 이어나갈 수 없으며, 재입학을 위해서는 별도의 절차가 필요합니다.\n",
      "\n",
      "#### 수강에 대한 답변 (Course Enrollment Information)\n",
      "- **계절 수업 (Seasonal Classes)**:\n",
      "  - 계절 수업은 여름방학과 겨울방학 동안 진행되는 수업으로, 학점 취득을 위해 개설됩니다.\n",
      "  - 정규학기와 동일한 방식으로 진행되며, 수강 신청, 강의평가, 시험 및 성적평가 등이 포함됩니다.\n",
      "  - 계절 수업을 통해 추가 학점을 취득하면 졸업 요건을 충족하는 데 도움이 됩니다.\n",
      "  - 주의사항: 수강 신청 기간과 수업 일정이 정규학기와 다르므로 미리 확인하고 준비해야 하며, 추가 비용이 발생할 수 있습니다.\n"
     ]
    }
   ],
   "source": [
    "client = OpenAI()\n",
    "audio_path=\"/home/user/khtml-ai-api/audio_data/output.mp3\"\n",
    "transcription = client.audio.transcriptions.create(\n",
    "    model=\"whisper-1\",\n",
    "    file=open(audio_path, \"rb\"),  \n",
    ")\n",
    "\n",
    "response = client.chat.completions.create(\n",
    "    model=\"gpt-4o\",\n",
    "    messages=[\n",
    "    {\"role\": \"system\", \"content\":\"\"\"You are generating a transcript summary. Create a summary of the provided transcription. Respond in Markdown.\"\"\"},\n",
    "    {\"role\": \"user\", \"content\": [\n",
    "        {\"type\": \"text\", \"text\": f\"The audio transcription is: {transcription.text}\"}\n",
    "        ],  \n",
    "    }\n",
    "    ],\n",
    "    temperature=0,\n",
    ")\n",
    "res=response.choices[0].message.content\n",
    "print(res)"
   ]
  },
  {
   "cell_type": "code",
   "execution_count": null,
   "metadata": {},
   "outputs": [],
   "source": []
  },
  {
   "cell_type": "markdown",
   "metadata": {},
   "source": []
  }
 ],
 "metadata": {
  "kernelspec": {
   "display_name": ".venv",
   "language": "python",
   "name": "python3"
  },
  "language_info": {
   "codemirror_mode": {
    "name": "ipython",
    "version": 3
   },
   "file_extension": ".py",
   "mimetype": "text/x-python",
   "name": "python",
   "nbconvert_exporter": "python",
   "pygments_lexer": "ipython3",
   "version": "3.11.8"
  }
 },
 "nbformat": 4,
 "nbformat_minor": 2
}
